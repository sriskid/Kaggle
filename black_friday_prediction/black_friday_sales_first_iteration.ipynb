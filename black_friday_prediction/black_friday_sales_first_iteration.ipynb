{
  "nbformat": 4,
  "nbformat_minor": 0,
  "metadata": {
    "colab": {
      "provenance": []
    },
    "kernelspec": {
      "name": "python3",
      "display_name": "Python 3"
    },
    "language_info": {
      "name": "python"
    },
    "gpuClass": "standard",
    "widgets": {
      "application/vnd.jupyter.widget-state+json": {
        "e7d953fb984e4e2597ef3f3dccbd005c": {
          "model_module": "@jupyter-widgets/controls",
          "model_name": "HBoxModel",
          "model_module_version": "1.5.0",
          "state": {
            "_dom_classes": [],
            "_model_module": "@jupyter-widgets/controls",
            "_model_module_version": "1.5.0",
            "_model_name": "HBoxModel",
            "_view_count": null,
            "_view_module": "@jupyter-widgets/controls",
            "_view_module_version": "1.5.0",
            "_view_name": "HBoxView",
            "box_style": "",
            "children": [
              "IPY_MODEL_ef3d1f55be9f4f988fa8547bd7ec94fe",
              "IPY_MODEL_12c3d0a567aa428287da6f4702482309",
              "IPY_MODEL_3f3b1370b561486ca3580d81a44e45de"
            ],
            "layout": "IPY_MODEL_275c3a3eeaaf478b9ae68b6b3ad2b9d3"
          }
        },
        "ef3d1f55be9f4f988fa8547bd7ec94fe": {
          "model_module": "@jupyter-widgets/controls",
          "model_name": "HTMLModel",
          "model_module_version": "1.5.0",
          "state": {
            "_dom_classes": [],
            "_model_module": "@jupyter-widgets/controls",
            "_model_module_version": "1.5.0",
            "_model_name": "HTMLModel",
            "_view_count": null,
            "_view_module": "@jupyter-widgets/controls",
            "_view_module_version": "1.5.0",
            "_view_name": "HTMLView",
            "description": "",
            "description_tooltip": null,
            "layout": "IPY_MODEL_574c7f50b13a48289331632e3a9d8042",
            "placeholder": "​",
            "style": "IPY_MODEL_92c141d7ae2c44e786c52b9537ca034c",
            "value": "100%"
          }
        },
        "12c3d0a567aa428287da6f4702482309": {
          "model_module": "@jupyter-widgets/controls",
          "model_name": "FloatProgressModel",
          "model_module_version": "1.5.0",
          "state": {
            "_dom_classes": [],
            "_model_module": "@jupyter-widgets/controls",
            "_model_module_version": "1.5.0",
            "_model_name": "FloatProgressModel",
            "_view_count": null,
            "_view_module": "@jupyter-widgets/controls",
            "_view_module_version": "1.5.0",
            "_view_name": "ProgressView",
            "bar_style": "success",
            "description": "",
            "description_tooltip": null,
            "layout": "IPY_MODEL_4d159c8fb54c4329851770d27d352f59",
            "max": 100,
            "min": 0,
            "orientation": "horizontal",
            "style": "IPY_MODEL_42c92bd6cf2f4cad97a2534c4dd28e30",
            "value": 100
          }
        },
        "3f3b1370b561486ca3580d81a44e45de": {
          "model_module": "@jupyter-widgets/controls",
          "model_name": "HTMLModel",
          "model_module_version": "1.5.0",
          "state": {
            "_dom_classes": [],
            "_model_module": "@jupyter-widgets/controls",
            "_model_module_version": "1.5.0",
            "_model_name": "HTMLModel",
            "_view_count": null,
            "_view_module": "@jupyter-widgets/controls",
            "_view_module_version": "1.5.0",
            "_view_name": "HTMLView",
            "description": "",
            "description_tooltip": null,
            "layout": "IPY_MODEL_bd307f071f4d4e87b580a67f83f68818",
            "placeholder": "​",
            "style": "IPY_MODEL_9496db1c1479457ebc0a8620863cfe5b",
            "value": " 100/100 [10:36&lt;00:00,  6.35s/it]"
          }
        },
        "275c3a3eeaaf478b9ae68b6b3ad2b9d3": {
          "model_module": "@jupyter-widgets/base",
          "model_name": "LayoutModel",
          "model_module_version": "1.2.0",
          "state": {
            "_model_module": "@jupyter-widgets/base",
            "_model_module_version": "1.2.0",
            "_model_name": "LayoutModel",
            "_view_count": null,
            "_view_module": "@jupyter-widgets/base",
            "_view_module_version": "1.2.0",
            "_view_name": "LayoutView",
            "align_content": null,
            "align_items": null,
            "align_self": null,
            "border": null,
            "bottom": null,
            "display": null,
            "flex": null,
            "flex_flow": null,
            "grid_area": null,
            "grid_auto_columns": null,
            "grid_auto_flow": null,
            "grid_auto_rows": null,
            "grid_column": null,
            "grid_gap": null,
            "grid_row": null,
            "grid_template_areas": null,
            "grid_template_columns": null,
            "grid_template_rows": null,
            "height": null,
            "justify_content": null,
            "justify_items": null,
            "left": null,
            "margin": null,
            "max_height": null,
            "max_width": null,
            "min_height": null,
            "min_width": null,
            "object_fit": null,
            "object_position": null,
            "order": null,
            "overflow": null,
            "overflow_x": null,
            "overflow_y": null,
            "padding": null,
            "right": null,
            "top": null,
            "visibility": null,
            "width": null
          }
        },
        "574c7f50b13a48289331632e3a9d8042": {
          "model_module": "@jupyter-widgets/base",
          "model_name": "LayoutModel",
          "model_module_version": "1.2.0",
          "state": {
            "_model_module": "@jupyter-widgets/base",
            "_model_module_version": "1.2.0",
            "_model_name": "LayoutModel",
            "_view_count": null,
            "_view_module": "@jupyter-widgets/base",
            "_view_module_version": "1.2.0",
            "_view_name": "LayoutView",
            "align_content": null,
            "align_items": null,
            "align_self": null,
            "border": null,
            "bottom": null,
            "display": null,
            "flex": null,
            "flex_flow": null,
            "grid_area": null,
            "grid_auto_columns": null,
            "grid_auto_flow": null,
            "grid_auto_rows": null,
            "grid_column": null,
            "grid_gap": null,
            "grid_row": null,
            "grid_template_areas": null,
            "grid_template_columns": null,
            "grid_template_rows": null,
            "height": null,
            "justify_content": null,
            "justify_items": null,
            "left": null,
            "margin": null,
            "max_height": null,
            "max_width": null,
            "min_height": null,
            "min_width": null,
            "object_fit": null,
            "object_position": null,
            "order": null,
            "overflow": null,
            "overflow_x": null,
            "overflow_y": null,
            "padding": null,
            "right": null,
            "top": null,
            "visibility": null,
            "width": null
          }
        },
        "92c141d7ae2c44e786c52b9537ca034c": {
          "model_module": "@jupyter-widgets/controls",
          "model_name": "DescriptionStyleModel",
          "model_module_version": "1.5.0",
          "state": {
            "_model_module": "@jupyter-widgets/controls",
            "_model_module_version": "1.5.0",
            "_model_name": "DescriptionStyleModel",
            "_view_count": null,
            "_view_module": "@jupyter-widgets/base",
            "_view_module_version": "1.2.0",
            "_view_name": "StyleView",
            "description_width": ""
          }
        },
        "4d159c8fb54c4329851770d27d352f59": {
          "model_module": "@jupyter-widgets/base",
          "model_name": "LayoutModel",
          "model_module_version": "1.2.0",
          "state": {
            "_model_module": "@jupyter-widgets/base",
            "_model_module_version": "1.2.0",
            "_model_name": "LayoutModel",
            "_view_count": null,
            "_view_module": "@jupyter-widgets/base",
            "_view_module_version": "1.2.0",
            "_view_name": "LayoutView",
            "align_content": null,
            "align_items": null,
            "align_self": null,
            "border": null,
            "bottom": null,
            "display": null,
            "flex": null,
            "flex_flow": null,
            "grid_area": null,
            "grid_auto_columns": null,
            "grid_auto_flow": null,
            "grid_auto_rows": null,
            "grid_column": null,
            "grid_gap": null,
            "grid_row": null,
            "grid_template_areas": null,
            "grid_template_columns": null,
            "grid_template_rows": null,
            "height": null,
            "justify_content": null,
            "justify_items": null,
            "left": null,
            "margin": null,
            "max_height": null,
            "max_width": null,
            "min_height": null,
            "min_width": null,
            "object_fit": null,
            "object_position": null,
            "order": null,
            "overflow": null,
            "overflow_x": null,
            "overflow_y": null,
            "padding": null,
            "right": null,
            "top": null,
            "visibility": null,
            "width": null
          }
        },
        "42c92bd6cf2f4cad97a2534c4dd28e30": {
          "model_module": "@jupyter-widgets/controls",
          "model_name": "ProgressStyleModel",
          "model_module_version": "1.5.0",
          "state": {
            "_model_module": "@jupyter-widgets/controls",
            "_model_module_version": "1.5.0",
            "_model_name": "ProgressStyleModel",
            "_view_count": null,
            "_view_module": "@jupyter-widgets/base",
            "_view_module_version": "1.2.0",
            "_view_name": "StyleView",
            "bar_color": null,
            "description_width": ""
          }
        },
        "bd307f071f4d4e87b580a67f83f68818": {
          "model_module": "@jupyter-widgets/base",
          "model_name": "LayoutModel",
          "model_module_version": "1.2.0",
          "state": {
            "_model_module": "@jupyter-widgets/base",
            "_model_module_version": "1.2.0",
            "_model_name": "LayoutModel",
            "_view_count": null,
            "_view_module": "@jupyter-widgets/base",
            "_view_module_version": "1.2.0",
            "_view_name": "LayoutView",
            "align_content": null,
            "align_items": null,
            "align_self": null,
            "border": null,
            "bottom": null,
            "display": null,
            "flex": null,
            "flex_flow": null,
            "grid_area": null,
            "grid_auto_columns": null,
            "grid_auto_flow": null,
            "grid_auto_rows": null,
            "grid_column": null,
            "grid_gap": null,
            "grid_row": null,
            "grid_template_areas": null,
            "grid_template_columns": null,
            "grid_template_rows": null,
            "height": null,
            "justify_content": null,
            "justify_items": null,
            "left": null,
            "margin": null,
            "max_height": null,
            "max_width": null,
            "min_height": null,
            "min_width": null,
            "object_fit": null,
            "object_position": null,
            "order": null,
            "overflow": null,
            "overflow_x": null,
            "overflow_y": null,
            "padding": null,
            "right": null,
            "top": null,
            "visibility": null,
            "width": null
          }
        },
        "9496db1c1479457ebc0a8620863cfe5b": {
          "model_module": "@jupyter-widgets/controls",
          "model_name": "DescriptionStyleModel",
          "model_module_version": "1.5.0",
          "state": {
            "_model_module": "@jupyter-widgets/controls",
            "_model_module_version": "1.5.0",
            "_model_name": "DescriptionStyleModel",
            "_view_count": null,
            "_view_module": "@jupyter-widgets/base",
            "_view_module_version": "1.2.0",
            "_view_name": "StyleView",
            "description_width": ""
          }
        }
      }
    }
  },
  "cells": [
    {
      "cell_type": "code",
      "source": [
        "# TODO: Fix both underfitting (loss value not low enough) and overfitting (Validation Score too high)"
      ],
      "metadata": {
        "id": "iOdeCKWcughB"
      },
      "execution_count": null,
      "outputs": []
    },
    {
      "cell_type": "code",
      "execution_count": 105,
      "metadata": {
        "id": "IO0i4lG4xozf"
      },
      "outputs": [],
      "source": [
        "import requests\n",
        "from pathlib import Path\n",
        "import requests\n",
        "\n",
        "import numpy as np\n",
        "import pandas as pd\n",
        "import matplotlib.pyplot as plt\n",
        "import seaborn as sns"
      ]
    },
    {
      "cell_type": "code",
      "source": [
        "data_path = Path(\"data/\")\n",
        "train_path = data_path / \"train\"\n",
        "\n",
        "if train_path.is_dir():\n",
        "  print(f\"{train_path} directory already exists....skipping download\")\n",
        "else:\n",
        "  print(f\"{train_path} does not exist, creating one....\")\n",
        "  train_path.mkdir(parents = True, exist_ok = True)\n",
        "\n",
        "with open(train_path / \"train.csv\", \"wb\") as f:\n",
        "  request = requests.get(\"https://github.com/sriskid/Kaggle/raw/main/black_friday_prediction/train_oSwQCTC/train.csv\")\n",
        "  print(\"Downloading training data....\")\n",
        "  f.write(request.content)"
      ],
      "metadata": {
        "colab": {
          "base_uri": "https://localhost:8080/"
        },
        "id": "O7msSGwmxp0g",
        "outputId": "44ff156f-83f0-4600-a0e4-b89148a2f94b"
      },
      "execution_count": 2,
      "outputs": [
        {
          "output_type": "stream",
          "name": "stdout",
          "text": [
            "data/train does not exist, creating one....\n",
            "Downloading training data....\n"
          ]
        }
      ]
    },
    {
      "cell_type": "code",
      "source": [
        "train_data = pd.read_csv(train_path / \"train.csv\")"
      ],
      "metadata": {
        "id": "WBmwU_Hbxvnl"
      },
      "execution_count": 3,
      "outputs": []
    },
    {
      "cell_type": "code",
      "source": [
        "train_data"
      ],
      "metadata": {
        "colab": {
          "base_uri": "https://localhost:8080/",
          "height": 626
        },
        "id": "E08gexPqytJB",
        "outputId": "5f2bc803-0362-4535-d3a1-0e11f519e1b2"
      },
      "execution_count": 4,
      "outputs": [
        {
          "output_type": "execute_result",
          "data": {
            "text/plain": [
              "        User_ID Product_ID Gender    Age  Occupation City_Category  \\\n",
              "0       1000001  P00069042      F   0-17          10             A   \n",
              "1       1000001  P00248942      F   0-17          10             A   \n",
              "2       1000001  P00087842      F   0-17          10             A   \n",
              "3       1000001  P00085442      F   0-17          10             A   \n",
              "4       1000002  P00285442      M    55+          16             C   \n",
              "...         ...        ...    ...    ...         ...           ...   \n",
              "550063  1006033  P00372445      M  51-55          13             B   \n",
              "550064  1006035  P00375436      F  26-35           1             C   \n",
              "550065  1006036  P00375436      F  26-35          15             B   \n",
              "550066  1006038  P00375436      F    55+           1             C   \n",
              "550067  1006039  P00371644      F  46-50           0             B   \n",
              "\n",
              "       Stay_In_Current_City_Years  Marital_Status  Product_Category_1  \\\n",
              "0                               2               0                   3   \n",
              "1                               2               0                   1   \n",
              "2                               2               0                  12   \n",
              "3                               2               0                  12   \n",
              "4                              4+               0                   8   \n",
              "...                           ...             ...                 ...   \n",
              "550063                          1               1                  20   \n",
              "550064                          3               0                  20   \n",
              "550065                         4+               1                  20   \n",
              "550066                          2               0                  20   \n",
              "550067                         4+               1                  20   \n",
              "\n",
              "        Product_Category_2  Product_Category_3  Purchase  \n",
              "0                      NaN                 NaN      8370  \n",
              "1                      6.0                14.0     15200  \n",
              "2                      NaN                 NaN      1422  \n",
              "3                     14.0                 NaN      1057  \n",
              "4                      NaN                 NaN      7969  \n",
              "...                    ...                 ...       ...  \n",
              "550063                 NaN                 NaN       368  \n",
              "550064                 NaN                 NaN       371  \n",
              "550065                 NaN                 NaN       137  \n",
              "550066                 NaN                 NaN       365  \n",
              "550067                 NaN                 NaN       490  \n",
              "\n",
              "[550068 rows x 12 columns]"
            ],
            "text/html": [
              "\n",
              "  <div id=\"df-ce5ef9c0-ea0b-4134-85b3-b33353d90271\">\n",
              "    <div class=\"colab-df-container\">\n",
              "      <div>\n",
              "<style scoped>\n",
              "    .dataframe tbody tr th:only-of-type {\n",
              "        vertical-align: middle;\n",
              "    }\n",
              "\n",
              "    .dataframe tbody tr th {\n",
              "        vertical-align: top;\n",
              "    }\n",
              "\n",
              "    .dataframe thead th {\n",
              "        text-align: right;\n",
              "    }\n",
              "</style>\n",
              "<table border=\"1\" class=\"dataframe\">\n",
              "  <thead>\n",
              "    <tr style=\"text-align: right;\">\n",
              "      <th></th>\n",
              "      <th>User_ID</th>\n",
              "      <th>Product_ID</th>\n",
              "      <th>Gender</th>\n",
              "      <th>Age</th>\n",
              "      <th>Occupation</th>\n",
              "      <th>City_Category</th>\n",
              "      <th>Stay_In_Current_City_Years</th>\n",
              "      <th>Marital_Status</th>\n",
              "      <th>Product_Category_1</th>\n",
              "      <th>Product_Category_2</th>\n",
              "      <th>Product_Category_3</th>\n",
              "      <th>Purchase</th>\n",
              "    </tr>\n",
              "  </thead>\n",
              "  <tbody>\n",
              "    <tr>\n",
              "      <th>0</th>\n",
              "      <td>1000001</td>\n",
              "      <td>P00069042</td>\n",
              "      <td>F</td>\n",
              "      <td>0-17</td>\n",
              "      <td>10</td>\n",
              "      <td>A</td>\n",
              "      <td>2</td>\n",
              "      <td>0</td>\n",
              "      <td>3</td>\n",
              "      <td>NaN</td>\n",
              "      <td>NaN</td>\n",
              "      <td>8370</td>\n",
              "    </tr>\n",
              "    <tr>\n",
              "      <th>1</th>\n",
              "      <td>1000001</td>\n",
              "      <td>P00248942</td>\n",
              "      <td>F</td>\n",
              "      <td>0-17</td>\n",
              "      <td>10</td>\n",
              "      <td>A</td>\n",
              "      <td>2</td>\n",
              "      <td>0</td>\n",
              "      <td>1</td>\n",
              "      <td>6.0</td>\n",
              "      <td>14.0</td>\n",
              "      <td>15200</td>\n",
              "    </tr>\n",
              "    <tr>\n",
              "      <th>2</th>\n",
              "      <td>1000001</td>\n",
              "      <td>P00087842</td>\n",
              "      <td>F</td>\n",
              "      <td>0-17</td>\n",
              "      <td>10</td>\n",
              "      <td>A</td>\n",
              "      <td>2</td>\n",
              "      <td>0</td>\n",
              "      <td>12</td>\n",
              "      <td>NaN</td>\n",
              "      <td>NaN</td>\n",
              "      <td>1422</td>\n",
              "    </tr>\n",
              "    <tr>\n",
              "      <th>3</th>\n",
              "      <td>1000001</td>\n",
              "      <td>P00085442</td>\n",
              "      <td>F</td>\n",
              "      <td>0-17</td>\n",
              "      <td>10</td>\n",
              "      <td>A</td>\n",
              "      <td>2</td>\n",
              "      <td>0</td>\n",
              "      <td>12</td>\n",
              "      <td>14.0</td>\n",
              "      <td>NaN</td>\n",
              "      <td>1057</td>\n",
              "    </tr>\n",
              "    <tr>\n",
              "      <th>4</th>\n",
              "      <td>1000002</td>\n",
              "      <td>P00285442</td>\n",
              "      <td>M</td>\n",
              "      <td>55+</td>\n",
              "      <td>16</td>\n",
              "      <td>C</td>\n",
              "      <td>4+</td>\n",
              "      <td>0</td>\n",
              "      <td>8</td>\n",
              "      <td>NaN</td>\n",
              "      <td>NaN</td>\n",
              "      <td>7969</td>\n",
              "    </tr>\n",
              "    <tr>\n",
              "      <th>...</th>\n",
              "      <td>...</td>\n",
              "      <td>...</td>\n",
              "      <td>...</td>\n",
              "      <td>...</td>\n",
              "      <td>...</td>\n",
              "      <td>...</td>\n",
              "      <td>...</td>\n",
              "      <td>...</td>\n",
              "      <td>...</td>\n",
              "      <td>...</td>\n",
              "      <td>...</td>\n",
              "      <td>...</td>\n",
              "    </tr>\n",
              "    <tr>\n",
              "      <th>550063</th>\n",
              "      <td>1006033</td>\n",
              "      <td>P00372445</td>\n",
              "      <td>M</td>\n",
              "      <td>51-55</td>\n",
              "      <td>13</td>\n",
              "      <td>B</td>\n",
              "      <td>1</td>\n",
              "      <td>1</td>\n",
              "      <td>20</td>\n",
              "      <td>NaN</td>\n",
              "      <td>NaN</td>\n",
              "      <td>368</td>\n",
              "    </tr>\n",
              "    <tr>\n",
              "      <th>550064</th>\n",
              "      <td>1006035</td>\n",
              "      <td>P00375436</td>\n",
              "      <td>F</td>\n",
              "      <td>26-35</td>\n",
              "      <td>1</td>\n",
              "      <td>C</td>\n",
              "      <td>3</td>\n",
              "      <td>0</td>\n",
              "      <td>20</td>\n",
              "      <td>NaN</td>\n",
              "      <td>NaN</td>\n",
              "      <td>371</td>\n",
              "    </tr>\n",
              "    <tr>\n",
              "      <th>550065</th>\n",
              "      <td>1006036</td>\n",
              "      <td>P00375436</td>\n",
              "      <td>F</td>\n",
              "      <td>26-35</td>\n",
              "      <td>15</td>\n",
              "      <td>B</td>\n",
              "      <td>4+</td>\n",
              "      <td>1</td>\n",
              "      <td>20</td>\n",
              "      <td>NaN</td>\n",
              "      <td>NaN</td>\n",
              "      <td>137</td>\n",
              "    </tr>\n",
              "    <tr>\n",
              "      <th>550066</th>\n",
              "      <td>1006038</td>\n",
              "      <td>P00375436</td>\n",
              "      <td>F</td>\n",
              "      <td>55+</td>\n",
              "      <td>1</td>\n",
              "      <td>C</td>\n",
              "      <td>2</td>\n",
              "      <td>0</td>\n",
              "      <td>20</td>\n",
              "      <td>NaN</td>\n",
              "      <td>NaN</td>\n",
              "      <td>365</td>\n",
              "    </tr>\n",
              "    <tr>\n",
              "      <th>550067</th>\n",
              "      <td>1006039</td>\n",
              "      <td>P00371644</td>\n",
              "      <td>F</td>\n",
              "      <td>46-50</td>\n",
              "      <td>0</td>\n",
              "      <td>B</td>\n",
              "      <td>4+</td>\n",
              "      <td>1</td>\n",
              "      <td>20</td>\n",
              "      <td>NaN</td>\n",
              "      <td>NaN</td>\n",
              "      <td>490</td>\n",
              "    </tr>\n",
              "  </tbody>\n",
              "</table>\n",
              "<p>550068 rows × 12 columns</p>\n",
              "</div>\n",
              "      <button class=\"colab-df-convert\" onclick=\"convertToInteractive('df-ce5ef9c0-ea0b-4134-85b3-b33353d90271')\"\n",
              "              title=\"Convert this dataframe to an interactive table.\"\n",
              "              style=\"display:none;\">\n",
              "        \n",
              "  <svg xmlns=\"http://www.w3.org/2000/svg\" height=\"24px\"viewBox=\"0 0 24 24\"\n",
              "       width=\"24px\">\n",
              "    <path d=\"M0 0h24v24H0V0z\" fill=\"none\"/>\n",
              "    <path d=\"M18.56 5.44l.94 2.06.94-2.06 2.06-.94-2.06-.94-.94-2.06-.94 2.06-2.06.94zm-11 1L8.5 8.5l.94-2.06 2.06-.94-2.06-.94L8.5 2.5l-.94 2.06-2.06.94zm10 10l.94 2.06.94-2.06 2.06-.94-2.06-.94-.94-2.06-.94 2.06-2.06.94z\"/><path d=\"M17.41 7.96l-1.37-1.37c-.4-.4-.92-.59-1.43-.59-.52 0-1.04.2-1.43.59L10.3 9.45l-7.72 7.72c-.78.78-.78 2.05 0 2.83L4 21.41c.39.39.9.59 1.41.59.51 0 1.02-.2 1.41-.59l7.78-7.78 2.81-2.81c.8-.78.8-2.07 0-2.86zM5.41 20L4 18.59l7.72-7.72 1.47 1.35L5.41 20z\"/>\n",
              "  </svg>\n",
              "      </button>\n",
              "      \n",
              "  <style>\n",
              "    .colab-df-container {\n",
              "      display:flex;\n",
              "      flex-wrap:wrap;\n",
              "      gap: 12px;\n",
              "    }\n",
              "\n",
              "    .colab-df-convert {\n",
              "      background-color: #E8F0FE;\n",
              "      border: none;\n",
              "      border-radius: 50%;\n",
              "      cursor: pointer;\n",
              "      display: none;\n",
              "      fill: #1967D2;\n",
              "      height: 32px;\n",
              "      padding: 0 0 0 0;\n",
              "      width: 32px;\n",
              "    }\n",
              "\n",
              "    .colab-df-convert:hover {\n",
              "      background-color: #E2EBFA;\n",
              "      box-shadow: 0px 1px 2px rgba(60, 64, 67, 0.3), 0px 1px 3px 1px rgba(60, 64, 67, 0.15);\n",
              "      fill: #174EA6;\n",
              "    }\n",
              "\n",
              "    [theme=dark] .colab-df-convert {\n",
              "      background-color: #3B4455;\n",
              "      fill: #D2E3FC;\n",
              "    }\n",
              "\n",
              "    [theme=dark] .colab-df-convert:hover {\n",
              "      background-color: #434B5C;\n",
              "      box-shadow: 0px 1px 3px 1px rgba(0, 0, 0, 0.15);\n",
              "      filter: drop-shadow(0px 1px 2px rgba(0, 0, 0, 0.3));\n",
              "      fill: #FFFFFF;\n",
              "    }\n",
              "  </style>\n",
              "\n",
              "      <script>\n",
              "        const buttonEl =\n",
              "          document.querySelector('#df-ce5ef9c0-ea0b-4134-85b3-b33353d90271 button.colab-df-convert');\n",
              "        buttonEl.style.display =\n",
              "          google.colab.kernel.accessAllowed ? 'block' : 'none';\n",
              "\n",
              "        async function convertToInteractive(key) {\n",
              "          const element = document.querySelector('#df-ce5ef9c0-ea0b-4134-85b3-b33353d90271');\n",
              "          const dataTable =\n",
              "            await google.colab.kernel.invokeFunction('convertToInteractive',\n",
              "                                                     [key], {});\n",
              "          if (!dataTable) return;\n",
              "\n",
              "          const docLinkHtml = 'Like what you see? Visit the ' +\n",
              "            '<a target=\"_blank\" href=https://colab.research.google.com/notebooks/data_table.ipynb>data table notebook</a>'\n",
              "            + ' to learn more about interactive tables.';\n",
              "          element.innerHTML = '';\n",
              "          dataTable['output_type'] = 'display_data';\n",
              "          await google.colab.output.renderOutput(dataTable, element);\n",
              "          const docLink = document.createElement('div');\n",
              "          docLink.innerHTML = docLinkHtml;\n",
              "          element.appendChild(docLink);\n",
              "        }\n",
              "      </script>\n",
              "    </div>\n",
              "  </div>\n",
              "  "
            ]
          },
          "metadata": {},
          "execution_count": 4
        }
      ]
    },
    {
      "cell_type": "markdown",
      "source": [
        "# Exploratory Data Analysis"
      ],
      "metadata": {
        "id": "lrQHRTxPDV-7"
      }
    },
    {
      "cell_type": "markdown",
      "source": [
        "## Initial Data Visualization"
      ],
      "metadata": {
        "id": "w69JSdpQyxLu"
      }
    },
    {
      "cell_type": "code",
      "source": [
        "# Check for missign values\n",
        "train_data.isnull().sum()\n",
        "# The only missing values combe from product_category_2 and product_category_3"
      ],
      "metadata": {
        "colab": {
          "base_uri": "https://localhost:8080/"
        },
        "id": "lhVXfD3h2AYl",
        "outputId": "8e6139da-c9a8-46e1-9f32-38d0b4ba0446"
      },
      "execution_count": 5,
      "outputs": [
        {
          "output_type": "execute_result",
          "data": {
            "text/plain": [
              "User_ID                            0\n",
              "Product_ID                         0\n",
              "Gender                             0\n",
              "Age                                0\n",
              "Occupation                         0\n",
              "City_Category                      0\n",
              "Stay_In_Current_City_Years         0\n",
              "Marital_Status                     0\n",
              "Product_Category_1                 0\n",
              "Product_Category_2            173638\n",
              "Product_Category_3            383247\n",
              "Purchase                           0\n",
              "dtype: int64"
            ]
          },
          "metadata": {},
          "execution_count": 5
        }
      ]
    },
    {
      "cell_type": "code",
      "source": [
        "train_data.info()"
      ],
      "metadata": {
        "colab": {
          "base_uri": "https://localhost:8080/"
        },
        "id": "kcl5SQ2KEwNK",
        "outputId": "ab3fd3d9-f295-4637-e216-31f33a3dd9ab"
      },
      "execution_count": 6,
      "outputs": [
        {
          "output_type": "stream",
          "name": "stdout",
          "text": [
            "<class 'pandas.core.frame.DataFrame'>\n",
            "RangeIndex: 550068 entries, 0 to 550067\n",
            "Data columns (total 12 columns):\n",
            " #   Column                      Non-Null Count   Dtype  \n",
            "---  ------                      --------------   -----  \n",
            " 0   User_ID                     550068 non-null  int64  \n",
            " 1   Product_ID                  550068 non-null  object \n",
            " 2   Gender                      550068 non-null  object \n",
            " 3   Age                         550068 non-null  object \n",
            " 4   Occupation                  550068 non-null  int64  \n",
            " 5   City_Category               550068 non-null  object \n",
            " 6   Stay_In_Current_City_Years  550068 non-null  object \n",
            " 7   Marital_Status              550068 non-null  int64  \n",
            " 8   Product_Category_1          550068 non-null  int64  \n",
            " 9   Product_Category_2          376430 non-null  float64\n",
            " 10  Product_Category_3          166821 non-null  float64\n",
            " 11  Purchase                    550068 non-null  int64  \n",
            "dtypes: float64(2), int64(5), object(5)\n",
            "memory usage: 50.4+ MB\n"
          ]
        }
      ]
    },
    {
      "cell_type": "code",
      "source": [
        "categorical_columns = train_data.select_dtypes(include=object).columns.tolist()\n",
        "print(len(categorical_columns))"
      ],
      "metadata": {
        "colab": {
          "base_uri": "https://localhost:8080/"
        },
        "id": "gi9UU0EjVuLw",
        "outputId": "c67cd2b4-2d66-41dd-94e9-6e1d82e7ef86"
      },
      "execution_count": 7,
      "outputs": [
        {
          "output_type": "stream",
          "name": "stdout",
          "text": [
            "5\n"
          ]
        }
      ]
    },
    {
      "cell_type": "code",
      "source": [
        "categorical_columns"
      ],
      "metadata": {
        "colab": {
          "base_uri": "https://localhost:8080/"
        },
        "id": "O1obloUHWXET",
        "outputId": "59598fdb-3961-4383-ca28-9e919ab84977"
      },
      "execution_count": 8,
      "outputs": [
        {
          "output_type": "execute_result",
          "data": {
            "text/plain": [
              "['Product_ID', 'Gender', 'Age', 'City_Category', 'Stay_In_Current_City_Years']"
            ]
          },
          "metadata": {},
          "execution_count": 8
        }
      ]
    },
    {
      "cell_type": "code",
      "source": [
        "fig, axes = plt.subplots(nrows=2, ncols=3, figsize=(20, 20))\n",
        "for i, column in enumerate(categorical_columns):\n",
        "  sns.countplot(data = train_data, x = column, ax = axes[i // 3, i % 3])"
      ],
      "metadata": {
        "colab": {
          "base_uri": "https://localhost:8080/",
          "height": 1000
        },
        "id": "Zjsed1xoV42-",
        "outputId": "b3fec21a-add1-4000-a7b6-2f4eb96b9468"
      },
      "execution_count": 9,
      "outputs": [
        {
          "output_type": "display_data",
          "data": {
            "text/plain": [
              "<Figure size 1440x1440 with 6 Axes>"
            ],
            "image/png": "[encoded data removed]"
          },
          "metadata": {
            "needs_background": "light"
          }
        }
      ]
    },
    {
      "cell_type": "markdown",
      "source": [
        "From this plot we get a few useful pieces of information:\n",
        "\n",
        "\n",
        "*   There are far more men purchasing items than women, this could be due to a few reasons, namely there are far more products that appeal to men than women, or the products being bought are on behalf of their spouse and therefore the appeal of the item itself may not be for them.\n",
        "\n",
        "*   A huge number of purchases come from those age 26 - 35, meaning that the majority of products cater to this age range, or that they are buying for others. Furthermore, the age range with the least amount of purchasing are 0 - 17 and 55 +. This could be due to either the products not catering to them or that they are dependent on someone within the 26 - 35 range category to buy \n",
        "things for them\n",
        "\n",
        "*   People from City C made more purchases\n",
        "*   Poeple who have stayed in their city for a year made the most number of purchases\n",
        "\n",
        "\n",
        "\n"
      ],
      "metadata": {
        "id": "Iv2LAQ4wXSV2"
      }
    },
    {
      "cell_type": "code",
      "source": [
        "# Check the number of men making purchases based on their marital status\n",
        "sns.countplot(data = train_data, x = \"Gender\", hue = \"Marital_Status\")"
      ],
      "metadata": {
        "colab": {
          "base_uri": "https://localhost:8080/",
          "height": 296
        },
        "id": "EN0tK01A6PmZ",
        "outputId": "b08cdd7f-3c00-49d2-e0a2-b3a5022bbbfe"
      },
      "execution_count": 10,
      "outputs": [
        {
          "output_type": "execute_result",
          "data": {
            "text/plain": [
              "<AxesSubplot:xlabel='Gender', ylabel='count'>"
            ]
          },
          "metadata": {},
          "execution_count": 10
        },
        {
          "output_type": "display_data",
          "data": {
            "text/plain": [
              "<Figure size 432x288 with 1 Axes>"
            ],
            "image/png": "[encoded data removed]"
          },
          "metadata": {
            "needs_background": "light"
          }
        }
      ]
    },
    {
      "cell_type": "markdown",
      "source": [
        "From the above plot, we see that men and women make fewer purchases where they are married versus when they are not married. However, regardless of whether married or not, men made more purchases. "
      ],
      "metadata": {
        "id": "oFOUlhwmMd_k"
      }
    },
    {
      "cell_type": "code",
      "source": [
        "# Then in that case, let us check the age ranges that people are making purchases based on gender\n",
        "sns.countplot(data = train_data, x = \"Age\", hue = \"Gender\")"
      ],
      "metadata": {
        "colab": {
          "base_uri": "https://localhost:8080/",
          "height": 296
        },
        "id": "u6-uSeT6cJIh",
        "outputId": "755b27b1-e718-4d32-a485-3f3e908c8f4f"
      },
      "execution_count": 11,
      "outputs": [
        {
          "output_type": "execute_result",
          "data": {
            "text/plain": [
              "<AxesSubplot:xlabel='Age', ylabel='count'>"
            ]
          },
          "metadata": {},
          "execution_count": 11
        },
        {
          "output_type": "display_data",
          "data": {
            "text/plain": [
              "<Figure size 432x288 with 1 Axes>"
            ],
            "image/png": "[encoded data removed]"
          },
          "metadata": {
            "needs_background": "light"
          }
        }
      ]
    },
    {
      "cell_type": "markdown",
      "source": [
        "From this plot, we see that overall men make more purchases than women. In the range of 26 - 35 we see a huge increase in the number of purchases by men. This could be due to buying items for themselves, their spouse, or their children."
      ],
      "metadata": {
        "id": "J4DByW39cpCw"
      }
    },
    {
      "cell_type": "code",
      "source": [
        "# Check the Age Ranges Based off Marital Status\n",
        "sns.countplot(data = train_data, x = \"Age\", hue = \"Marital_Status\")"
      ],
      "metadata": {
        "colab": {
          "base_uri": "https://localhost:8080/",
          "height": 296
        },
        "id": "7Rkmi7_MeUe4",
        "outputId": "bc955a75-8bdc-4a47-899b-121a83c6814d"
      },
      "execution_count": 12,
      "outputs": [
        {
          "output_type": "execute_result",
          "data": {
            "text/plain": [
              "<AxesSubplot:xlabel='Age', ylabel='count'>"
            ]
          },
          "metadata": {},
          "execution_count": 12
        },
        {
          "output_type": "display_data",
          "data": {
            "text/plain": [
              "<Figure size 432x288 with 1 Axes>"
            ],
            "image/png": "[encoded data removed]"
          },
          "metadata": {
            "needs_background": "light"
          }
        }
      ]
    },
    {
      "cell_type": "markdown",
      "source": [
        "Looking at the breakdown of age ranges:\n",
        "\n",
        "\n",
        "*   Obviously those of age range 0 - 17 are not going to be married\n",
        "*   For the age range 26 - 35, those who are not married make more purchases\n",
        "* Across all married age ranges, those who are 26 - 35 make the most number of purchases\n",
        "\n"
      ],
      "metadata": {
        "id": "maxB-1x4ewuQ"
      }
    },
    {
      "cell_type": "code",
      "source": [
        "# Break down the ages by gender\n",
        "sns.barplot(data = train_data, x = \"Age\", y = \"Purchase\", hue = \"Gender\")"
      ],
      "metadata": {
        "colab": {
          "base_uri": "https://localhost:8080/",
          "height": 296
        },
        "id": "tbBzFRSVIp_Y",
        "outputId": "54448ebb-f077-40d3-f96c-22a34631e3e1"
      },
      "execution_count": 13,
      "outputs": [
        {
          "output_type": "execute_result",
          "data": {
            "text/plain": [
              "<AxesSubplot:xlabel='Age', ylabel='Purchase'>"
            ]
          },
          "metadata": {},
          "execution_count": 13
        },
        {
          "output_type": "display_data",
          "data": {
            "text/plain": [
              "<Figure size 432x288 with 1 Axes>"
            ],
            "image/png": "[encoded data removed]"
          },
          "metadata": {
            "needs_background": "light"
          }
        }
      ]
    },
    {
      "cell_type": "markdown",
      "source": [
        "The above plot shows that across all age ranges, men are spending the most "
      ],
      "metadata": {
        "id": "itjBa8FdJibp"
      }
    },
    {
      "cell_type": "code",
      "source": [
        "# Plot purchasing based on marital status\n",
        "sns.barplot(data = train_data, x = \"Marital_Status\", y = \"Purchase\", hue = \"Gender\")"
      ],
      "metadata": {
        "colab": {
          "base_uri": "https://localhost:8080/",
          "height": 297
        },
        "id": "lUFKNjGYLM0F",
        "outputId": "69997c2d-ff13-4ce6-e63d-0dc1cd534b39"
      },
      "execution_count": 14,
      "outputs": [
        {
          "output_type": "execute_result",
          "data": {
            "text/plain": [
              "<AxesSubplot:xlabel='Marital_Status', ylabel='Purchase'>"
            ]
          },
          "metadata": {},
          "execution_count": 14
        },
        {
          "output_type": "display_data",
          "data": {
            "text/plain": [
              "<Figure size 432x288 with 1 Axes>"
            ],
            "image/png": "[encoded data removed]"
          },
          "metadata": {
            "needs_background": "light"
          }
        }
      ]
    },
    {
      "cell_type": "markdown",
      "source": [
        "From the above we know that:\n",
        "\n",
        "\n",
        "*   On average men, spend more whether they are married or not\n",
        "\n"
      ],
      "metadata": {
        "id": "FZF9mwsFLZcj"
      }
    },
    {
      "cell_type": "code",
      "source": [
        "# Plot Purchase Amount Based on Age and discriminate based on Marital Status\n",
        "sns.barplot(data = train_data, x = \"Age\", y = \"Purchase\", hue = \"Marital_Status\")"
      ],
      "metadata": {
        "colab": {
          "base_uri": "https://localhost:8080/",
          "height": 297
        },
        "id": "BUJU1Gtb6wGh",
        "outputId": "cc7f7e84-34e8-473e-f5f8-e142c38bacb2"
      },
      "execution_count": 15,
      "outputs": [
        {
          "output_type": "execute_result",
          "data": {
            "text/plain": [
              "<AxesSubplot:xlabel='Age', ylabel='Purchase'>"
            ]
          },
          "metadata": {},
          "execution_count": 15
        },
        {
          "output_type": "display_data",
          "data": {
            "text/plain": [
              "<Figure size 432x288 with 1 Axes>"
            ],
            "image/png": "[encoded data removed]"
          },
          "metadata": {
            "needs_background": "light"
          }
        }
      ]
    },
    {
      "cell_type": "markdown",
      "source": [
        "Across all age ranges (except for 0 - 17), we see that those who are married or not married spent about the same amount of money on average"
      ],
      "metadata": {
        "id": "Yvmn5RMYKEGe"
      }
    },
    {
      "cell_type": "code",
      "source": [
        "sns.barplot(data = train_data, x = \"City_Category\", y = \"Purchase\")"
      ],
      "metadata": {
        "colab": {
          "base_uri": "https://localhost:8080/",
          "height": 297
        },
        "id": "VBukl1IgGVJq",
        "outputId": "b014460c-362e-48fc-98ee-98332dc5be63"
      },
      "execution_count": 16,
      "outputs": [
        {
          "output_type": "execute_result",
          "data": {
            "text/plain": [
              "<AxesSubplot:xlabel='City_Category', ylabel='Purchase'>"
            ]
          },
          "metadata": {},
          "execution_count": 16
        },
        {
          "output_type": "display_data",
          "data": {
            "text/plain": [
              "<Figure size 432x288 with 1 Axes>"
            ],
            "image/png": "[encoded data removed]"
          },
          "metadata": {
            "needs_background": "light"
          }
        }
      ]
    },
    {
      "cell_type": "markdown",
      "source": [
        "The above plot shows that people from City C spent the most"
      ],
      "metadata": {
        "id": "Ds_0x-eXGgF_"
      }
    },
    {
      "cell_type": "code",
      "source": [
        "# Plot the purchase amount by city dividing by gender\n",
        "sns.barplot(data = train_data, x = \"City_Category\", y = \"Purchase\", hue = \"Gender\")"
      ],
      "metadata": {
        "colab": {
          "base_uri": "https://localhost:8080/",
          "height": 297
        },
        "id": "ifKxC0ykApct",
        "outputId": "054d3e79-2272-481f-eb29-c5b2f7507c96"
      },
      "execution_count": 17,
      "outputs": [
        {
          "output_type": "execute_result",
          "data": {
            "text/plain": [
              "<AxesSubplot:xlabel='City_Category', ylabel='Purchase'>"
            ]
          },
          "metadata": {},
          "execution_count": 17
        },
        {
          "output_type": "display_data",
          "data": {
            "text/plain": [
              "<Figure size 432x288 with 1 Axes>"
            ],
            "image/png": "[encoded data removed]"
          },
          "metadata": {
            "needs_background": "light"
          }
        }
      ]
    },
    {
      "cell_type": "markdown",
      "source": [
        "If we break down the cities by gender, we see that specifically men from City C spent the most and that among all 3 cities, men spent the most."
      ],
      "metadata": {
        "id": "n6VaPwPDGl4w"
      }
    },
    {
      "cell_type": "code",
      "source": [
        "sns.barplot(data = train_data, x = \"Gender\", y = \"Purchase\")"
      ],
      "metadata": {
        "colab": {
          "base_uri": "https://localhost:8080/",
          "height": 296
        },
        "id": "CGy44OJ9GvrV",
        "outputId": "9a210021-124d-4cfd-df47-882ebf537708"
      },
      "execution_count": 18,
      "outputs": [
        {
          "output_type": "execute_result",
          "data": {
            "text/plain": [
              "<AxesSubplot:xlabel='Gender', ylabel='Purchase'>"
            ]
          },
          "metadata": {},
          "execution_count": 18
        },
        {
          "output_type": "display_data",
          "data": {
            "text/plain": [
              "<Figure size 432x288 with 1 Axes>"
            ],
            "image/png": "[encoded data removed]"
          },
          "metadata": {
            "needs_background": "light"
          }
        }
      ]
    },
    {
      "cell_type": "markdown",
      "source": [
        "As has been the case with the other plots, on average men spend more than women"
      ],
      "metadata": {
        "id": "pnKDLB77N32e"
      }
    },
    {
      "cell_type": "code",
      "source": [
        "sns.barplot(data = train_data, x = \"Gender\", y = \"Purchase\", hue = \"Marital_Status\")"
      ],
      "metadata": {
        "colab": {
          "base_uri": "https://localhost:8080/",
          "height": 296
        },
        "id": "jt5ncTJsVNcS",
        "outputId": "d0efd5ca-9187-4caa-aad2-23df9c64bca5"
      },
      "execution_count": 19,
      "outputs": [
        {
          "output_type": "execute_result",
          "data": {
            "text/plain": [
              "<AxesSubplot:xlabel='Gender', ylabel='Purchase'>"
            ]
          },
          "metadata": {},
          "execution_count": 19
        },
        {
          "output_type": "display_data",
          "data": {
            "text/plain": [
              "<Figure size 432x288 with 1 Axes>"
            ],
            "image/png": "[encoded data removed]"
          },
          "metadata": {
            "needs_background": "light"
          }
        }
      ]
    },
    {
      "cell_type": "markdown",
      "source": [
        "If we look at marital status, men and women spent roughly the same amount regardless of marital status, with men spending on average more. "
      ],
      "metadata": {
        "id": "6ZnG8dm4h-rO"
      }
    },
    {
      "cell_type": "markdown",
      "source": [
        "### Exploring Occupation"
      ],
      "metadata": {
        "id": "DhCgSi6DQyML"
      }
    },
    {
      "cell_type": "code",
      "source": [
        "# Plot counts of the different occupations to see which occupation has the highest count\n",
        "sns.countplot(x  = train_data[\"Occupation\"])"
      ],
      "metadata": {
        "colab": {
          "base_uri": "https://localhost:8080/",
          "height": 296
        },
        "id": "yk_qjYvAQzy3",
        "outputId": "c895e452-d79b-4f02-d2f5-d134687e8c26"
      },
      "execution_count": 20,
      "outputs": [
        {
          "output_type": "execute_result",
          "data": {
            "text/plain": [
              "<AxesSubplot:xlabel='Occupation', ylabel='count'>"
            ]
          },
          "metadata": {},
          "execution_count": 20
        },
        {
          "output_type": "display_data",
          "data": {
            "text/plain": [
              "<Figure size 432x288 with 1 Axes>"
            ],
            "image/png": "[encoded data removed]"
          },
          "metadata": {
            "needs_background": "light"
          }
        }
      ]
    },
    {
      "cell_type": "markdown",
      "source": [
        "From the above plot we see that those in occupation 0 and 4 appear the most in the data followed by those in occupation 3"
      ],
      "metadata": {
        "id": "vBmN3hPJQ_9-"
      }
    },
    {
      "cell_type": "code",
      "source": [
        "# Plot count of occupation based on gender\n",
        "sns.countplot(x  = train_data[\"Occupation\"], hue = train_data[\"Gender\"])"
      ],
      "metadata": {
        "colab": {
          "base_uri": "https://localhost:8080/",
          "height": 296
        },
        "id": "Phq8xrmkSX-P",
        "outputId": "c4aa6b69-1815-4290-ee71-65a256b05304"
      },
      "execution_count": 21,
      "outputs": [
        {
          "output_type": "execute_result",
          "data": {
            "text/plain": [
              "<AxesSubplot:xlabel='Occupation', ylabel='count'>"
            ]
          },
          "metadata": {},
          "execution_count": 21
        },
        {
          "output_type": "display_data",
          "data": {
            "text/plain": [
              "<Figure size 432x288 with 1 Axes>"
            ],
            "image/png": "[encoded data removed]"
          },
          "metadata": {
            "needs_background": "light"
          }
        }
      ]
    },
    {
      "cell_type": "markdown",
      "source": [
        "Across almost all occupations, there are more men than women except for occupation 9."
      ],
      "metadata": {
        "id": "5WWgJ4G4TF3y"
      }
    },
    {
      "cell_type": "code",
      "source": [
        "# Plot occupation to purchase amount\n",
        "sns.barplot(data = train_data, x = \"Occupation\", y = \"Purchase\")"
      ],
      "metadata": {
        "colab": {
          "base_uri": "https://localhost:8080/",
          "height": 296
        },
        "id": "ujDJh0icQ94o",
        "outputId": "f93ab220-0d29-48d2-83dc-f7ebeb721f35"
      },
      "execution_count": 22,
      "outputs": [
        {
          "output_type": "execute_result",
          "data": {
            "text/plain": [
              "<AxesSubplot:xlabel='Occupation', ylabel='Purchase'>"
            ]
          },
          "metadata": {},
          "execution_count": 22
        },
        {
          "output_type": "display_data",
          "data": {
            "text/plain": [
              "<Figure size 432x288 with 1 Axes>"
            ],
            "image/png": "[encoded data removed]"
          },
          "metadata": {
            "needs_background": "light"
          }
        }
      ]
    },
    {
      "cell_type": "markdown",
      "source": [
        "Overall across all occupations, the average purchase amount is relatively the same"
      ],
      "metadata": {
        "id": "H5JgmkLSRXr-"
      }
    },
    {
      "cell_type": "code",
      "source": [
        "# What if we discriminated the occupations based on gender\n",
        "sns.barplot(data = train_data, x = \"Occupation\", y = \"Purchase\", hue = \"Gender\")"
      ],
      "metadata": {
        "colab": {
          "base_uri": "https://localhost:8080/",
          "height": 296
        },
        "id": "iVixNz-DRQCS",
        "outputId": "e0af0616-992b-4176-99ad-8321ab1ad44b"
      },
      "execution_count": 23,
      "outputs": [
        {
          "output_type": "execute_result",
          "data": {
            "text/plain": [
              "<AxesSubplot:xlabel='Occupation', ylabel='Purchase'>"
            ]
          },
          "metadata": {},
          "execution_count": 23
        },
        {
          "output_type": "display_data",
          "data": {
            "text/plain": [
              "<Figure size 432x288 with 1 Axes>"
            ],
            "image/png": "[encoded data removed]"
          },
          "metadata": {
            "needs_background": "light"
          }
        }
      ]
    },
    {
      "cell_type": "markdown",
      "source": [
        "Across almost all occupations, men on average purchased more than women, however in occupation 18, we see that women spent far more than men. Furthermore, we see that the difference between men and women in spending across the different occupations is not that much compared to the large discrepancy between the number of men and women across the occupations (Occupation 18 has far more men than women and Occupation 9 has far more women than men, however men still had on average higher purchases)."
      ],
      "metadata": {
        "id": "aFpgljB4R0fl"
      }
    },
    {
      "cell_type": "markdown",
      "source": [
        " ## Cleaning up the Data"
      ],
      "metadata": {
        "id": "KXV4ekAITA4U"
      }
    },
    {
      "cell_type": "markdown",
      "source": [
        "Looking at the User_ID, of the data, we see that in some instances the same User_ID is making purchases, meaning that the customer is buying multiple items. We can filter the data to condense the unique User_IDs. "
      ],
      "metadata": {
        "id": "xtttBjN9iQ9_"
      }
    },
    {
      "cell_type": "code",
      "source": [
        "# Create a DataFrame of only the unique User_ID\n",
        "first_unique = train_data[train_data[\"User_ID\"] == train_data[\"User_ID\"].unique()[0]]\n",
        "all_unique = first_unique.head(1)\n",
        "all_unique[\"Purchase_Count\"] = list(first_unique.User_ID.value_counts())\n",
        "\n",
        "for ID in train_data[\"User_ID\"].unique()[1:]:\n",
        "  unique_id = train_data[train_data[\"User_ID\"] == ID].head(1)\n",
        "  count = list(train_data[train_data[\"User_ID\"] == ID].User_ID.value_counts())\n",
        "  unique_id[\"Purchase_Count\"] = count\n",
        "  all_unique = pd.concat([all_unique, unique_id]).reset_index(drop=True)\n",
        "all_unique.drop([\"Product_ID\", \"Product_Category_1\", \"Product_Category_2\", \"Product_Category_3\", \"Purchase\"], axis=1, inplace=True)"
      ],
      "metadata": {
        "id": "f0D2I0eziPUA",
        "colab": {
          "base_uri": "https://localhost:8080/"
        },
        "outputId": "a59b01a9-285e-46f5-ef6e-53ded158aa84"
      },
      "execution_count": 24,
      "outputs": [
        {
          "output_type": "stream",
          "name": "stderr",
          "text": [
            "<ipython-input-24-35a42c283480>:4: SettingWithCopyWarning: \n",
            "A value is trying to be set on a copy of a slice from a DataFrame.\n",
            "Try using .loc[row_indexer,col_indexer] = value instead\n",
            "\n",
            "See the caveats in the documentation: https://pandas.pydata.org/pandas-docs/stable/user_guide/indexing.html#returning-a-view-versus-a-copy\n",
            "  all_unique[\"Purchase_Count\"] = list(first_unique.User_ID.value_counts())\n"
          ]
        }
      ]
    },
    {
      "cell_type": "code",
      "source": [
        "all_unique.head()"
      ],
      "metadata": {
        "colab": {
          "base_uri": "https://localhost:8080/",
          "height": 206
        },
        "id": "MzQZlSmNfPS7",
        "outputId": "bcafbad0-b52f-42de-d513-0a28a6a6eff9"
      },
      "execution_count": 25,
      "outputs": [
        {
          "output_type": "execute_result",
          "data": {
            "text/plain": [
              "   User_ID Gender    Age  Occupation City_Category Stay_In_Current_City_Years  \\\n",
              "0  1000001      F   0-17          10             A                          2   \n",
              "1  1000002      M    55+          16             C                         4+   \n",
              "2  1000003      M  26-35          15             A                          3   \n",
              "3  1000004      M  46-50           7             B                          2   \n",
              "4  1000005      M  26-35          20             A                          1   \n",
              "\n",
              "   Marital_Status  Purchase_Count  \n",
              "0               0              35  \n",
              "1               0              77  \n",
              "2               0              29  \n",
              "3               1              14  \n",
              "4               1             106  "
            ],
            "text/html": [
              "\n",
              "  <div id=\"df-89a97ff0-ac95-4fa4-b683-5fa63690f9b0\">\n",
              "    <div class=\"colab-df-container\">\n",
              "      <div>\n",
              "<style scoped>\n",
              "    .dataframe tbody tr th:only-of-type {\n",
              "        vertical-align: middle;\n",
              "    }\n",
              "\n",
              "    .dataframe tbody tr th {\n",
              "        vertical-align: top;\n",
              "    }\n",
              "\n",
              "    .dataframe thead th {\n",
              "        text-align: right;\n",
              "    }\n",
              "</style>\n",
              "<table border=\"1\" class=\"dataframe\">\n",
              "  <thead>\n",
              "    <tr style=\"text-align: right;\">\n",
              "      <th></th>\n",
              "      <th>User_ID</th>\n",
              "      <th>Gender</th>\n",
              "      <th>Age</th>\n",
              "      <th>Occupation</th>\n",
              "      <th>City_Category</th>\n",
              "      <th>Stay_In_Current_City_Years</th>\n",
              "      <th>Marital_Status</th>\n",
              "      <th>Purchase_Count</th>\n",
              "    </tr>\n",
              "  </thead>\n",
              "  <tbody>\n",
              "    <tr>\n",
              "      <th>0</th>\n",
              "      <td>1000001</td>\n",
              "      <td>F</td>\n",
              "      <td>0-17</td>\n",
              "      <td>10</td>\n",
              "      <td>A</td>\n",
              "      <td>2</td>\n",
              "      <td>0</td>\n",
              "      <td>35</td>\n",
              "    </tr>\n",
              "    <tr>\n",
              "      <th>1</th>\n",
              "      <td>1000002</td>\n",
              "      <td>M</td>\n",
              "      <td>55+</td>\n",
              "      <td>16</td>\n",
              "      <td>C</td>\n",
              "      <td>4+</td>\n",
              "      <td>0</td>\n",
              "      <td>77</td>\n",
              "    </tr>\n",
              "    <tr>\n",
              "      <th>2</th>\n",
              "      <td>1000003</td>\n",
              "      <td>M</td>\n",
              "      <td>26-35</td>\n",
              "      <td>15</td>\n",
              "      <td>A</td>\n",
              "      <td>3</td>\n",
              "      <td>0</td>\n",
              "      <td>29</td>\n",
              "    </tr>\n",
              "    <tr>\n",
              "      <th>3</th>\n",
              "      <td>1000004</td>\n",
              "      <td>M</td>\n",
              "      <td>46-50</td>\n",
              "      <td>7</td>\n",
              "      <td>B</td>\n",
              "      <td>2</td>\n",
              "      <td>1</td>\n",
              "      <td>14</td>\n",
              "    </tr>\n",
              "    <tr>\n",
              "      <th>4</th>\n",
              "      <td>1000005</td>\n",
              "      <td>M</td>\n",
              "      <td>26-35</td>\n",
              "      <td>20</td>\n",
              "      <td>A</td>\n",
              "      <td>1</td>\n",
              "      <td>1</td>\n",
              "      <td>106</td>\n",
              "    </tr>\n",
              "  </tbody>\n",
              "</table>\n",
              "</div>\n",
              "      <button class=\"colab-df-convert\" onclick=\"convertToInteractive('df-89a97ff0-ac95-4fa4-b683-5fa63690f9b0')\"\n",
              "              title=\"Convert this dataframe to an interactive table.\"\n",
              "              style=\"display:none;\">\n",
              "        \n",
              "  <svg xmlns=\"http://www.w3.org/2000/svg\" height=\"24px\"viewBox=\"0 0 24 24\"\n",
              "       width=\"24px\">\n",
              "    <path d=\"M0 0h24v24H0V0z\" fill=\"none\"/>\n",
              "    <path d=\"M18.56 5.44l.94 2.06.94-2.06 2.06-.94-2.06-.94-.94-2.06-.94 2.06-2.06.94zm-11 1L8.5 8.5l.94-2.06 2.06-.94-2.06-.94L8.5 2.5l-.94 2.06-2.06.94zm10 10l.94 2.06.94-2.06 2.06-.94-2.06-.94-.94-2.06-.94 2.06-2.06.94z\"/><path d=\"M17.41 7.96l-1.37-1.37c-.4-.4-.92-.59-1.43-.59-.52 0-1.04.2-1.43.59L10.3 9.45l-7.72 7.72c-.78.78-.78 2.05 0 2.83L4 21.41c.39.39.9.59 1.41.59.51 0 1.02-.2 1.41-.59l7.78-7.78 2.81-2.81c.8-.78.8-2.07 0-2.86zM5.41 20L4 18.59l7.72-7.72 1.47 1.35L5.41 20z\"/>\n",
              "  </svg>\n",
              "      </button>\n",
              "      \n",
              "  <style>\n",
              "    .colab-df-container {\n",
              "      display:flex;\n",
              "      flex-wrap:wrap;\n",
              "      gap: 12px;\n",
              "    }\n",
              "\n",
              "    .colab-df-convert {\n",
              "      background-color: #E8F0FE;\n",
              "      border: none;\n",
              "      border-radius: 50%;\n",
              "      cursor: pointer;\n",
              "      display: none;\n",
              "      fill: #1967D2;\n",
              "      height: 32px;\n",
              "      padding: 0 0 0 0;\n",
              "      width: 32px;\n",
              "    }\n",
              "\n",
              "    .colab-df-convert:hover {\n",
              "      background-color: #E2EBFA;\n",
              "      box-shadow: 0px 1px 2px rgba(60, 64, 67, 0.3), 0px 1px 3px 1px rgba(60, 64, 67, 0.15);\n",
              "      fill: #174EA6;\n",
              "    }\n",
              "\n",
              "    [theme=dark] .colab-df-convert {\n",
              "      background-color: #3B4455;\n",
              "      fill: #D2E3FC;\n",
              "    }\n",
              "\n",
              "    [theme=dark] .colab-df-convert:hover {\n",
              "      background-color: #434B5C;\n",
              "      box-shadow: 0px 1px 3px 1px rgba(0, 0, 0, 0.15);\n",
              "      filter: drop-shadow(0px 1px 2px rgba(0, 0, 0, 0.3));\n",
              "      fill: #FFFFFF;\n",
              "    }\n",
              "  </style>\n",
              "\n",
              "      <script>\n",
              "        const buttonEl =\n",
              "          document.querySelector('#df-89a97ff0-ac95-4fa4-b683-5fa63690f9b0 button.colab-df-convert');\n",
              "        buttonEl.style.display =\n",
              "          google.colab.kernel.accessAllowed ? 'block' : 'none';\n",
              "\n",
              "        async function convertToInteractive(key) {\n",
              "          const element = document.querySelector('#df-89a97ff0-ac95-4fa4-b683-5fa63690f9b0');\n",
              "          const dataTable =\n",
              "            await google.colab.kernel.invokeFunction('convertToInteractive',\n",
              "                                                     [key], {});\n",
              "          if (!dataTable) return;\n",
              "\n",
              "          const docLinkHtml = 'Like what you see? Visit the ' +\n",
              "            '<a target=\"_blank\" href=https://colab.research.google.com/notebooks/data_table.ipynb>data table notebook</a>'\n",
              "            + ' to learn more about interactive tables.';\n",
              "          element.innerHTML = '';\n",
              "          dataTable['output_type'] = 'display_data';\n",
              "          await google.colab.output.renderOutput(dataTable, element);\n",
              "          const docLink = document.createElement('div');\n",
              "          docLink.innerHTML = docLinkHtml;\n",
              "          element.appendChild(docLink);\n",
              "        }\n",
              "      </script>\n",
              "    </div>\n",
              "  </div>\n",
              "  "
            ]
          },
          "metadata": {},
          "execution_count": 25
        }
      ]
    },
    {
      "cell_type": "markdown",
      "source": [
        "### Exploratory Data Analysis on the Unique IDs"
      ],
      "metadata": {
        "id": "tRoLQIFZfsDQ"
      }
    },
    {
      "cell_type": "code",
      "source": [
        "sns.countplot(data = all_unique, x = \"Gender\")"
      ],
      "metadata": {
        "colab": {
          "base_uri": "https://localhost:8080/",
          "height": 296
        },
        "id": "OAX0eS4Ef0J_",
        "outputId": "7ad99a40-258f-4a5f-8f5c-22be453bbc1c"
      },
      "execution_count": 26,
      "outputs": [
        {
          "output_type": "execute_result",
          "data": {
            "text/plain": [
              "<AxesSubplot:xlabel='Gender', ylabel='count'>"
            ]
          },
          "metadata": {},
          "execution_count": 26
        },
        {
          "output_type": "display_data",
          "data": {
            "text/plain": [
              "<Figure size 432x288 with 1 Axes>"
            ],
            "image/png": "[encoded data removed]"
          },
          "metadata": {
            "needs_background": "light"
          }
        }
      ]
    },
    {
      "cell_type": "markdown",
      "source": [
        "Among all Unique IDs, men make more purchases than women"
      ],
      "metadata": {
        "id": "_wtHNUfOiV85"
      }
    },
    {
      "cell_type": "code",
      "source": [
        "sns.countplot(data = all_unique, x = \"Age\", hue = \"Gender\")"
      ],
      "metadata": {
        "colab": {
          "base_uri": "https://localhost:8080/",
          "height": 296
        },
        "id": "vm4oR-kwiULk",
        "outputId": "2ca3e053-8baf-4102-c26b-cf776944d944"
      },
      "execution_count": 27,
      "outputs": [
        {
          "output_type": "execute_result",
          "data": {
            "text/plain": [
              "<AxesSubplot:xlabel='Age', ylabel='count'>"
            ]
          },
          "metadata": {},
          "execution_count": 27
        },
        {
          "output_type": "display_data",
          "data": {
            "text/plain": [
              "<Figure size 432x288 with 1 Axes>"
            ],
            "image/png": "[encoded data removed]"
          },
          "metadata": {
            "needs_background": "light"
          }
        }
      ]
    },
    {
      "cell_type": "markdown",
      "source": [
        "We see the same trend as previously in that men of age range 26 - 35 make the most number of purchases"
      ],
      "metadata": {
        "id": "r4svvHhfi1py"
      }
    },
    {
      "cell_type": "code",
      "source": [
        "sns.countplot(data = all_unique, x = \"Age\", hue = \"Marital_Status\")"
      ],
      "metadata": {
        "colab": {
          "base_uri": "https://localhost:8080/",
          "height": 296
        },
        "id": "6WVESht0inTe",
        "outputId": "5c5f7329-9c22-4e2c-8549-28c5964fb833"
      },
      "execution_count": 28,
      "outputs": [
        {
          "output_type": "execute_result",
          "data": {
            "text/plain": [
              "<AxesSubplot:xlabel='Age', ylabel='count'>"
            ]
          },
          "metadata": {},
          "execution_count": 28
        },
        {
          "output_type": "display_data",
          "data": {
            "text/plain": [
              "<Figure size 432x288 with 1 Axes>"
            ],
            "image/png": "[encoded data removed]"
          },
          "metadata": {
            "needs_background": "light"
          }
        }
      ]
    },
    {
      "cell_type": "markdown",
      "source": [
        "Those who are unmarried in the age range 26 - 35 make the most number of purchases"
      ],
      "metadata": {
        "id": "KSj7WKYTjC1_"
      }
    },
    {
      "cell_type": "code",
      "source": [
        "sns.countplot(data = all_unique, x = \"City_Category\")"
      ],
      "metadata": {
        "colab": {
          "base_uri": "https://localhost:8080/",
          "height": 297
        },
        "id": "TXQPVcmDi_5B",
        "outputId": "19a4c833-3508-41be-a8ba-d3f443e9a9d9"
      },
      "execution_count": 29,
      "outputs": [
        {
          "output_type": "execute_result",
          "data": {
            "text/plain": [
              "<AxesSubplot:xlabel='City_Category', ylabel='count'>"
            ]
          },
          "metadata": {},
          "execution_count": 29
        },
        {
          "output_type": "display_data",
          "data": {
            "text/plain": [
              "<Figure size 432x288 with 1 Axes>"
            ],
            "image/png": "[encoded data removed]"
          },
          "metadata": {
            "needs_background": "light"
          }
        }
      ]
    },
    {
      "cell_type": "markdown",
      "source": [
        "As seen previously, those from City C make the most number of purchases"
      ],
      "metadata": {
        "id": "HXjmWcbVjVzW"
      }
    },
    {
      "cell_type": "code",
      "source": [
        "sns.countplot(data = all_unique, x = \"Occupation\")"
      ],
      "metadata": {
        "colab": {
          "base_uri": "https://localhost:8080/",
          "height": 296
        },
        "id": "04enmgArjVLs",
        "outputId": "bbd3d8fc-4211-46d0-aa06-db9463882e99"
      },
      "execution_count": 30,
      "outputs": [
        {
          "output_type": "execute_result",
          "data": {
            "text/plain": [
              "<AxesSubplot:xlabel='Occupation', ylabel='count'>"
            ]
          },
          "metadata": {},
          "execution_count": 30
        },
        {
          "output_type": "display_data",
          "data": {
            "text/plain": [
              "<Figure size 432x288 with 1 Axes>"
            ],
            "image/png": "[encoded data removed]"
          },
          "metadata": {
            "needs_background": "light"
          }
        }
      ]
    },
    {
      "cell_type": "markdown",
      "source": [
        "As observed prior, those in occupation 0, 4, and 7 make the most number of purchases"
      ],
      "metadata": {
        "id": "r9XlTqVrjcNh"
      }
    },
    {
      "cell_type": "markdown",
      "source": [
        "## Observing the Top 10 Purchases"
      ],
      "metadata": {
        "id": "e5Kzyp9xjbZT"
      }
    },
    {
      "cell_type": "code",
      "source": [
        "top_ten = all_unique.sort_values(by=\"Purchase_Count\", ascending=False).head(10)\n",
        "top_ten"
      ],
      "metadata": {
        "colab": {
          "base_uri": "https://localhost:8080/",
          "height": 363
        },
        "id": "GhPjbCo1jozV",
        "outputId": "e1a96220-3b61-479a-e237-fbcaefd1d8d0"
      },
      "execution_count": 31,
      "outputs": [
        {
          "output_type": "execute_result",
          "data": {
            "text/plain": [
              "      User_ID Gender    Age  Occupation City_Category  \\\n",
              "1488  1001680      M  26-35          20             A   \n",
              "3772  1004277      M  36-45          16             A   \n",
              "1716  1001941      M  36-45          17             A   \n",
              "1049  1001181      M  36-45           7             A   \n",
              "790   1000889      M  46-50          20             A   \n",
              "3179  1003618      M    55+          17             A   \n",
              "1022  1001150      F  26-35          20             A   \n",
              "899   1001015      M  36-45           3             A   \n",
              "5111  1005795      M  26-35           1             A   \n",
              "5141  1005831      M  26-35           1             A   \n",
              "\n",
              "     Stay_In_Current_City_Years  Marital_Status  Purchase_Count  \n",
              "1488                          3               1            1026  \n",
              "3772                          0               0             979  \n",
              "1716                          1               0             898  \n",
              "1049                          3               1             862  \n",
              "790                           1               0             823  \n",
              "3179                         4+               1             767  \n",
              "1022                          1               0             752  \n",
              "899                          4+               1             740  \n",
              "5111                          1               1             729  \n",
              "5141                          2               1             727  "
            ],
            "text/html": [
              "\n",
              "  <div id=\"df-69e01e2b-1445-4c4e-bcae-773248e74449\">\n",
              "    <div class=\"colab-df-container\">\n",
              "      <div>\n",
              "<style scoped>\n",
              "    .dataframe tbody tr th:only-of-type {\n",
              "        vertical-align: middle;\n",
              "    }\n",
              "\n",
              "    .dataframe tbody tr th {\n",
              "        vertical-align: top;\n",
              "    }\n",
              "\n",
              "    .dataframe thead th {\n",
              "        text-align: right;\n",
              "    }\n",
              "</style>\n",
              "<table border=\"1\" class=\"dataframe\">\n",
              "  <thead>\n",
              "    <tr style=\"text-align: right;\">\n",
              "      <th></th>\n",
              "      <th>User_ID</th>\n",
              "      <th>Gender</th>\n",
              "      <th>Age</th>\n",
              "      <th>Occupation</th>\n",
              "      <th>City_Category</th>\n",
              "      <th>Stay_In_Current_City_Years</th>\n",
              "      <th>Marital_Status</th>\n",
              "      <th>Purchase_Count</th>\n",
              "    </tr>\n",
              "  </thead>\n",
              "  <tbody>\n",
              "    <tr>\n",
              "      <th>1488</th>\n",
              "      <td>1001680</td>\n",
              "      <td>M</td>\n",
              "      <td>26-35</td>\n",
              "      <td>20</td>\n",
              "      <td>A</td>\n",
              "      <td>3</td>\n",
              "      <td>1</td>\n",
              "      <td>1026</td>\n",
              "    </tr>\n",
              "    <tr>\n",
              "      <th>3772</th>\n",
              "      <td>1004277</td>\n",
              "      <td>M</td>\n",
              "      <td>36-45</td>\n",
              "      <td>16</td>\n",
              "      <td>A</td>\n",
              "      <td>0</td>\n",
              "      <td>0</td>\n",
              "      <td>979</td>\n",
              "    </tr>\n",
              "    <tr>\n",
              "      <th>1716</th>\n",
              "      <td>1001941</td>\n",
              "      <td>M</td>\n",
              "      <td>36-45</td>\n",
              "      <td>17</td>\n",
              "      <td>A</td>\n",
              "      <td>1</td>\n",
              "      <td>0</td>\n",
              "      <td>898</td>\n",
              "    </tr>\n",
              "    <tr>\n",
              "      <th>1049</th>\n",
              "      <td>1001181</td>\n",
              "      <td>M</td>\n",
              "      <td>36-45</td>\n",
              "      <td>7</td>\n",
              "      <td>A</td>\n",
              "      <td>3</td>\n",
              "      <td>1</td>\n",
              "      <td>862</td>\n",
              "    </tr>\n",
              "    <tr>\n",
              "      <th>790</th>\n",
              "      <td>1000889</td>\n",
              "      <td>M</td>\n",
              "      <td>46-50</td>\n",
              "      <td>20</td>\n",
              "      <td>A</td>\n",
              "      <td>1</td>\n",
              "      <td>0</td>\n",
              "      <td>823</td>\n",
              "    </tr>\n",
              "    <tr>\n",
              "      <th>3179</th>\n",
              "      <td>1003618</td>\n",
              "      <td>M</td>\n",
              "      <td>55+</td>\n",
              "      <td>17</td>\n",
              "      <td>A</td>\n",
              "      <td>4+</td>\n",
              "      <td>1</td>\n",
              "      <td>767</td>\n",
              "    </tr>\n",
              "    <tr>\n",
              "      <th>1022</th>\n",
              "      <td>1001150</td>\n",
              "      <td>F</td>\n",
              "      <td>26-35</td>\n",
              "      <td>20</td>\n",
              "      <td>A</td>\n",
              "      <td>1</td>\n",
              "      <td>0</td>\n",
              "      <td>752</td>\n",
              "    </tr>\n",
              "    <tr>\n",
              "      <th>899</th>\n",
              "      <td>1001015</td>\n",
              "      <td>M</td>\n",
              "      <td>36-45</td>\n",
              "      <td>3</td>\n",
              "      <td>A</td>\n",
              "      <td>4+</td>\n",
              "      <td>1</td>\n",
              "      <td>740</td>\n",
              "    </tr>\n",
              "    <tr>\n",
              "      <th>5111</th>\n",
              "      <td>1005795</td>\n",
              "      <td>M</td>\n",
              "      <td>26-35</td>\n",
              "      <td>1</td>\n",
              "      <td>A</td>\n",
              "      <td>1</td>\n",
              "      <td>1</td>\n",
              "      <td>729</td>\n",
              "    </tr>\n",
              "    <tr>\n",
              "      <th>5141</th>\n",
              "      <td>1005831</td>\n",
              "      <td>M</td>\n",
              "      <td>26-35</td>\n",
              "      <td>1</td>\n",
              "      <td>A</td>\n",
              "      <td>2</td>\n",
              "      <td>1</td>\n",
              "      <td>727</td>\n",
              "    </tr>\n",
              "  </tbody>\n",
              "</table>\n",
              "</div>\n",
              "      <button class=\"colab-df-convert\" onclick=\"convertToInteractive('df-69e01e2b-1445-4c4e-bcae-773248e74449')\"\n",
              "              title=\"Convert this dataframe to an interactive table.\"\n",
              "              style=\"display:none;\">\n",
              "        \n",
              "  <svg xmlns=\"http://www.w3.org/2000/svg\" height=\"24px\"viewBox=\"0 0 24 24\"\n",
              "       width=\"24px\">\n",
              "    <path d=\"M0 0h24v24H0V0z\" fill=\"none\"/>\n",
              "    <path d=\"M18.56 5.44l.94 2.06.94-2.06 2.06-.94-2.06-.94-.94-2.06-.94 2.06-2.06.94zm-11 1L8.5 8.5l.94-2.06 2.06-.94-2.06-.94L8.5 2.5l-.94 2.06-2.06.94zm10 10l.94 2.06.94-2.06 2.06-.94-2.06-.94-.94-2.06-.94 2.06-2.06.94z\"/><path d=\"M17.41 7.96l-1.37-1.37c-.4-.4-.92-.59-1.43-.59-.52 0-1.04.2-1.43.59L10.3 9.45l-7.72 7.72c-.78.78-.78 2.05 0 2.83L4 21.41c.39.39.9.59 1.41.59.51 0 1.02-.2 1.41-.59l7.78-7.78 2.81-2.81c.8-.78.8-2.07 0-2.86zM5.41 20L4 18.59l7.72-7.72 1.47 1.35L5.41 20z\"/>\n",
              "  </svg>\n",
              "      </button>\n",
              "      \n",
              "  <style>\n",
              "    .colab-df-container {\n",
              "      display:flex;\n",
              "      flex-wrap:wrap;\n",
              "      gap: 12px;\n",
              "    }\n",
              "\n",
              "    .colab-df-convert {\n",
              "      background-color: #E8F0FE;\n",
              "      border: none;\n",
              "      border-radius: 50%;\n",
              "      cursor: pointer;\n",
              "      display: none;\n",
              "      fill: #1967D2;\n",
              "      height: 32px;\n",
              "      padding: 0 0 0 0;\n",
              "      width: 32px;\n",
              "    }\n",
              "\n",
              "    .colab-df-convert:hover {\n",
              "      background-color: #E2EBFA;\n",
              "      box-shadow: 0px 1px 2px rgba(60, 64, 67, 0.3), 0px 1px 3px 1px rgba(60, 64, 67, 0.15);\n",
              "      fill: #174EA6;\n",
              "    }\n",
              "\n",
              "    [theme=dark] .colab-df-convert {\n",
              "      background-color: #3B4455;\n",
              "      fill: #D2E3FC;\n",
              "    }\n",
              "\n",
              "    [theme=dark] .colab-df-convert:hover {\n",
              "      background-color: #434B5C;\n",
              "      box-shadow: 0px 1px 3px 1px rgba(0, 0, 0, 0.15);\n",
              "      filter: drop-shadow(0px 1px 2px rgba(0, 0, 0, 0.3));\n",
              "      fill: #FFFFFF;\n",
              "    }\n",
              "  </style>\n",
              "\n",
              "      <script>\n",
              "        const buttonEl =\n",
              "          document.querySelector('#df-69e01e2b-1445-4c4e-bcae-773248e74449 button.colab-df-convert');\n",
              "        buttonEl.style.display =\n",
              "          google.colab.kernel.accessAllowed ? 'block' : 'none';\n",
              "\n",
              "        async function convertToInteractive(key) {\n",
              "          const element = document.querySelector('#df-69e01e2b-1445-4c4e-bcae-773248e74449');\n",
              "          const dataTable =\n",
              "            await google.colab.kernel.invokeFunction('convertToInteractive',\n",
              "                                                     [key], {});\n",
              "          if (!dataTable) return;\n",
              "\n",
              "          const docLinkHtml = 'Like what you see? Visit the ' +\n",
              "            '<a target=\"_blank\" href=https://colab.research.google.com/notebooks/data_table.ipynb>data table notebook</a>'\n",
              "            + ' to learn more about interactive tables.';\n",
              "          element.innerHTML = '';\n",
              "          dataTable['output_type'] = 'display_data';\n",
              "          await google.colab.output.renderOutput(dataTable, element);\n",
              "          const docLink = document.createElement('div');\n",
              "          docLink.innerHTML = docLinkHtml;\n",
              "          element.appendChild(docLink);\n",
              "        }\n",
              "      </script>\n",
              "    </div>\n",
              "  </div>\n",
              "  "
            ]
          },
          "metadata": {},
          "execution_count": 31
        }
      ]
    },
    {
      "cell_type": "markdown",
      "source": [
        "### Exploratory Data Analysis on Top 10 Purchases comparison to Unique IDs"
      ],
      "metadata": {
        "id": "PBJXeRJfjr2c"
      }
    },
    {
      "cell_type": "code",
      "source": [
        "# Plot the age ranges of the top purchases\n",
        "plt.figure(figsize = (15,6))\n",
        "\n",
        "plt.subplot(1,2,1)\n",
        "sns.countplot(data = all_unique, x = \"Age\")\n",
        "plt.title(\"All Purchases\")\n",
        "\n",
        "plt.subplot(1,2,2)\n",
        "sns.countplot(data = top_ten, x = \"Age\")\n",
        "plt.title(\"Top 10 Purchases\")"
      ],
      "metadata": {
        "colab": {
          "base_uri": "https://localhost:8080/",
          "height": 421
        },
        "id": "MXGG9pM_j27N",
        "outputId": "8a383476-4be7-4187-d63a-124e6e958a23"
      },
      "execution_count": 32,
      "outputs": [
        {
          "output_type": "execute_result",
          "data": {
            "text/plain": [
              "Text(0.5, 1.0, 'Top 10 Purchases')"
            ]
          },
          "metadata": {},
          "execution_count": 32
        },
        {
          "output_type": "display_data",
          "data": {
            "text/plain": [
              "<Figure size 1080x432 with 2 Axes>"
            ],
            "image/png": "[encoded data removed]"
          },
          "metadata": {
            "needs_background": "light"
          }
        }
      ]
    },
    {
      "cell_type": "markdown",
      "source": [
        "As we see that unlike prior plots, we see that those of age range 26 - 35 and 36 - 45 make the most number of high purchases, which is different from when looking at all purchases"
      ],
      "metadata": {
        "id": "0yuszLpakF-s"
      }
    },
    {
      "cell_type": "code",
      "source": [
        "# Break down the previous plot by subdividing by gender\n",
        "plt.figure(figsize = (15,6))\n",
        "\n",
        "plt.subplot(1,2,1)\n",
        "sns.countplot(data = all_unique, x = \"Age\", hue = \"Gender\")\n",
        "plt.title(\"All Purchases\")\n",
        "\n",
        "plt.subplot(1,2,2)\n",
        "sns.countplot(data = top_ten, x = \"Age\", hue = \"Gender\")\n",
        "plt.title(\"Top Ten Purchases\")"
      ],
      "metadata": {
        "colab": {
          "base_uri": "https://localhost:8080/",
          "height": 421
        },
        "id": "oIWYfDZ2kDgG",
        "outputId": "c72e0faf-a3cb-4c4e-d202-d980332087a0"
      },
      "execution_count": 33,
      "outputs": [
        {
          "output_type": "execute_result",
          "data": {
            "text/plain": [
              "Text(0.5, 1.0, 'Top Ten Purchases')"
            ]
          },
          "metadata": {},
          "execution_count": 33
        },
        {
          "output_type": "display_data",
          "data": {
            "text/plain": [
              "<Figure size 1080x432 with 2 Axes>"
            ],
            "image/png": "[encoded data removed]"
          },
          "metadata": {
            "needs_background": "light"
          }
        }
      ]
    },
    {
      "cell_type": "markdown",
      "source": [
        "From the plot, only one women (in the age range 26 - 35) makes any high purchase. However, we see that men in the 36 - 45 age category make very high purchases, whereas those in the 26 - 35 age range make the most overall number of purchases"
      ],
      "metadata": {
        "id": "d6VZ1igxkfcc"
      }
    },
    {
      "cell_type": "code",
      "source": [
        "# Break down top purchases by gender differentiating with Marital Status\n",
        "plt.figure(figsize = (15,6))\n",
        "\n",
        "plt.subplot(1,2,1)\n",
        "sns.countplot(data = all_unique, x = \"Gender\", hue = \"Marital_Status\")\n",
        "plt.title(\"All Purchases\")\n",
        "\n",
        "plt.subplot(1,2,2)\n",
        "sns.countplot(data = top_ten, x = \"Gender\", hue = \"Marital_Status\")\n",
        "plt.title(\"Top Ten Purchases\")"
      ],
      "metadata": {
        "colab": {
          "base_uri": "https://localhost:8080/",
          "height": 421
        },
        "id": "KtZhJ_oGkdap",
        "outputId": "420167b4-4cae-4929-fc10-892e7c4f40c5"
      },
      "execution_count": 34,
      "outputs": [
        {
          "output_type": "execute_result",
          "data": {
            "text/plain": [
              "Text(0.5, 1.0, 'Top Ten Purchases')"
            ]
          },
          "metadata": {},
          "execution_count": 34
        },
        {
          "output_type": "display_data",
          "data": {
            "text/plain": [
              "<Figure size 1080x432 with 2 Axes>"
            ],
            "image/png": "[encoded data removed]"
          },
          "metadata": {
            "needs_background": "light"
          }
        }
      ]
    },
    {
      "cell_type": "markdown",
      "source": [
        "In this plot, we see a big difference when looking at total number of purchases versus the top ten purchases.\n",
        "* When looking at all purchases, we see that unmarried men make the most number of purchases, however more married men make high purchases\n",
        "* Furthermore, we see that only one woman (unmarried) made a high purchase\n",
        "* This could possibly show that married men make large purchases for family"
      ],
      "metadata": {
        "id": "WjnBqoVQk-2f"
      }
    },
    {
      "cell_type": "code",
      "source": [
        "# Break down the top purchases based on Occupation\n",
        "plt.figure(figsize = (15,6))\n",
        "\n",
        "plt.subplot(1,2,1)\n",
        "sns.countplot(data = all_unique, x = \"Occupation\", hue = \"Gender\")\n",
        "plt.title(\"All Purchases\")\n",
        "\n",
        "plt.subplot(1,2,2)\n",
        "sns.countplot(data = top_ten, x = \"Occupation\", hue = \"Gender\")\n",
        "plt.title(\"Top Ten Purchases\")"
      ],
      "metadata": {
        "colab": {
          "base_uri": "https://localhost:8080/",
          "height": 421
        },
        "id": "Pky0xZ31k5vb",
        "outputId": "04d48ded-004b-43de-9253-743fb52ea7da"
      },
      "execution_count": 35,
      "outputs": [
        {
          "output_type": "execute_result",
          "data": {
            "text/plain": [
              "Text(0.5, 1.0, 'Top Ten Purchases')"
            ]
          },
          "metadata": {},
          "execution_count": 35
        },
        {
          "output_type": "display_data",
          "data": {
            "text/plain": [
              "<Figure size 1080x432 with 2 Axes>"
            ],
            "image/png": "[encoded data removed]"
          },
          "metadata": {
            "needs_background": "light"
          }
        }
      ]
    },
    {
      "cell_type": "markdown",
      "source": [
        "We see that even though occupation 7 has the highest overall number of purchases, occupation 20 makes the highest purchases"
      ],
      "metadata": {
        "id": "lZrmFdliqmaq"
      }
    },
    {
      "cell_type": "code",
      "source": [
        "# See which cities make the most and highest purchases\n",
        "plt.figure(figsize = (15,6))\n",
        "\n",
        "plt.subplot(1,2,1)\n",
        "sns.countplot(data = all_unique, x = \"City_Category\")\n",
        "plt.title(\"All Purchases\")\n",
        "\n",
        "plt.subplot(1,2,2)\n",
        "sns.countplot(data = top_ten, x = \"City_Category\")\n",
        "plt.title(\"Top 10 Purchases\")"
      ],
      "metadata": {
        "colab": {
          "base_uri": "https://localhost:8080/",
          "height": 422
        },
        "id": "Bb5E7O4ppfJS",
        "outputId": "9f8fbe89-4ed8-4515-f747-d62c73796674"
      },
      "execution_count": 36,
      "outputs": [
        {
          "output_type": "execute_result",
          "data": {
            "text/plain": [
              "Text(0.5, 1.0, 'Top 10 Purchases')"
            ]
          },
          "metadata": {},
          "execution_count": 36
        },
        {
          "output_type": "display_data",
          "data": {
            "text/plain": [
              "<Figure size 1080x432 with 2 Axes>"
            ],
            "image/png": "[encoded data removed]"
          },
          "metadata": {
            "needs_background": "light"
          }
        }
      ]
    },
    {
      "cell_type": "markdown",
      "source": [
        "While City C had the most number of overall purchases, those in City A made all of the top ten purchases. This could be because people in City A are much wealthier. It could also be that the most expensive purchases appeal to those in City A"
      ],
      "metadata": {
        "id": "AigsyqM0rakz"
      }
    },
    {
      "cell_type": "code",
      "source": [
        "# Break down duration of time in City\n",
        "plt.figure(figsize = (15,6))\n",
        "\n",
        "plt.subplot(1,2,1)\n",
        "sns.countplot(data = all_unique, x = \"Stay_In_Current_City_Years\")\n",
        "plt.title(\"All Purchases\")\n",
        "\n",
        "plt.subplot(1,2,2)\n",
        "sns.countplot(data = top_ten, x = \"Stay_In_Current_City_Years\")\n",
        "plt.title(\"Top 10 Purchases\")"
      ],
      "metadata": {
        "colab": {
          "base_uri": "https://localhost:8080/",
          "height": 422
        },
        "id": "pxnmo5BYrWnE",
        "outputId": "ffb7ba22-52fd-4f14-d2ea-88cdd5c358ed"
      },
      "execution_count": 37,
      "outputs": [
        {
          "output_type": "execute_result",
          "data": {
            "text/plain": [
              "Text(0.5, 1.0, 'Top 10 Purchases')"
            ]
          },
          "metadata": {},
          "execution_count": 37
        },
        {
          "output_type": "display_data",
          "data": {
            "text/plain": [
              "<Figure size 1080x432 with 2 Axes>"
            ],
            "image/png": "[encoded data removed]"
          },
          "metadata": {
            "needs_background": "light"
          }
        }
      ]
    },
    {
      "cell_type": "markdown",
      "source": [
        "There appears to be no different between overall number of purchases and highest purchases. Those who have stayed in their City for 1 year make the most purchases"
      ],
      "metadata": {
        "id": "yxCkw_ZRsZJ9"
      }
    },
    {
      "cell_type": "markdown",
      "source": [
        "## Data Processing"
      ],
      "metadata": {
        "id": "1cihUh1_sUKN"
      }
    },
    {
      "cell_type": "code",
      "source": [
        "# Fill in the missing values for Product Category 2 and Product Category 3\n",
        "train_data[\"Product_Category_2\"].fillna(0,inplace=True)\n",
        "train_data[\"Product_Category_3\"].fillna(0,inplace=True)"
      ],
      "metadata": {
        "id": "6p-24iQoIG8s"
      },
      "execution_count": 38,
      "outputs": []
    },
    {
      "cell_type": "markdown",
      "source": [
        "I am filling the missing values with zero as since some of the products can belong to multiple categories, I will assume that those with NaN simply means that those products do not belong to those categories"
      ],
      "metadata": {
        "id": "wNsNLC9zIvDl"
      }
    },
    {
      "cell_type": "code",
      "source": [
        "from sklearn.preprocessing import LabelEncoder\n",
        "encoder = LabelEncoder()\n",
        "\n",
        "# Drop Product_ID and User_ID\n",
        "train = train_data.drop([\"User_ID\",\"Product_ID\"] , axis = 1)\n",
        "\n",
        "# Gather all of the categorical columns to encode\n",
        "categorical_columns = train.select_dtypes(include=object).columns.tolist()\n",
        "\n",
        "# Apply the LabelEncoder to all of the categorical columns\n",
        "train[categorical_columns] = train[categorical_columns].apply(encoder.fit_transform)"
      ],
      "metadata": {
        "id": "Kr9zv2qxHKq7"
      },
      "execution_count": 39,
      "outputs": []
    },
    {
      "cell_type": "code",
      "source": [
        "plt.figure(figsize = (20, 10))\n",
        "sns.heatmap(train.corr(),linewidths=0.1,vmax=1.0, \n",
        "            square=True, cmap=\"RdYlGn\", linecolor='white', annot=True)"
      ],
      "metadata": {
        "colab": {
          "base_uri": "https://localhost:8080/",
          "height": 737
        },
        "id": "Zh22fDGaH5z-",
        "outputId": "a8041873-a81c-4f79-9a4d-ccb336d9674b"
      },
      "execution_count": 40,
      "outputs": [
        {
          "output_type": "execute_result",
          "data": {
            "text/plain": [
              "<AxesSubplot:>"
            ]
          },
          "metadata": {},
          "execution_count": 40
        },
        {
          "output_type": "display_data",
          "data": {
            "text/plain": [
              "<Figure size 1440x720 with 2 Axes>"
            ],
            "image/png": "[encoded data removed]"
          },
          "metadata": {
            "needs_background": "light"
          }
        }
      ]
    },
    {
      "cell_type": "code",
      "source": [
        "# Standardizing the features and creating features and target for the model in the next step\n",
        "from sklearn.preprocessing import StandardScaler\n",
        "scaler = StandardScaler()\n",
        "\n",
        "# Get the features and target\n",
        "features = train.drop(\"Purchase\", axis = 1)\n",
        "target = train[\"Purchase\"]\n",
        "\n",
        "# Scale the features\n",
        "X = scaler.fit_transform(features)"
      ],
      "metadata": {
        "id": "yxcH4n6rPVbl"
      },
      "execution_count": 41,
      "outputs": []
    },
    {
      "cell_type": "markdown",
      "source": [
        "## Divide the Data into Batches"
      ],
      "metadata": {
        "id": "t0vVM0mKjEGT"
      }
    },
    {
      "cell_type": "code",
      "source": [],
      "metadata": {
        "id": "FZDyEaDejWk7"
      },
      "execution_count": null,
      "outputs": []
    },
    {
      "cell_type": "code",
      "source": [
        "# Due to constraints on the RAM, divind the data into batches can help conserve memory\n",
        "import torch\n",
        "from torch import nn\n",
        "\n",
        "# Convert numpy array into torch tensors\n",
        "X = torch.from_numpy(features.to_numpy()).type(torch.float)\n",
        "y = torch.from_numpy(target.to_numpy()).type(torch.float)\n",
        "\n",
        "# Split the features and target into train and validation sets\n",
        "from sklearn.model_selection import train_test_split\n",
        "X_train, X_val, y_train, y_val = train_test_split(X, y, test_size = 0.20, shuffle = True, random_state = 42)\n",
        "\n",
        "from torch.utils.data import DataLoader, TensorDataset\n",
        "import os\n",
        "\n",
        "# Turn the data into TensorDataset\n",
        "train_dataset = TensorDataset(X_train, y_train)\n",
        "val_dataset = TensorDataset(X_val, y_val)\n",
        "\n",
        "# Divide the data into batches\n",
        "BATCH_SIZE = 1000\n",
        "\n",
        "train_dataloader = DataLoader(dataset = train_dataset,\n",
        "                              batch_size = BATCH_SIZE,\n",
        "                              num_workers=os.cpu_count(),\n",
        "                              shuffle = True)\n",
        "\n",
        "val_dataloader = DataLoader(dataset = val_dataset,\n",
        "                            batch_size = BATCH_SIZE,\n",
        "                            num_workers = os.cpu_count())"
      ],
      "metadata": {
        "id": "kjMJx9jKjI7k"
      },
      "execution_count": 53,
      "outputs": []
    },
    {
      "cell_type": "markdown",
      "source": [
        "## Creating a Model and Setting up Loss/Optimizer"
      ],
      "metadata": {
        "id": "SVzyA-ozKIi8"
      }
    },
    {
      "cell_type": "code",
      "source": [
        "# Setup device agnostc code\n",
        "device = \"cuda\" if torch.cuda.is_available() else \"cpu\""
      ],
      "metadata": {
        "id": "2-eTs367SPMP"
      },
      "execution_count": 43,
      "outputs": []
    },
    {
      "cell_type": "code",
      "source": [
        "# Create the model\n",
        "class BlackFridayModelV0(nn.Module):\n",
        "  def __init__(self, in_features : int, hidden_units : int, out_features : int):\n",
        "    super().__init__()\n",
        "    self.linear_layer = nn.Sequential(\n",
        "        nn.Linear(in_features = in_features, out_features = hidden_units),\n",
        "        nn.ReLU(),\n",
        "        nn.Linear(in_features = hidden_units, out_features = hidden_units),\n",
        "        nn.ReLU(),\n",
        "        nn.Linear(in_features = hidden_units, out_features = out_features)\n",
        "    )\n",
        "\n",
        "  def forward(self, x : torch.Tensor) -> torch.Tensor:\n",
        "    return self.linear_layer(x)"
      ],
      "metadata": {
        "id": "mIHjH-SvQh4V"
      },
      "execution_count": 44,
      "outputs": []
    },
    {
      "cell_type": "code",
      "source": [
        "in_features = X.shape[1]\n",
        "out_features = 1\n",
        "\n",
        "# Initializing the Model\n",
        "model_0 = BlackFridayModelV0(in_features, 10, out_features)"
      ],
      "metadata": {
        "id": "j_YOOtDVTxSm"
      },
      "execution_count": 121,
      "outputs": []
    },
    {
      "cell_type": "code",
      "source": [
        "# Loss Function\n",
        "loss_fn = nn.MSELoss().to(device)\n",
        "\n",
        "# Optimizer\n",
        "optimizer = torch.optim.Adam(params = model_0.parameters(), lr = 0.01)"
      ],
      "metadata": {
        "id": "InrjErzHT1cf"
      },
      "execution_count": 122,
      "outputs": []
    },
    {
      "cell_type": "markdown",
      "source": [
        "## Setting up Training and Validation Functions"
      ],
      "metadata": {
        "id": "fcu7xiP_lqgD"
      }
    },
    {
      "cell_type": "code",
      "source": [
        "def train_step(model : nn.Module,\n",
        "               train_dataloader : torch.utils.data.DataLoader,\n",
        "               loss_fn : nn.Module,\n",
        "               optimizer : torch.optim,\n",
        "               device : torch.device = device):\n",
        "  \n",
        "  model.train()\n",
        "  train_loss = 0\n",
        "  for batch, (X, y) in enumerate(train_dataloader):\n",
        "\n",
        "    # Set the data to the correct device \n",
        "    X, y = X.to(device), y.to(device)\n",
        "\n",
        "    # Forward Pass\n",
        "    y_pred = model(X)\n",
        "\n",
        "    # Calculate the loss\n",
        "    loss = loss_fn(y_pred.squeeze(), y)\n",
        "    train_loss += loss\n",
        "\n",
        "    # Optimizer zero grad\n",
        "    optimizer.zero_grad()\n",
        "\n",
        "    # Backpropagation\n",
        "    loss.backward()\n",
        "\n",
        "    # Optimizer step\n",
        "    optimizer.step()\n",
        "\n",
        "  train_loss /= len(train_dataloader)\n",
        "\n",
        "  return train_loss"
      ],
      "metadata": {
        "id": "vyxwzMsRUqg6"
      },
      "execution_count": 97,
      "outputs": []
    },
    {
      "cell_type": "code",
      "source": [
        "def validation_step(model : nn.Module,\n",
        "               val_dataloader : torch.utils.data.DataLoader,\n",
        "               loss_fn : nn.Module,\n",
        "               device : torch.device = device):\n",
        "  \n",
        "  model.eval()\n",
        "  val_loss = 0\n",
        "  with torch.inference_mode():\n",
        "    for (X, y) in val_dataloader:\n",
        "\n",
        "      # Set the data to the correct device\n",
        "      X, y = X.to(device), y.to(device)\n",
        "\n",
        "      # Forward Propagation\n",
        "      val_pred = model(X)\n",
        "\n",
        "      # Calculate the loss\n",
        "      loss = loss_fn(val_pred.squeeze(), y)\n",
        "      val_loss += loss\n",
        "\n",
        "  return val_loss"
      ],
      "metadata": {
        "id": "hXUU60KYat7Q"
      },
      "execution_count": 98,
      "outputs": []
    },
    {
      "cell_type": "markdown",
      "source": [
        "## Training the Model"
      ],
      "metadata": {
        "id": "U2KGdi3Tlvx0"
      }
    },
    {
      "cell_type": "code",
      "source": [
        "from tqdm.auto import tqdm\n",
        "from timeit import default_timer as timer\n",
        "\n",
        "start_time = timer()\n",
        "\n",
        "def train_loop(model : nn.Module,\n",
        "               train_dataloader : torch.utils.data.DataLoader,\n",
        "               val_dataloader : torch.utils.data.DataLoader,\n",
        "               loss_fn : nn.Module,\n",
        "               optimizer: torch.optim,\n",
        "               num_epochs : int = 20,\n",
        "               device : torch.device = device):\n",
        "  \n",
        "  # Set the model to the correct device\n",
        "  model.to(device)\n",
        "  model_results = {\n",
        "      \"train_loss\" : [],\n",
        "      \"validation_loss\" : [],\n",
        "      \"training_time\" : 0 \n",
        "  }\n",
        "\n",
        "  for epoch in tqdm(range(num_epochs)):\n",
        "    train_loss = train_step(model = model,\n",
        "                            train_dataloader = train_dataloader,\n",
        "                            loss_fn = loss_fn,\n",
        "                            optimizer = optimizer,\n",
        "                            device = device)\n",
        "    validation_loss = validation_step(model = model,\n",
        "                            val_dataloader = val_dataloader,\n",
        "                            loss_fn = loss_fn,\n",
        "                            device = device)\n",
        "    \n",
        "    if epoch % 4 == 0:\n",
        "      print(f\"Train Loss: {train_loss} | Validation Loss: {validation_loss}\")\n",
        "    \n",
        "    model_results[\"train_loss\"].append(train_loss)\n",
        "    model_results[\"validation_loss\"].append(validation_loss)\n",
        "  \n",
        "  end_time = timer()\n",
        "  total_train_time = end_time - start_time\n",
        "  model_results[\"training_time\"] = total_train_time\n",
        "  print(f\"Total training time was {total_train_time} seconds\")\n",
        "\n",
        "  return model_results"
      ],
      "metadata": {
        "id": "50gmyBUkbvLO"
      },
      "execution_count": 99,
      "outputs": []
    },
    {
      "cell_type": "code",
      "source": [
        "NUM_EPOCHS = 100\n",
        "model_0_results = train_loop(model = model_0,\n",
        "                             train_dataloader = train_dataloader,\n",
        "                             val_dataloader = val_dataloader,\n",
        "                             loss_fn = loss_fn,\n",
        "                             optimizer = optimizer,\n",
        "                             num_epochs = NUM_EPOCHS,\n",
        "                             device = device)"
      ],
      "metadata": {
        "colab": {
          "base_uri": "https://localhost:8080/",
          "height": 500,
          "referenced_widgets": [
            "e7d953fb984e4e2597ef3f3dccbd005c",
            "ef3d1f55be9f4f988fa8547bd7ec94fe",
            "12c3d0a567aa428287da6f4702482309",
            "3f3b1370b561486ca3580d81a44e45de",
            "275c3a3eeaaf478b9ae68b6b3ad2b9d3",
            "574c7f50b13a48289331632e3a9d8042",
            "92c141d7ae2c44e786c52b9537ca034c",
            "4d159c8fb54c4329851770d27d352f59",
            "42c92bd6cf2f4cad97a2534c4dd28e30",
            "bd307f071f4d4e87b580a67f83f68818",
            "9496db1c1479457ebc0a8620863cfe5b"
          ]
        },
        "id": "qSqYnCqngECh",
        "outputId": "99a3c61e-5b21-43e6-988c-442bcf793dcf"
      },
      "execution_count": 123,
      "outputs": [
        {
          "output_type": "display_data",
          "data": {
            "text/plain": [
              "  0%|          | 0/100 [00:00<?, ?it/s]"
            ],
            "application/vnd.jupyter.widget-view+json": {
              "version_major": 2,
              "version_minor": 0,
              "model_id": "e7d953fb984e4e2597ef3f3dccbd005c"
            }
          },
          "metadata": {}
        },
        {
          "output_type": "stream",
          "name": "stdout",
          "text": [
            "Train Loss: 45844108.0 | Validation Loss: 3056618752.0\n",
            "Train Loss: 18115434.0 | Validation Loss: 1971762304.0\n",
            "Train Loss: 17756896.0 | Validation Loss: 1945273472.0\n",
            "Train Loss: 17718344.0 | Validation Loss: 1947245184.0\n",
            "Train Loss: 17723554.0 | Validation Loss: 1945068160.0\n",
            "Train Loss: 17715738.0 | Validation Loss: 1948486272.0\n",
            "Train Loss: 17717396.0 | Validation Loss: 1943324544.0\n",
            "Train Loss: 17711660.0 | Validation Loss: 1943325824.0\n",
            "Train Loss: 17716106.0 | Validation Loss: 1944302464.0\n",
            "Train Loss: 17710686.0 | Validation Loss: 1943812864.0\n",
            "Train Loss: 17713872.0 | Validation Loss: 1948841856.0\n",
            "Train Loss: 17717014.0 | Validation Loss: 1945538816.0\n",
            "Train Loss: 17712562.0 | Validation Loss: 1941902336.0\n",
            "Train Loss: 17712728.0 | Validation Loss: 1941947776.0\n",
            "Train Loss: 17717018.0 | Validation Loss: 1941736320.0\n",
            "Train Loss: 17709942.0 | Validation Loss: 1942536704.0\n",
            "Train Loss: 17700656.0 | Validation Loss: 1942594304.0\n",
            "Train Loss: 17695990.0 | Validation Loss: 1942085248.0\n",
            "Train Loss: 17704354.0 | Validation Loss: 1942113920.0\n",
            "Train Loss: 17698756.0 | Validation Loss: 1942746880.0\n",
            "Train Loss: 17709676.0 | Validation Loss: 1943596928.0\n",
            "Train Loss: 17698702.0 | Validation Loss: 1942559872.0\n",
            "Train Loss: 17704724.0 | Validation Loss: 1943675392.0\n",
            "Train Loss: 17700340.0 | Validation Loss: 1944070656.0\n",
            "Train Loss: 17714890.0 | Validation Loss: 1941686144.0\n",
            "Total training time was 1131.470630677 seconds\n"
          ]
        }
      ]
    },
    {
      "cell_type": "code",
      "source": [
        "def plot_results(model_results):\n",
        "  num_epochs = range(len(model_results[\"train_loss\"]))\n",
        "  plt.plot(num_epochs, torch.tensor(model_results[\"train_loss\"]).cpu(), label = \"Training Loss\")\n",
        "  plt.plot(num_epochs, torch.tensor(model_results[\"validation_loss\"]).cpu(), label = \"Validation Loss\")\n",
        "  plt.title(\"Loss Curve\")\n",
        "  plt.xlabel(\"Epoch\")\n",
        "  plt.ylabel(\"Loss\")\n",
        "  plt.legend()"
      ],
      "metadata": {
        "id": "chWEsZF7hTI-"
      },
      "execution_count": 119,
      "outputs": []
    },
    {
      "cell_type": "code",
      "source": [
        "plot_results(model_0_results)"
      ],
      "metadata": {
        "colab": {
          "base_uri": "https://localhost:8080/",
          "height": 295
        },
        "id": "4hWp28kiq3MY",
        "outputId": "588d0f07-502b-44fa-ebb3-c60ae637ce54"
      },
      "execution_count": 124,
      "outputs": [
        {
          "output_type": "display_data",
          "data": {
            "text/plain": [
              "<Figure size 432x288 with 1 Axes>"
            ],
            "image/png": "[encoded data removed]"
          },
          "metadata": {
            "needs_background": "light"
          }
        }
      ]
    },
    {
      "cell_type": "code",
      "source": [],
      "metadata": {
        "id": "tPNjsqKHq4vP"
      },
      "execution_count": null,
      "outputs": []
    }
  ]
}