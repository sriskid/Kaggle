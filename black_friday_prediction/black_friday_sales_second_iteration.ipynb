{
  "nbformat": 4,
  "nbformat_minor": 0,
  "metadata": {
    "colab": {
      "provenance": []
    },
    "kernelspec": {
      "name": "python3",
      "display_name": "Python 3"
    },
    "language_info": {
      "name": "python"
    },
    "gpuClass": "standard"
  },
  "cells": [
    {
      "cell_type": "code",
      "source": [
        "# TODO: Fix both underfitting (loss value not low enough) and overfitting (Validation Score too high)"
      ],
      "metadata": {
        "id": "iOdeCKWcughB"
      },
      "execution_count": 108,
      "outputs": []
    },
    {
      "cell_type": "code",
      "execution_count": 109,
      "metadata": {
        "id": "IO0i4lG4xozf"
      },
      "outputs": [],
      "source": [
        "import requests\n",
        "from pathlib import Path\n",
        "import requests\n",
        "import zipfile\n",
        "\n",
        "import numpy as np\n",
        "import pandas as pd\n",
        "import matplotlib.pyplot as plt\n",
        "import seaborn as sns"
      ]
    },
    {
      "cell_type": "code",
      "source": [
        "data_path = Path(\"data/\")\n",
        "train_path = data_path / \"train\"\n",
        "test_path = data_path / \"test\"\n",
        "\n",
        "if train_path.is_dir():\n",
        "  print(f\"{train_path} directory already exists....skipping download\")\n",
        "else:\n",
        "  print(f\"{train_path} does not exist, creating one....\")\n",
        "  train_path.mkdir(parents = True, exist_ok = True)\n",
        "\n",
        "if test_path.is_dir():\n",
        "  print(f\"{test_path} directory already exists....skipping download\")\n",
        "else:\n",
        "  print(f\"{test_path} does not exist, creating one....\")\n",
        "  test_path.mkdir(parents = True, exist_ok = True)\n",
        "\n",
        "with open(train_path / \"train.csv\", \"wb\") as f:\n",
        "  request = requests.get(\"https://github.com/sriskid/Kaggle/raw/main/black_friday_prediction/train_oSwQCTC/train.csv\")\n",
        "  print(\"Downloading training data....\")\n",
        "  f.write(request.content)\n",
        "\n",
        "with open(data_path/ \"test.zip\", \"wb\") as f:\n",
        "  request = requests.get(\"https://github.com/sriskid/Kaggle/raw/main/black_friday_prediction/test_HujdGe7.zip\")\n",
        "  print(\"Downloading test data....\")\n",
        "  f.write(request.content)\n",
        "\n",
        "with zipfile.ZipFile(data_path/ \"test.zip\", \"r\") as zip_ref:\n",
        "  print(\"Unzipping test data...\")\n",
        "  zip_ref.extractall(test_path)"
      ],
      "metadata": {
        "colab": {
          "base_uri": "https://localhost:8080/"
        },
        "id": "O7msSGwmxp0g",
        "outputId": "cf1defd7-171c-4be9-a66e-0840c6f1e408"
      },
      "execution_count": 110,
      "outputs": [
        {
          "output_type": "stream",
          "name": "stdout",
          "text": [
            "data/train directory already exists....skipping download\n",
            "data/test directory already exists....skipping download\n",
            "Downloading training data....\n",
            "Downloading test data....\n",
            "Unzipping test data...\n"
          ]
        }
      ]
    },
    {
      "cell_type": "code",
      "source": [
        "train_data = pd.read_csv(train_path / \"train.csv\")\n",
        "test_data = pd.read_csv(test_path / \"test.csv\")"
      ],
      "metadata": {
        "id": "WBmwU_Hbxvnl"
      },
      "execution_count": 111,
      "outputs": []
    },
    {
      "cell_type": "code",
      "source": [
        "train_path"
      ],
      "metadata": {
        "colab": {
          "base_uri": "https://localhost:8080/"
        },
        "id": "E08gexPqytJB",
        "outputId": "b61b5485-6d71-4a63-8b15-33d3b23e03f6"
      },
      "execution_count": 112,
      "outputs": [
        {
          "output_type": "execute_result",
          "data": {
            "text/plain": [
              "PosixPath('data/train')"
            ]
          },
          "metadata": {},
          "execution_count": 112
        }
      ]
    },
    {
      "cell_type": "markdown",
      "source": [
        "# Exploratory Data Analysis"
      ],
      "metadata": {
        "id": "lrQHRTxPDV-7"
      }
    },
    {
      "cell_type": "markdown",
      "source": [
        "## Initial Data Visualization"
      ],
      "metadata": {
        "id": "w69JSdpQyxLu"
      }
    },
    {
      "cell_type": "code",
      "source": [
        "# Check for missing values\n",
        "train_data.isnull().sum()\n",
        "train_perc_miss = train_data.isnull().sum()/train_data.isnull().count()*100\n",
        "train_perc_miss\n",
        "# The only missing values combe from product_category_2 and product_category_3"
      ],
      "metadata": {
        "colab": {
          "base_uri": "https://localhost:8080/"
        },
        "id": "lhVXfD3h2AYl",
        "outputId": "f84b07d1-265b-45bd-817d-755ff294b80e"
      },
      "execution_count": 113,
      "outputs": [
        {
          "output_type": "execute_result",
          "data": {
            "text/plain": [
              "User_ID                        0.000000\n",
              "Product_ID                     0.000000\n",
              "Gender                         0.000000\n",
              "Age                            0.000000\n",
              "Occupation                     0.000000\n",
              "City_Category                  0.000000\n",
              "Stay_In_Current_City_Years     0.000000\n",
              "Marital_Status                 0.000000\n",
              "Product_Category_1             0.000000\n",
              "Product_Category_2            31.566643\n",
              "Product_Category_3            69.672659\n",
              "Purchase                       0.000000\n",
              "dtype: float64"
            ]
          },
          "metadata": {},
          "execution_count": 113
        }
      ]
    },
    {
      "cell_type": "code",
      "source": [
        "test_data.isnull().sum()\n",
        "test_perc_miss = test_data.isnull().sum()/test_data.isnull().count()*100\n",
        "test_perc_miss"
      ],
      "metadata": {
        "colab": {
          "base_uri": "https://localhost:8080/"
        },
        "id": "Knb8qkR0gjdi",
        "outputId": "434a3f0e-2d90-4350-9c4c-dc69f64fd4eb"
      },
      "execution_count": 114,
      "outputs": [
        {
          "output_type": "execute_result",
          "data": {
            "text/plain": [
              "User_ID                        0.000000\n",
              "Product_ID                     0.000000\n",
              "Gender                         0.000000\n",
              "Age                            0.000000\n",
              "Occupation                     0.000000\n",
              "City_Category                  0.000000\n",
              "Stay_In_Current_City_Years     0.000000\n",
              "Marital_Status                 0.000000\n",
              "Product_Category_1             0.000000\n",
              "Product_Category_2            30.969311\n",
              "Product_Category_3            69.590195\n",
              "dtype: float64"
            ]
          },
          "metadata": {},
          "execution_count": 114
        }
      ]
    },
    {
      "cell_type": "markdown",
      "source": [
        "Since the amount of missing data from Product_Category_3 is so high, it may not be a necessary part of predicting purchases, therefore we should drop it. Since Product_Category_2 does not have too high of a percentage of missing values, we could imput that with random numbers from the current range of Product_Category_2."
      ],
      "metadata": {
        "id": "h7YjyzMzh_jk"
      }
    },
    {
      "cell_type": "code",
      "source": [
        "# Drop Product_Category_3\n",
        "train_data.drop([\"Product_Category_3\"], axis = 1, inplace = True)\n",
        "test_data.drop([\"Product_Category_3\"], axis = 1, inplace = True)"
      ],
      "metadata": {
        "id": "ox-Wlu7oiILx"
      },
      "execution_count": 115,
      "outputs": []
    },
    {
      "cell_type": "code",
      "source": [
        "# Imputing missing values of Product_Category_2\n",
        "def imput_random_data(data):\n",
        "  product_2_min = data.min()\n",
        "  product_2_max = data.max()\n",
        "\n",
        "  val = data.values\n",
        "  missing = pd.isnull(val)\n",
        "\n",
        "  # Imput \n",
        "  val[missing] = np.random.randint(product_2_min, product_2_max, size = missing.sum())\n",
        "\n",
        "  return data"
      ],
      "metadata": {
        "id": "Fb3SbJHPjTfM"
      },
      "execution_count": 116,
      "outputs": []
    },
    {
      "cell_type": "code",
      "source": [
        "imput_random_data(train_data[\"Product_Category_2\"])\n",
        "imput_random_data(test_data[\"Product_Category_2\"])"
      ],
      "metadata": {
        "colab": {
          "base_uri": "https://localhost:8080/"
        },
        "id": "Fzod15fAkOGJ",
        "outputId": "e7036d6b-b7f6-43f1-d696-34df08178061"
      },
      "execution_count": 117,
      "outputs": [
        {
          "output_type": "execute_result",
          "data": {
            "text/plain": [
              "0         11.0\n",
              "1          5.0\n",
              "2         14.0\n",
              "3          9.0\n",
              "4          5.0\n",
              "          ... \n",
              "233594    12.0\n",
              "233595     8.0\n",
              "233596     5.0\n",
              "233597    16.0\n",
              "233598     5.0\n",
              "Name: Product_Category_2, Length: 233599, dtype: float64"
            ]
          },
          "metadata": {},
          "execution_count": 117
        }
      ]
    },
    {
      "cell_type": "code",
      "source": [
        "train_data.isnull().sum(), test_data.isnull().sum()"
      ],
      "metadata": {
        "colab": {
          "base_uri": "https://localhost:8080/"
        },
        "id": "GCWN08fulH_A",
        "outputId": "edb2e2e2-2275-4582-d01f-df4fd77e002c"
      },
      "execution_count": 118,
      "outputs": [
        {
          "output_type": "execute_result",
          "data": {
            "text/plain": [
              "(User_ID                       0\n",
              " Product_ID                    0\n",
              " Gender                        0\n",
              " Age                           0\n",
              " Occupation                    0\n",
              " City_Category                 0\n",
              " Stay_In_Current_City_Years    0\n",
              " Marital_Status                0\n",
              " Product_Category_1            0\n",
              " Product_Category_2            0\n",
              " Purchase                      0\n",
              " dtype: int64, User_ID                       0\n",
              " Product_ID                    0\n",
              " Gender                        0\n",
              " Age                           0\n",
              " Occupation                    0\n",
              " City_Category                 0\n",
              " Stay_In_Current_City_Years    0\n",
              " Marital_Status                0\n",
              " Product_Category_1            0\n",
              " Product_Category_2            0\n",
              " dtype: int64)"
            ]
          },
          "metadata": {},
          "execution_count": 118
        }
      ]
    },
    {
      "cell_type": "markdown",
      "source": [
        "We no longer have missing data"
      ],
      "metadata": {
        "id": "Tj3Yezj4loaf"
      }
    },
    {
      "cell_type": "code",
      "source": [
        "train_data.info()"
      ],
      "metadata": {
        "colab": {
          "base_uri": "https://localhost:8080/"
        },
        "id": "kcl5SQ2KEwNK",
        "outputId": "53ed3e12-ac20-4b6a-949f-6d73f12f0be6"
      },
      "execution_count": 119,
      "outputs": [
        {
          "output_type": "stream",
          "name": "stdout",
          "text": [
            "<class 'pandas.core.frame.DataFrame'>\n",
            "RangeIndex: 550068 entries, 0 to 550067\n",
            "Data columns (total 11 columns):\n",
            " #   Column                      Non-Null Count   Dtype  \n",
            "---  ------                      --------------   -----  \n",
            " 0   User_ID                     550068 non-null  int64  \n",
            " 1   Product_ID                  550068 non-null  object \n",
            " 2   Gender                      550068 non-null  object \n",
            " 3   Age                         550068 non-null  object \n",
            " 4   Occupation                  550068 non-null  int64  \n",
            " 5   City_Category               550068 non-null  object \n",
            " 6   Stay_In_Current_City_Years  550068 non-null  object \n",
            " 7   Marital_Status              550068 non-null  int64  \n",
            " 8   Product_Category_1          550068 non-null  int64  \n",
            " 9   Product_Category_2          550068 non-null  float64\n",
            " 10  Purchase                    550068 non-null  int64  \n",
            "dtypes: float64(1), int64(5), object(5)\n",
            "memory usage: 46.2+ MB\n"
          ]
        }
      ]
    },
    {
      "cell_type": "code",
      "source": [
        "categorical_columns = train_data.select_dtypes(include=object).columns.tolist()\n",
        "print(len(categorical_columns))"
      ],
      "metadata": {
        "colab": {
          "base_uri": "https://localhost:8080/"
        },
        "id": "gi9UU0EjVuLw",
        "outputId": "6e6440d1-2980-4c90-f324-8f9cb41de187"
      },
      "execution_count": 120,
      "outputs": [
        {
          "output_type": "stream",
          "name": "stdout",
          "text": [
            "5\n"
          ]
        }
      ]
    },
    {
      "cell_type": "code",
      "source": [
        "categorical_columns"
      ],
      "metadata": {
        "colab": {
          "base_uri": "https://localhost:8080/"
        },
        "id": "O1obloUHWXET",
        "outputId": "9fee96f6-907e-4a27-a64d-de860658fc40"
      },
      "execution_count": 121,
      "outputs": [
        {
          "output_type": "execute_result",
          "data": {
            "text/plain": [
              "['Product_ID', 'Gender', 'Age', 'City_Category', 'Stay_In_Current_City_Years']"
            ]
          },
          "metadata": {},
          "execution_count": 121
        }
      ]
    },
    {
      "cell_type": "code",
      "source": [
        "fig, axes = plt.subplots(nrows=2, ncols=3, figsize=(20, 20))\n",
        "for i, column in enumerate(categorical_columns):\n",
        "  sns.countplot(data = train_data, x = column, ax = axes[i // 3, i % 3])"
      ],
      "metadata": {
        "colab": {
          "base_uri": "https://localhost:8080/",
          "height": 775
        },
        "id": "Zjsed1xoV42-",
        "outputId": "b8c23d19-a796-4a72-addb-95f60e10b29e"
      },
      "execution_count": 122,
      "outputs": [
        {
          "output_type": "display_data",
          "data": {
            "text/plain": [
              "<Figure size 1440x1440 with 6 Axes>"
            ],
            "image/png": "[encoded data removed]"
          },
          "metadata": {
            "needs_background": "light"
          }
        }
      ]
    },
    {
      "cell_type": "markdown",
      "source": [
        "From this plot we get a few useful pieces of information:\n",
        "\n",
        "\n",
        "*   There are far more men purchasing items than women, this could be due to a few reasons, namely there are far more products that appeal to men than women, or the products being bought are on behalf of their spouse and therefore the appeal of the item itself may not be for them.\n",
        "\n",
        "*   A huge number of purchases come from those age 26 - 35, meaning that the majority of products cater to this age range, or that they are buying for others. Furthermore, the age range with the least amount of purchasing are 0 - 17 and 55 +. This could be due to either the products not catering to them or that they are dependent on someone within the 26 - 35 range category to buy \n",
        "things for them\n",
        "\n",
        "*   People from City C made more purchases\n",
        "*   Poeple who have stayed in their city for a year made the most number of purchases\n",
        "\n",
        "\n",
        "\n"
      ],
      "metadata": {
        "id": "Iv2LAQ4wXSV2"
      }
    },
    {
      "cell_type": "code",
      "source": [
        "# Check the number of men making purchases based on their marital status\n",
        "sns.countplot(data = train_data, x = \"Gender\", hue = \"Marital_Status\")"
      ],
      "metadata": {
        "colab": {
          "base_uri": "https://localhost:8080/",
          "height": 296
        },
        "id": "EN0tK01A6PmZ",
        "outputId": "a769275f-1153-4f9c-97c1-dbebe58ff779"
      },
      "execution_count": 123,
      "outputs": [
        {
          "output_type": "execute_result",
          "data": {
            "text/plain": [
              "<Axes: xlabel='Gender', ylabel='count'>"
            ]
          },
          "metadata": {},
          "execution_count": 123
        },
        {
          "output_type": "display_data",
          "data": {
            "text/plain": [
              "<Figure size 432x288 with 1 Axes>"
            ],
            "image/png": "[encoded data removed]"
          },
          "metadata": {
            "needs_background": "light"
          }
        }
      ]
    },
    {
      "cell_type": "markdown",
      "source": [
        "From the above plot, we see that men and women make fewer purchases where they are married versus when they are not married. However, regardless of whether married or not, men made more purchases. "
      ],
      "metadata": {
        "id": "oFOUlhwmMd_k"
      }
    },
    {
      "cell_type": "code",
      "source": [
        "# Then in that case, let us check the age ranges that people are making purchases based on gender\n",
        "sns.countplot(data = train_data, x = \"Age\", hue = \"Gender\")"
      ],
      "metadata": {
        "colab": {
          "base_uri": "https://localhost:8080/",
          "height": 296
        },
        "id": "u6-uSeT6cJIh",
        "outputId": "9bf687dd-fa2f-4618-89a4-d7e4b24c0968"
      },
      "execution_count": 124,
      "outputs": [
        {
          "output_type": "execute_result",
          "data": {
            "text/plain": [
              "<Axes: xlabel='Age', ylabel='count'>"
            ]
          },
          "metadata": {},
          "execution_count": 124
        },
        {
          "output_type": "display_data",
          "data": {
            "text/plain": [
              "<Figure size 432x288 with 1 Axes>"
            ],
            "image/png": "[encoded data removed]"
          },
          "metadata": {
            "needs_background": "light"
          }
        }
      ]
    },
    {
      "cell_type": "markdown",
      "source": [
        "From this plot, we see that overall men make more purchases than women. In the range of 26 - 35 we see a huge increase in the number of purchases by men. This could be due to buying items for themselves, their spouse, or their children."
      ],
      "metadata": {
        "id": "J4DByW39cpCw"
      }
    },
    {
      "cell_type": "code",
      "source": [
        "# Check the Age Ranges Based off Marital Status\n",
        "sns.countplot(data = train_data, x = \"Age\", hue = \"Marital_Status\")"
      ],
      "metadata": {
        "colab": {
          "base_uri": "https://localhost:8080/",
          "height": 296
        },
        "id": "7Rkmi7_MeUe4",
        "outputId": "318d5c99-d7ea-4d9f-8780-24b9bb0d3edc"
      },
      "execution_count": 125,
      "outputs": [
        {
          "output_type": "execute_result",
          "data": {
            "text/plain": [
              "<Axes: xlabel='Age', ylabel='count'>"
            ]
          },
          "metadata": {},
          "execution_count": 125
        },
        {
          "output_type": "display_data",
          "data": {
            "text/plain": [
              "<Figure size 432x288 with 1 Axes>"
            ],
            "image/png": "[encoded data removed]"
          },
          "metadata": {
            "needs_background": "light"
          }
        }
      ]
    },
    {
      "cell_type": "markdown",
      "source": [
        "Looking at the breakdown of age ranges:\n",
        "\n",
        "\n",
        "*   Obviously those of age range 0 - 17 are not going to be married\n",
        "*   For the age range 26 - 35, those who are not married make more purchases\n",
        "* Across all married age ranges, those who are 26 - 35 make the most number of purchases\n",
        "\n"
      ],
      "metadata": {
        "id": "maxB-1x4ewuQ"
      }
    },
    {
      "cell_type": "code",
      "source": [
        "# Break down the ages by gender\n",
        "sns.barplot(data = train_data, x = \"Age\", y = \"Purchase\", hue = \"Gender\")"
      ],
      "metadata": {
        "colab": {
          "base_uri": "https://localhost:8080/",
          "height": 296
        },
        "id": "tbBzFRSVIp_Y",
        "outputId": "ea337437-199a-45cb-ff6e-d8ea8eca6fb1"
      },
      "execution_count": 126,
      "outputs": [
        {
          "output_type": "execute_result",
          "data": {
            "text/plain": [
              "<Axes: xlabel='Age', ylabel='Purchase'>"
            ]
          },
          "metadata": {},
          "execution_count": 126
        },
        {
          "output_type": "display_data",
          "data": {
            "text/plain": [
              "<Figure size 432x288 with 1 Axes>"
            ],
            "image/png": "[encoded data removed]"
          },
          "metadata": {
            "needs_background": "light"
          }
        }
      ]
    },
    {
      "cell_type": "markdown",
      "source": [
        "The above plot shows that across all age ranges, men are spending the most "
      ],
      "metadata": {
        "id": "itjBa8FdJibp"
      }
    },
    {
      "cell_type": "code",
      "source": [
        "# Plot purchasing based on marital status\n",
        "sns.barplot(data = train_data, x = \"Marital_Status\", y = \"Purchase\", hue = \"Gender\")"
      ],
      "metadata": {
        "colab": {
          "base_uri": "https://localhost:8080/",
          "height": 297
        },
        "id": "lUFKNjGYLM0F",
        "outputId": "4296dbb7-0cae-4d6c-b2cd-42806623885b"
      },
      "execution_count": 127,
      "outputs": [
        {
          "output_type": "execute_result",
          "data": {
            "text/plain": [
              "<Axes: xlabel='Marital_Status', ylabel='Purchase'>"
            ]
          },
          "metadata": {},
          "execution_count": 127
        },
        {
          "output_type": "display_data",
          "data": {
            "text/plain": [
              "<Figure size 432x288 with 1 Axes>"
            ],
            "image/png": "[encoded data removed]"
          },
          "metadata": {
            "needs_background": "light"
          }
        }
      ]
    },
    {
      "cell_type": "markdown",
      "source": [
        "From the above we know that:\n",
        "\n",
        "\n",
        "*   On average men, spend more whether they are married or not\n",
        "\n"
      ],
      "metadata": {
        "id": "FZF9mwsFLZcj"
      }
    },
    {
      "cell_type": "code",
      "source": [
        "# Plot Purchase Amount Based on Age and discriminate based on Marital Status\n",
        "sns.barplot(data = train_data, x = \"Age\", y = \"Purchase\", hue = \"Marital_Status\")"
      ],
      "metadata": {
        "colab": {
          "base_uri": "https://localhost:8080/",
          "height": 297
        },
        "id": "BUJU1Gtb6wGh",
        "outputId": "a64873c7-4454-4895-8d6a-4023efeca305"
      },
      "execution_count": 128,
      "outputs": [
        {
          "output_type": "execute_result",
          "data": {
            "text/plain": [
              "<Axes: xlabel='Age', ylabel='Purchase'>"
            ]
          },
          "metadata": {},
          "execution_count": 128
        },
        {
          "output_type": "display_data",
          "data": {
            "text/plain": [
              "<Figure size 432x288 with 1 Axes>"
            ],
            "image/png": "[encoded data removed]"
          },
          "metadata": {
            "needs_background": "light"
          }
        }
      ]
    },
    {
      "cell_type": "markdown",
      "source": [
        "Across all age ranges (except for 0 - 17), we see that those who are married or not married spent about the same amount of money on average"
      ],
      "metadata": {
        "id": "Yvmn5RMYKEGe"
      }
    },
    {
      "cell_type": "code",
      "source": [
        "sns.barplot(data = train_data, x = \"City_Category\", y = \"Purchase\")"
      ],
      "metadata": {
        "colab": {
          "base_uri": "https://localhost:8080/",
          "height": 297
        },
        "id": "VBukl1IgGVJq",
        "outputId": "ddec7336-4938-4e15-a83b-7123411c3653"
      },
      "execution_count": 129,
      "outputs": [
        {
          "output_type": "execute_result",
          "data": {
            "text/plain": [
              "<Axes: xlabel='City_Category', ylabel='Purchase'>"
            ]
          },
          "metadata": {},
          "execution_count": 129
        },
        {
          "output_type": "display_data",
          "data": {
            "text/plain": [
              "<Figure size 432x288 with 1 Axes>"
            ],
            "image/png": "[encoded data removed]"
          },
          "metadata": {
            "needs_background": "light"
          }
        }
      ]
    },
    {
      "cell_type": "markdown",
      "source": [
        "The above plot shows that people from City C spent the most"
      ],
      "metadata": {
        "id": "Ds_0x-eXGgF_"
      }
    },
    {
      "cell_type": "code",
      "source": [
        "# Plot the purchase amount by city dividing by gender\n",
        "sns.barplot(data = train_data, x = \"City_Category\", y = \"Purchase\", hue = \"Gender\")"
      ],
      "metadata": {
        "colab": {
          "base_uri": "https://localhost:8080/",
          "height": 297
        },
        "id": "ifKxC0ykApct",
        "outputId": "5e53728f-a9d6-45a8-968a-865a122f27f4"
      },
      "execution_count": 130,
      "outputs": [
        {
          "output_type": "execute_result",
          "data": {
            "text/plain": [
              "<Axes: xlabel='City_Category', ylabel='Purchase'>"
            ]
          },
          "metadata": {},
          "execution_count": 130
        },
        {
          "output_type": "display_data",
          "data": {
            "text/plain": [
              "<Figure size 432x288 with 1 Axes>"
            ],
            "image/png": "[encoded data removed]"
          },
          "metadata": {
            "needs_background": "light"
          }
        }
      ]
    },
    {
      "cell_type": "markdown",
      "source": [
        "If we break down the cities by gender, we see that specifically men from City C spent the most and that among all 3 cities, men spent the most."
      ],
      "metadata": {
        "id": "n6VaPwPDGl4w"
      }
    },
    {
      "cell_type": "code",
      "source": [
        "sns.barplot(data = train_data, x = \"Gender\", y = \"Purchase\")"
      ],
      "metadata": {
        "colab": {
          "base_uri": "https://localhost:8080/",
          "height": 296
        },
        "id": "CGy44OJ9GvrV",
        "outputId": "89fea116-020a-4e4e-b02f-9f1e34a23bd3"
      },
      "execution_count": 131,
      "outputs": [
        {
          "output_type": "execute_result",
          "data": {
            "text/plain": [
              "<Axes: xlabel='Gender', ylabel='Purchase'>"
            ]
          },
          "metadata": {},
          "execution_count": 131
        },
        {
          "output_type": "display_data",
          "data": {
            "text/plain": [
              "<Figure size 432x288 with 1 Axes>"
            ],
            "image/png": "[encoded data removed]"
          },
          "metadata": {
            "needs_background": "light"
          }
        }
      ]
    },
    {
      "cell_type": "markdown",
      "source": [
        "As has been the case with the other plots, on average men spend more than women"
      ],
      "metadata": {
        "id": "pnKDLB77N32e"
      }
    },
    {
      "cell_type": "code",
      "source": [
        "sns.barplot(data = train_data, x = \"Gender\", y = \"Purchase\", hue = \"Marital_Status\")"
      ],
      "metadata": {
        "colab": {
          "base_uri": "https://localhost:8080/",
          "height": 296
        },
        "id": "jt5ncTJsVNcS",
        "outputId": "301085c5-afc3-4358-c8a3-e19b5fd2c311"
      },
      "execution_count": 132,
      "outputs": [
        {
          "output_type": "execute_result",
          "data": {
            "text/plain": [
              "<Axes: xlabel='Gender', ylabel='Purchase'>"
            ]
          },
          "metadata": {},
          "execution_count": 132
        },
        {
          "output_type": "display_data",
          "data": {
            "text/plain": [
              "<Figure size 432x288 with 1 Axes>"
            ],
            "image/png": "[encoded data removed]"
          },
          "metadata": {
            "needs_background": "light"
          }
        }
      ]
    },
    {
      "cell_type": "markdown",
      "source": [
        "If we look at marital status, men and women spent roughly the same amount regardless of marital status, with men spending on average more. "
      ],
      "metadata": {
        "id": "6ZnG8dm4h-rO"
      }
    },
    {
      "cell_type": "markdown",
      "source": [
        "### Exploring Occupation"
      ],
      "metadata": {
        "id": "DhCgSi6DQyML"
      }
    },
    {
      "cell_type": "code",
      "source": [
        "# Plot counts of the different occupations to see which occupation has the highest count\n",
        "sns.countplot(x  = train_data[\"Occupation\"])"
      ],
      "metadata": {
        "colab": {
          "base_uri": "https://localhost:8080/",
          "height": 296
        },
        "id": "yk_qjYvAQzy3",
        "outputId": "1c15ce27-56dc-4b66-ecde-6a7deaa76ea6"
      },
      "execution_count": 133,
      "outputs": [
        {
          "output_type": "execute_result",
          "data": {
            "text/plain": [
              "<Axes: xlabel='Occupation', ylabel='count'>"
            ]
          },
          "metadata": {},
          "execution_count": 133
        },
        {
          "output_type": "display_data",
          "data": {
            "text/plain": [
              "<Figure size 432x288 with 1 Axes>"
            ],
            "image/png": "[encoded data removed]"
          },
          "metadata": {
            "needs_background": "light"
          }
        }
      ]
    },
    {
      "cell_type": "markdown",
      "source": [
        "From the above plot we see that those in occupation 0 and 4 appear the most in the data followed by those in occupation 3"
      ],
      "metadata": {
        "id": "vBmN3hPJQ_9-"
      }
    },
    {
      "cell_type": "code",
      "source": [
        "# Plot count of occupation based on gender\n",
        "sns.countplot(x  = train_data[\"Occupation\"], hue = train_data[\"Gender\"])"
      ],
      "metadata": {
        "colab": {
          "base_uri": "https://localhost:8080/",
          "height": 296
        },
        "id": "Phq8xrmkSX-P",
        "outputId": "d54e3132-c8d2-4cc4-f99b-e81ec69edf35"
      },
      "execution_count": 134,
      "outputs": [
        {
          "output_type": "execute_result",
          "data": {
            "text/plain": [
              "<Axes: xlabel='Occupation', ylabel='count'>"
            ]
          },
          "metadata": {},
          "execution_count": 134
        },
        {
          "output_type": "display_data",
          "data": {
            "text/plain": [
              "<Figure size 432x288 with 1 Axes>"
            ],
            "image/png": "[encoded data removed]"
          },
          "metadata": {
            "needs_background": "light"
          }
        }
      ]
    },
    {
      "cell_type": "markdown",
      "source": [
        "Across almost all occupations, there are more men than women except for occupation 9."
      ],
      "metadata": {
        "id": "5WWgJ4G4TF3y"
      }
    },
    {
      "cell_type": "code",
      "source": [
        "# Plot occupation to purchase amount\n",
        "sns.barplot(data = train_data, x = \"Occupation\", y = \"Purchase\")"
      ],
      "metadata": {
        "colab": {
          "base_uri": "https://localhost:8080/",
          "height": 296
        },
        "id": "ujDJh0icQ94o",
        "outputId": "8587da1f-d155-4409-b047-75fc46b33788"
      },
      "execution_count": 135,
      "outputs": [
        {
          "output_type": "execute_result",
          "data": {
            "text/plain": [
              "<Axes: xlabel='Occupation', ylabel='Purchase'>"
            ]
          },
          "metadata": {},
          "execution_count": 135
        },
        {
          "output_type": "display_data",
          "data": {
            "text/plain": [
              "<Figure size 432x288 with 1 Axes>"
            ],
            "image/png": "[encoded data removed]"
          },
          "metadata": {
            "needs_background": "light"
          }
        }
      ]
    },
    {
      "cell_type": "markdown",
      "source": [
        "Overall across all occupations, the average purchase amount is relatively the same"
      ],
      "metadata": {
        "id": "H5JgmkLSRXr-"
      }
    },
    {
      "cell_type": "code",
      "source": [
        "# What if we discriminated the occupations based on gender\n",
        "sns.barplot(data = train_data, x = \"Occupation\", y = \"Purchase\", hue = \"Gender\")"
      ],
      "metadata": {
        "colab": {
          "base_uri": "https://localhost:8080/",
          "height": 296
        },
        "id": "iVixNz-DRQCS",
        "outputId": "78dd3eb4-32c5-4c7d-d5b9-84068a1c799c"
      },
      "execution_count": 136,
      "outputs": [
        {
          "output_type": "execute_result",
          "data": {
            "text/plain": [
              "<Axes: xlabel='Occupation', ylabel='Purchase'>"
            ]
          },
          "metadata": {},
          "execution_count": 136
        },
        {
          "output_type": "display_data",
          "data": {
            "text/plain": [
              "<Figure size 432x288 with 1 Axes>"
            ],
            "image/png": "[encoded data removed]"
          },
          "metadata": {
            "needs_background": "light"
          }
        }
      ]
    },
    {
      "cell_type": "markdown",
      "source": [
        "Across almost all occupations, men on average purchased more than women, however in occupation 18, we see that women spent far more than men. Furthermore, we see that the difference between men and women in spending across the different occupations is not that much compared to the large discrepancy between the number of men and women across the occupations (Occupation 18 has far more men than women and Occupation 9 has far more women than men, however men still had on average higher purchases)."
      ],
      "metadata": {
        "id": "aFpgljB4R0fl"
      }
    },
    {
      "cell_type": "markdown",
      "source": [
        " ## Cleaning up the Data"
      ],
      "metadata": {
        "id": "KXV4ekAITA4U"
      }
    },
    {
      "cell_type": "markdown",
      "source": [
        "Looking at the User_ID, of the data, we see that in some instances the same User_ID is making purchases, meaning that the customer is buying multiple items. We can filter the data to condense the unique User_IDs. "
      ],
      "metadata": {
        "id": "xtttBjN9iQ9_"
      }
    },
    {
      "cell_type": "code",
      "source": [
        "# Create a DataFrame of only the unique User_ID\n",
        "first_unique = train_data[train_data[\"User_ID\"] == train_data[\"User_ID\"].unique()[0]]\n",
        "all_unique = first_unique.head(1)\n",
        "all_unique[\"Purchase_Count\"] = list(first_unique.User_ID.value_counts())\n",
        "\n",
        "for ID in train_data[\"User_ID\"].unique()[1:]:\n",
        "  unique_id = train_data[train_data[\"User_ID\"] == ID].head(1)\n",
        "  count = list(train_data[train_data[\"User_ID\"] == ID].User_ID.value_counts())\n",
        "  unique_id[\"Purchase_Count\"] = count\n",
        "  all_unique = pd.concat([all_unique, unique_id]).reset_index(drop=True)\n",
        "all_unique.drop([\"Product_ID\", \"Product_Category_1\", \"Product_Category_2\", \"Purchase\"], axis=1, inplace=True)"
      ],
      "metadata": {
        "id": "f0D2I0eziPUA",
        "colab": {
          "base_uri": "https://localhost:8080/"
        },
        "outputId": "ce607c80-69c5-4b6d-8c81-86450787b652"
      },
      "execution_count": 137,
      "outputs": [
        {
          "output_type": "stream",
          "name": "stderr",
          "text": [
            "<ipython-input-137-f7fbe60d3722>:4: SettingWithCopyWarning: \n",
            "A value is trying to be set on a copy of a slice from a DataFrame.\n",
            "Try using .loc[row_indexer,col_indexer] = value instead\n",
            "\n",
            "See the caveats in the documentation: https://pandas.pydata.org/pandas-docs/stable/user_guide/indexing.html#returning-a-view-versus-a-copy\n",
            "  all_unique[\"Purchase_Count\"] = list(first_unique.User_ID.value_counts())\n"
          ]
        }
      ]
    },
    {
      "cell_type": "code",
      "source": [
        "all_unique.head()"
      ],
      "metadata": {
        "colab": {
          "base_uri": "https://localhost:8080/",
          "height": 339
        },
        "id": "MzQZlSmNfPS7",
        "outputId": "ead3b4e1-bd57-4e72-9c15-4ccd3f188e44"
      },
      "execution_count": 138,
      "outputs": [
        {
          "output_type": "execute_result",
          "data": {
            "text/plain": [
              "   User_ID Gender    Age  Occupation City_Category Stay_In_Current_City_Years  \\\n",
              "0  1000001      F   0-17          10             A                          2   \n",
              "1  1000002      M    55+          16             C                         4+   \n",
              "2  1000003      M  26-35          15             A                          3   \n",
              "3  1000004      M  46-50           7             B                          2   \n",
              "4  1000005      M  26-35          20             A                          1   \n",
              "\n",
              "   Marital_Status  Purchase_Count  \n",
              "0               0              35  \n",
              "1               0              77  \n",
              "2               0              29  \n",
              "3               1              14  \n",
              "4               1             106  "
            ],
            "text/html": [
              "\n",
              "  <div id=\"df-ea917861-2961-4cf9-a712-89e3a5032683\">\n",
              "    <div class=\"colab-df-container\">\n",
              "      <div>\n",
              "<style scoped>\n",
              "    .dataframe tbody tr th:only-of-type {\n",
              "        vertical-align: middle;\n",
              "    }\n",
              "\n",
              "    .dataframe tbody tr th {\n",
              "        vertical-align: top;\n",
              "    }\n",
              "\n",
              "    .dataframe thead th {\n",
              "        text-align: right;\n",
              "    }\n",
              "</style>\n",
              "<table border=\"1\" class=\"dataframe\">\n",
              "  <thead>\n",
              "    <tr style=\"text-align: right;\">\n",
              "      <th></th>\n",
              "      <th>User_ID</th>\n",
              "      <th>Gender</th>\n",
              "      <th>Age</th>\n",
              "      <th>Occupation</th>\n",
              "      <th>City_Category</th>\n",
              "      <th>Stay_In_Current_City_Years</th>\n",
              "      <th>Marital_Status</th>\n",
              "      <th>Purchase_Count</th>\n",
              "    </tr>\n",
              "  </thead>\n",
              "  <tbody>\n",
              "    <tr>\n",
              "      <th>0</th>\n",
              "      <td>1000001</td>\n",
              "      <td>F</td>\n",
              "      <td>0-17</td>\n",
              "      <td>10</td>\n",
              "      <td>A</td>\n",
              "      <td>2</td>\n",
              "      <td>0</td>\n",
              "      <td>35</td>\n",
              "    </tr>\n",
              "    <tr>\n",
              "      <th>1</th>\n",
              "      <td>1000002</td>\n",
              "      <td>M</td>\n",
              "      <td>55+</td>\n",
              "      <td>16</td>\n",
              "      <td>C</td>\n",
              "      <td>4+</td>\n",
              "      <td>0</td>\n",
              "      <td>77</td>\n",
              "    </tr>\n",
              "    <tr>\n",
              "      <th>2</th>\n",
              "      <td>1000003</td>\n",
              "      <td>M</td>\n",
              "      <td>26-35</td>\n",
              "      <td>15</td>\n",
              "      <td>A</td>\n",
              "      <td>3</td>\n",
              "      <td>0</td>\n",
              "      <td>29</td>\n",
              "    </tr>\n",
              "    <tr>\n",
              "      <th>3</th>\n",
              "      <td>1000004</td>\n",
              "      <td>M</td>\n",
              "      <td>46-50</td>\n",
              "      <td>7</td>\n",
              "      <td>B</td>\n",
              "      <td>2</td>\n",
              "      <td>1</td>\n",
              "      <td>14</td>\n",
              "    </tr>\n",
              "    <tr>\n",
              "      <th>4</th>\n",
              "      <td>1000005</td>\n",
              "      <td>M</td>\n",
              "      <td>26-35</td>\n",
              "      <td>20</td>\n",
              "      <td>A</td>\n",
              "      <td>1</td>\n",
              "      <td>1</td>\n",
              "      <td>106</td>\n",
              "    </tr>\n",
              "  </tbody>\n",
              "</table>\n",
              "</div>\n",
              "      <button class=\"colab-df-convert\" onclick=\"convertToInteractive('df-ea917861-2961-4cf9-a712-89e3a5032683')\"\n",
              "              title=\"Convert this dataframe to an interactive table.\"\n",
              "              style=\"display:none;\">\n",
              "        \n",
              "  <svg xmlns=\"http://www.w3.org/2000/svg\" height=\"24px\"viewBox=\"0 0 24 24\"\n",
              "       width=\"24px\">\n",
              "    <path d=\"M0 0h24v24H0V0z\" fill=\"none\"/>\n",
              "    <path d=\"M18.56 5.44l.94 2.06.94-2.06 2.06-.94-2.06-.94-.94-2.06-.94 2.06-2.06.94zm-11 1L8.5 8.5l.94-2.06 2.06-.94-2.06-.94L8.5 2.5l-.94 2.06-2.06.94zm10 10l.94 2.06.94-2.06 2.06-.94-2.06-.94-.94-2.06-.94 2.06-2.06.94z\"/><path d=\"M17.41 7.96l-1.37-1.37c-.4-.4-.92-.59-1.43-.59-.52 0-1.04.2-1.43.59L10.3 9.45l-7.72 7.72c-.78.78-.78 2.05 0 2.83L4 21.41c.39.39.9.59 1.41.59.51 0 1.02-.2 1.41-.59l7.78-7.78 2.81-2.81c.8-.78.8-2.07 0-2.86zM5.41 20L4 18.59l7.72-7.72 1.47 1.35L5.41 20z\"/>\n",
              "  </svg>\n",
              "      </button>\n",
              "      \n",
              "  <style>\n",
              "    .colab-df-container {\n",
              "      display:flex;\n",
              "      flex-wrap:wrap;\n",
              "      gap: 12px;\n",
              "    }\n",
              "\n",
              "    .colab-df-convert {\n",
              "      background-color: #E8F0FE;\n",
              "      border: none;\n",
              "      border-radius: 50%;\n",
              "      cursor: pointer;\n",
              "      display: none;\n",
              "      fill: #1967D2;\n",
              "      height: 32px;\n",
              "      padding: 0 0 0 0;\n",
              "      width: 32px;\n",
              "    }\n",
              "\n",
              "    .colab-df-convert:hover {\n",
              "      background-color: #E2EBFA;\n",
              "      box-shadow: 0px 1px 2px rgba(60, 64, 67, 0.3), 0px 1px 3px 1px rgba(60, 64, 67, 0.15);\n",
              "      fill: #174EA6;\n",
              "    }\n",
              "\n",
              "    [theme=dark] .colab-df-convert {\n",
              "      background-color: #3B4455;\n",
              "      fill: #D2E3FC;\n",
              "    }\n",
              "\n",
              "    [theme=dark] .colab-df-convert:hover {\n",
              "      background-color: #434B5C;\n",
              "      box-shadow: 0px 1px 3px 1px rgba(0, 0, 0, 0.15);\n",
              "      filter: drop-shadow(0px 1px 2px rgba(0, 0, 0, 0.3));\n",
              "      fill: #FFFFFF;\n",
              "    }\n",
              "  </style>\n",
              "\n",
              "      <script>\n",
              "        const buttonEl =\n",
              "          document.querySelector('#df-ea917861-2961-4cf9-a712-89e3a5032683 button.colab-df-convert');\n",
              "        buttonEl.style.display =\n",
              "          google.colab.kernel.accessAllowed ? 'block' : 'none';\n",
              "\n",
              "        async function convertToInteractive(key) {\n",
              "          const element = document.querySelector('#df-ea917861-2961-4cf9-a712-89e3a5032683');\n",
              "          const dataTable =\n",
              "            await google.colab.kernel.invokeFunction('convertToInteractive',\n",
              "                                                     [key], {});\n",
              "          if (!dataTable) return;\n",
              "\n",
              "          const docLinkHtml = 'Like what you see? Visit the ' +\n",
              "            '<a target=\"_blank\" href=https://colab.research.google.com/notebooks/data_table.ipynb>data table notebook</a>'\n",
              "            + ' to learn more about interactive tables.';\n",
              "          element.innerHTML = '';\n",
              "          dataTable['output_type'] = 'display_data';\n",
              "          await google.colab.output.renderOutput(dataTable, element);\n",
              "          const docLink = document.createElement('div');\n",
              "          docLink.innerHTML = docLinkHtml;\n",
              "          element.appendChild(docLink);\n",
              "        }\n",
              "      </script>\n",
              "    </div>\n",
              "  </div>\n",
              "  "
            ]
          },
          "metadata": {},
          "execution_count": 138
        }
      ]
    },
    {
      "cell_type": "markdown",
      "source": [
        "### Exploratory Data Analysis on the Unique IDs"
      ],
      "metadata": {
        "id": "tRoLQIFZfsDQ"
      }
    },
    {
      "cell_type": "code",
      "source": [
        "sns.countplot(data = all_unique, x = \"Gender\")"
      ],
      "metadata": {
        "colab": {
          "base_uri": "https://localhost:8080/",
          "height": 296
        },
        "id": "OAX0eS4Ef0J_",
        "outputId": "c40046ad-5986-4a15-b4ea-a0587105c5ec"
      },
      "execution_count": 139,
      "outputs": [
        {
          "output_type": "execute_result",
          "data": {
            "text/plain": [
              "<Axes: xlabel='Gender', ylabel='count'>"
            ]
          },
          "metadata": {},
          "execution_count": 139
        },
        {
          "output_type": "display_data",
          "data": {
            "text/plain": [
              "<Figure size 432x288 with 1 Axes>"
            ],
            "image/png": "[encoded data removed]"
          },
          "metadata": {
            "needs_background": "light"
          }
        }
      ]
    },
    {
      "cell_type": "markdown",
      "source": [
        "Among all Unique IDs, men make more purchases than women"
      ],
      "metadata": {
        "id": "_wtHNUfOiV85"
      }
    },
    {
      "cell_type": "code",
      "source": [
        "sns.countplot(data = all_unique, x = \"Age\", hue = \"Gender\")"
      ],
      "metadata": {
        "colab": {
          "base_uri": "https://localhost:8080/",
          "height": 296
        },
        "id": "vm4oR-kwiULk",
        "outputId": "79c3f05d-4ce5-4fd4-e43a-20913c261931"
      },
      "execution_count": 140,
      "outputs": [
        {
          "output_type": "execute_result",
          "data": {
            "text/plain": [
              "<Axes: xlabel='Age', ylabel='count'>"
            ]
          },
          "metadata": {},
          "execution_count": 140
        },
        {
          "output_type": "display_data",
          "data": {
            "text/plain": [
              "<Figure size 432x288 with 1 Axes>"
            ],
            "image/png": "[encoded data removed]"
          },
          "metadata": {
            "needs_background": "light"
          }
        }
      ]
    },
    {
      "cell_type": "markdown",
      "source": [
        "We see the same trend as previously in that men of age range 26 - 35 make the most number of purchases"
      ],
      "metadata": {
        "id": "r4svvHhfi1py"
      }
    },
    {
      "cell_type": "code",
      "source": [
        "sns.countplot(data = all_unique, x = \"Age\", hue = \"Marital_Status\")"
      ],
      "metadata": {
        "colab": {
          "base_uri": "https://localhost:8080/",
          "height": 296
        },
        "id": "6WVESht0inTe",
        "outputId": "b436d068-4fc0-400d-a53b-6f5def08080d"
      },
      "execution_count": 141,
      "outputs": [
        {
          "output_type": "execute_result",
          "data": {
            "text/plain": [
              "<Axes: xlabel='Age', ylabel='count'>"
            ]
          },
          "metadata": {},
          "execution_count": 141
        },
        {
          "output_type": "display_data",
          "data": {
            "text/plain": [
              "<Figure size 432x288 with 1 Axes>"
            ],
            "image/png": "[encoded data removed]"
          },
          "metadata": {
            "needs_background": "light"
          }
        }
      ]
    },
    {
      "cell_type": "markdown",
      "source": [
        "Those who are unmarried in the age range 26 - 35 make the most number of purchases"
      ],
      "metadata": {
        "id": "KSj7WKYTjC1_"
      }
    },
    {
      "cell_type": "code",
      "source": [
        "sns.countplot(data = all_unique, x = \"City_Category\")"
      ],
      "metadata": {
        "colab": {
          "base_uri": "https://localhost:8080/",
          "height": 297
        },
        "id": "TXQPVcmDi_5B",
        "outputId": "24d0811b-e4c9-4c44-8c37-49b3fbba3ab8"
      },
      "execution_count": 142,
      "outputs": [
        {
          "output_type": "execute_result",
          "data": {
            "text/plain": [
              "<Axes: xlabel='City_Category', ylabel='count'>"
            ]
          },
          "metadata": {},
          "execution_count": 142
        },
        {
          "output_type": "display_data",
          "data": {
            "text/plain": [
              "<Figure size 432x288 with 1 Axes>"
            ],
            "image/png": "[encoded data removed]"
          },
          "metadata": {
            "needs_background": "light"
          }
        }
      ]
    },
    {
      "cell_type": "markdown",
      "source": [
        "As seen previously, those from City C make the most number of purchases"
      ],
      "metadata": {
        "id": "HXjmWcbVjVzW"
      }
    },
    {
      "cell_type": "code",
      "source": [
        "sns.countplot(data = all_unique, x = \"Occupation\")"
      ],
      "metadata": {
        "colab": {
          "base_uri": "https://localhost:8080/",
          "height": 296
        },
        "id": "04enmgArjVLs",
        "outputId": "528433c7-5071-49a4-c064-e49cf3a54958"
      },
      "execution_count": 143,
      "outputs": [
        {
          "output_type": "execute_result",
          "data": {
            "text/plain": [
              "<Axes: xlabel='Occupation', ylabel='count'>"
            ]
          },
          "metadata": {},
          "execution_count": 143
        },
        {
          "output_type": "display_data",
          "data": {
            "text/plain": [
              "<Figure size 432x288 with 1 Axes>"
            ],
            "image/png": "[encoded data removed]"
          },
          "metadata": {
            "needs_background": "light"
          }
        }
      ]
    },
    {
      "cell_type": "markdown",
      "source": [
        "As observed prior, those in occupation 0, 4, and 7 make the most number of purchases"
      ],
      "metadata": {
        "id": "r9XlTqVrjcNh"
      }
    },
    {
      "cell_type": "markdown",
      "source": [
        "## Observing the Top 10 Purchases"
      ],
      "metadata": {
        "id": "e5Kzyp9xjbZT"
      }
    },
    {
      "cell_type": "code",
      "source": [
        "top_ten = all_unique.sort_values(by=\"Purchase_Count\", ascending=False).head(10)\n",
        "top_ten"
      ],
      "metadata": {
        "colab": {
          "base_uri": "https://localhost:8080/",
          "height": 583
        },
        "id": "GhPjbCo1jozV",
        "outputId": "d5405dbe-1aa6-43f0-de4b-5d76ab1367de"
      },
      "execution_count": 144,
      "outputs": [
        {
          "output_type": "execute_result",
          "data": {
            "text/plain": [
              "      User_ID Gender    Age  Occupation City_Category  \\\n",
              "1488  1001680      M  26-35          20             A   \n",
              "3772  1004277      M  36-45          16             A   \n",
              "1716  1001941      M  36-45          17             A   \n",
              "1049  1001181      M  36-45           7             A   \n",
              "790   1000889      M  46-50          20             A   \n",
              "3179  1003618      M    55+          17             A   \n",
              "1022  1001150      F  26-35          20             A   \n",
              "899   1001015      M  36-45           3             A   \n",
              "5111  1005795      M  26-35           1             A   \n",
              "5141  1005831      M  26-35           1             A   \n",
              "\n",
              "     Stay_In_Current_City_Years  Marital_Status  Purchase_Count  \n",
              "1488                          3               1            1026  \n",
              "3772                          0               0             979  \n",
              "1716                          1               0             898  \n",
              "1049                          3               1             862  \n",
              "790                           1               0             823  \n",
              "3179                         4+               1             767  \n",
              "1022                          1               0             752  \n",
              "899                          4+               1             740  \n",
              "5111                          1               1             729  \n",
              "5141                          2               1             727  "
            ],
            "text/html": [
              "\n",
              "  <div id=\"df-8ee7f00f-cc8c-4cbd-99fd-b583f856cbb4\">\n",
              "    <div class=\"colab-df-container\">\n",
              "      <div>\n",
              "<style scoped>\n",
              "    .dataframe tbody tr th:only-of-type {\n",
              "        vertical-align: middle;\n",
              "    }\n",
              "\n",
              "    .dataframe tbody tr th {\n",
              "        vertical-align: top;\n",
              "    }\n",
              "\n",
              "    .dataframe thead th {\n",
              "        text-align: right;\n",
              "    }\n",
              "</style>\n",
              "<table border=\"1\" class=\"dataframe\">\n",
              "  <thead>\n",
              "    <tr style=\"text-align: right;\">\n",
              "      <th></th>\n",
              "      <th>User_ID</th>\n",
              "      <th>Gender</th>\n",
              "      <th>Age</th>\n",
              "      <th>Occupation</th>\n",
              "      <th>City_Category</th>\n",
              "      <th>Stay_In_Current_City_Years</th>\n",
              "      <th>Marital_Status</th>\n",
              "      <th>Purchase_Count</th>\n",
              "    </tr>\n",
              "  </thead>\n",
              "  <tbody>\n",
              "    <tr>\n",
              "      <th>1488</th>\n",
              "      <td>1001680</td>\n",
              "      <td>M</td>\n",
              "      <td>26-35</td>\n",
              "      <td>20</td>\n",
              "      <td>A</td>\n",
              "      <td>3</td>\n",
              "      <td>1</td>\n",
              "      <td>1026</td>\n",
              "    </tr>\n",
              "    <tr>\n",
              "      <th>3772</th>\n",
              "      <td>1004277</td>\n",
              "      <td>M</td>\n",
              "      <td>36-45</td>\n",
              "      <td>16</td>\n",
              "      <td>A</td>\n",
              "      <td>0</td>\n",
              "      <td>0</td>\n",
              "      <td>979</td>\n",
              "    </tr>\n",
              "    <tr>\n",
              "      <th>1716</th>\n",
              "      <td>1001941</td>\n",
              "      <td>M</td>\n",
              "      <td>36-45</td>\n",
              "      <td>17</td>\n",
              "      <td>A</td>\n",
              "      <td>1</td>\n",
              "      <td>0</td>\n",
              "      <td>898</td>\n",
              "    </tr>\n",
              "    <tr>\n",
              "      <th>1049</th>\n",
              "      <td>1001181</td>\n",
              "      <td>M</td>\n",
              "      <td>36-45</td>\n",
              "      <td>7</td>\n",
              "      <td>A</td>\n",
              "      <td>3</td>\n",
              "      <td>1</td>\n",
              "      <td>862</td>\n",
              "    </tr>\n",
              "    <tr>\n",
              "      <th>790</th>\n",
              "      <td>1000889</td>\n",
              "      <td>M</td>\n",
              "      <td>46-50</td>\n",
              "      <td>20</td>\n",
              "      <td>A</td>\n",
              "      <td>1</td>\n",
              "      <td>0</td>\n",
              "      <td>823</td>\n",
              "    </tr>\n",
              "    <tr>\n",
              "      <th>3179</th>\n",
              "      <td>1003618</td>\n",
              "      <td>M</td>\n",
              "      <td>55+</td>\n",
              "      <td>17</td>\n",
              "      <td>A</td>\n",
              "      <td>4+</td>\n",
              "      <td>1</td>\n",
              "      <td>767</td>\n",
              "    </tr>\n",
              "    <tr>\n",
              "      <th>1022</th>\n",
              "      <td>1001150</td>\n",
              "      <td>F</td>\n",
              "      <td>26-35</td>\n",
              "      <td>20</td>\n",
              "      <td>A</td>\n",
              "      <td>1</td>\n",
              "      <td>0</td>\n",
              "      <td>752</td>\n",
              "    </tr>\n",
              "    <tr>\n",
              "      <th>899</th>\n",
              "      <td>1001015</td>\n",
              "      <td>M</td>\n",
              "      <td>36-45</td>\n",
              "      <td>3</td>\n",
              "      <td>A</td>\n",
              "      <td>4+</td>\n",
              "      <td>1</td>\n",
              "      <td>740</td>\n",
              "    </tr>\n",
              "    <tr>\n",
              "      <th>5111</th>\n",
              "      <td>1005795</td>\n",
              "      <td>M</td>\n",
              "      <td>26-35</td>\n",
              "      <td>1</td>\n",
              "      <td>A</td>\n",
              "      <td>1</td>\n",
              "      <td>1</td>\n",
              "      <td>729</td>\n",
              "    </tr>\n",
              "    <tr>\n",
              "      <th>5141</th>\n",
              "      <td>1005831</td>\n",
              "      <td>M</td>\n",
              "      <td>26-35</td>\n",
              "      <td>1</td>\n",
              "      <td>A</td>\n",
              "      <td>2</td>\n",
              "      <td>1</td>\n",
              "      <td>727</td>\n",
              "    </tr>\n",
              "  </tbody>\n",
              "</table>\n",
              "</div>\n",
              "      <button class=\"colab-df-convert\" onclick=\"convertToInteractive('df-8ee7f00f-cc8c-4cbd-99fd-b583f856cbb4')\"\n",
              "              title=\"Convert this dataframe to an interactive table.\"\n",
              "              style=\"display:none;\">\n",
              "        \n",
              "  <svg xmlns=\"http://www.w3.org/2000/svg\" height=\"24px\"viewBox=\"0 0 24 24\"\n",
              "       width=\"24px\">\n",
              "    <path d=\"M0 0h24v24H0V0z\" fill=\"none\"/>\n",
              "    <path d=\"M18.56 5.44l.94 2.06.94-2.06 2.06-.94-2.06-.94-.94-2.06-.94 2.06-2.06.94zm-11 1L8.5 8.5l.94-2.06 2.06-.94-2.06-.94L8.5 2.5l-.94 2.06-2.06.94zm10 10l.94 2.06.94-2.06 2.06-.94-2.06-.94-.94-2.06-.94 2.06-2.06.94z\"/><path d=\"M17.41 7.96l-1.37-1.37c-.4-.4-.92-.59-1.43-.59-.52 0-1.04.2-1.43.59L10.3 9.45l-7.72 7.72c-.78.78-.78 2.05 0 2.83L4 21.41c.39.39.9.59 1.41.59.51 0 1.02-.2 1.41-.59l7.78-7.78 2.81-2.81c.8-.78.8-2.07 0-2.86zM5.41 20L4 18.59l7.72-7.72 1.47 1.35L5.41 20z\"/>\n",
              "  </svg>\n",
              "      </button>\n",
              "      \n",
              "  <style>\n",
              "    .colab-df-container {\n",
              "      display:flex;\n",
              "      flex-wrap:wrap;\n",
              "      gap: 12px;\n",
              "    }\n",
              "\n",
              "    .colab-df-convert {\n",
              "      background-color: #E8F0FE;\n",
              "      border: none;\n",
              "      border-radius: 50%;\n",
              "      cursor: pointer;\n",
              "      display: none;\n",
              "      fill: #1967D2;\n",
              "      height: 32px;\n",
              "      padding: 0 0 0 0;\n",
              "      width: 32px;\n",
              "    }\n",
              "\n",
              "    .colab-df-convert:hover {\n",
              "      background-color: #E2EBFA;\n",
              "      box-shadow: 0px 1px 2px rgba(60, 64, 67, 0.3), 0px 1px 3px 1px rgba(60, 64, 67, 0.15);\n",
              "      fill: #174EA6;\n",
              "    }\n",
              "\n",
              "    [theme=dark] .colab-df-convert {\n",
              "      background-color: #3B4455;\n",
              "      fill: #D2E3FC;\n",
              "    }\n",
              "\n",
              "    [theme=dark] .colab-df-convert:hover {\n",
              "      background-color: #434B5C;\n",
              "      box-shadow: 0px 1px 3px 1px rgba(0, 0, 0, 0.15);\n",
              "      filter: drop-shadow(0px 1px 2px rgba(0, 0, 0, 0.3));\n",
              "      fill: #FFFFFF;\n",
              "    }\n",
              "  </style>\n",
              "\n",
              "      <script>\n",
              "        const buttonEl =\n",
              "          document.querySelector('#df-8ee7f00f-cc8c-4cbd-99fd-b583f856cbb4 button.colab-df-convert');\n",
              "        buttonEl.style.display =\n",
              "          google.colab.kernel.accessAllowed ? 'block' : 'none';\n",
              "\n",
              "        async function convertToInteractive(key) {\n",
              "          const element = document.querySelector('#df-8ee7f00f-cc8c-4cbd-99fd-b583f856cbb4');\n",
              "          const dataTable =\n",
              "            await google.colab.kernel.invokeFunction('convertToInteractive',\n",
              "                                                     [key], {});\n",
              "          if (!dataTable) return;\n",
              "\n",
              "          const docLinkHtml = 'Like what you see? Visit the ' +\n",
              "            '<a target=\"_blank\" href=https://colab.research.google.com/notebooks/data_table.ipynb>data table notebook</a>'\n",
              "            + ' to learn more about interactive tables.';\n",
              "          element.innerHTML = '';\n",
              "          dataTable['output_type'] = 'display_data';\n",
              "          await google.colab.output.renderOutput(dataTable, element);\n",
              "          const docLink = document.createElement('div');\n",
              "          docLink.innerHTML = docLinkHtml;\n",
              "          element.appendChild(docLink);\n",
              "        }\n",
              "      </script>\n",
              "    </div>\n",
              "  </div>\n",
              "  "
            ]
          },
          "metadata": {},
          "execution_count": 144
        }
      ]
    },
    {
      "cell_type": "markdown",
      "source": [
        "### Exploratory Data Analysis on Top 10 Purchases comparison to Unique IDs"
      ],
      "metadata": {
        "id": "PBJXeRJfjr2c"
      }
    },
    {
      "cell_type": "code",
      "source": [
        "# Plot the age ranges of the top purchases\n",
        "plt.figure(figsize = (15,6))\n",
        "\n",
        "plt.subplot(1,2,1)\n",
        "sns.countplot(data = all_unique, x = \"Age\")\n",
        "plt.title(\"All Purchases\")\n",
        "\n",
        "plt.subplot(1,2,2)\n",
        "sns.countplot(data = top_ten, x = \"Age\")\n",
        "plt.title(\"Top 10 Purchases\")"
      ],
      "metadata": {
        "colab": {
          "base_uri": "https://localhost:8080/",
          "height": 380
        },
        "id": "MXGG9pM_j27N",
        "outputId": "307aaf79-7fc2-4b09-c5b7-fb91adbd07a2"
      },
      "execution_count": 145,
      "outputs": [
        {
          "output_type": "execute_result",
          "data": {
            "text/plain": [
              "Text(0.5, 1.0, 'Top 10 Purchases')"
            ]
          },
          "metadata": {},
          "execution_count": 145
        },
        {
          "output_type": "display_data",
          "data": {
            "text/plain": [
              "<Figure size 1080x432 with 2 Axes>"
            ],
            "image/png": "[encoded data removed]"
          },
          "metadata": {
            "needs_background": "light"
          }
        }
      ]
    },
    {
      "cell_type": "markdown",
      "source": [
        "As we see that unlike prior plots, we see that those of age range 26 - 35 and 36 - 45 make the most number of high purchases, which is different from when looking at all purchases"
      ],
      "metadata": {
        "id": "0yuszLpakF-s"
      }
    },
    {
      "cell_type": "code",
      "source": [
        "# Break down the previous plot by subdividing by gender\n",
        "plt.figure(figsize = (15,6))\n",
        "\n",
        "plt.subplot(1,2,1)\n",
        "sns.countplot(data = all_unique, x = \"Age\", hue = \"Gender\")\n",
        "plt.title(\"All Purchases\")\n",
        "\n",
        "plt.subplot(1,2,2)\n",
        "sns.countplot(data = top_ten, x = \"Age\", hue = \"Gender\")\n",
        "plt.title(\"Top Ten Purchases\")"
      ],
      "metadata": {
        "colab": {
          "base_uri": "https://localhost:8080/",
          "height": 380
        },
        "id": "oIWYfDZ2kDgG",
        "outputId": "127970e2-2548-471d-fd5f-ed71f35945bc"
      },
      "execution_count": 146,
      "outputs": [
        {
          "output_type": "execute_result",
          "data": {
            "text/plain": [
              "Text(0.5, 1.0, 'Top Ten Purchases')"
            ]
          },
          "metadata": {},
          "execution_count": 146
        },
        {
          "output_type": "display_data",
          "data": {
            "text/plain": [
              "<Figure size 1080x432 with 2 Axes>"
            ],
            "image/png": "[encoded data removed]"
          },
          "metadata": {
            "needs_background": "light"
          }
        }
      ]
    },
    {
      "cell_type": "markdown",
      "source": [
        "From the plot, only one women (in the age range 26 - 35) makes any high purchase. However, we see that men in the 36 - 45 age category make very high purchases, whereas those in the 26 - 35 age range make the most overall number of purchases"
      ],
      "metadata": {
        "id": "d6VZ1igxkfcc"
      }
    },
    {
      "cell_type": "code",
      "source": [
        "# Break down top purchases by gender differentiating with Marital Status\n",
        "plt.figure(figsize = (15,6))\n",
        "\n",
        "plt.subplot(1,2,1)\n",
        "sns.countplot(data = all_unique, x = \"Gender\", hue = \"Marital_Status\")\n",
        "plt.title(\"All Purchases\")\n",
        "\n",
        "plt.subplot(1,2,2)\n",
        "sns.countplot(data = top_ten, x = \"Gender\", hue = \"Marital_Status\")\n",
        "plt.title(\"Top Ten Purchases\")"
      ],
      "metadata": {
        "colab": {
          "base_uri": "https://localhost:8080/",
          "height": 380
        },
        "id": "KtZhJ_oGkdap",
        "outputId": "85cc0592-526a-463c-efbb-678cd7b27a7a"
      },
      "execution_count": 147,
      "outputs": [
        {
          "output_type": "execute_result",
          "data": {
            "text/plain": [
              "Text(0.5, 1.0, 'Top Ten Purchases')"
            ]
          },
          "metadata": {},
          "execution_count": 147
        },
        {
          "output_type": "display_data",
          "data": {
            "text/plain": [
              "<Figure size 1080x432 with 2 Axes>"
            ],
            "image/png": "[encoded data removed]"
          },
          "metadata": {
            "needs_background": "light"
          }
        }
      ]
    },
    {
      "cell_type": "markdown",
      "source": [
        "In this plot, we see a big difference when looking at total number of purchases versus the top ten purchases.\n",
        "* When looking at all purchases, we see that unmarried men make the most number of purchases, however more married men make high purchases\n",
        "* Furthermore, we see that only one woman (unmarried) made a high purchase\n",
        "* This could possibly show that married men make large purchases for family"
      ],
      "metadata": {
        "id": "WjnBqoVQk-2f"
      }
    },
    {
      "cell_type": "code",
      "source": [
        "# Break down the top purchases based on Occupation\n",
        "plt.figure(figsize = (15,6))\n",
        "\n",
        "plt.subplot(1,2,1)\n",
        "sns.countplot(data = all_unique, x = \"Occupation\", hue = \"Gender\")\n",
        "plt.title(\"All Purchases\")\n",
        "\n",
        "plt.subplot(1,2,2)\n",
        "sns.countplot(data = top_ten, x = \"Occupation\", hue = \"Gender\")\n",
        "plt.title(\"Top Ten Purchases\")"
      ],
      "metadata": {
        "colab": {
          "base_uri": "https://localhost:8080/",
          "height": 382
        },
        "id": "Pky0xZ31k5vb",
        "outputId": "cbffc965-3547-4980-a5b6-f21c73368f7e"
      },
      "execution_count": 148,
      "outputs": [
        {
          "output_type": "execute_result",
          "data": {
            "text/plain": [
              "Text(0.5, 1.0, 'Top Ten Purchases')"
            ]
          },
          "metadata": {},
          "execution_count": 148
        },
        {
          "output_type": "display_data",
          "data": {
            "text/plain": [
              "<Figure size 1080x432 with 2 Axes>"
            ],
            "image/png": "[encoded data removed]"
          },
          "metadata": {
            "needs_background": "light"
          }
        }
      ]
    },
    {
      "cell_type": "markdown",
      "source": [
        "We see that even though occupation 7 has the highest overall number of purchases, occupation 20 makes the highest purchases"
      ],
      "metadata": {
        "id": "lZrmFdliqmaq"
      }
    },
    {
      "cell_type": "code",
      "source": [
        "# See which cities make the most and highest purchases\n",
        "plt.figure(figsize = (15,6))\n",
        "\n",
        "plt.subplot(1,2,1)\n",
        "sns.countplot(data = all_unique, x = \"City_Category\")\n",
        "plt.title(\"All Purchases\")\n",
        "\n",
        "plt.subplot(1,2,2)\n",
        "sns.countplot(data = top_ten, x = \"City_Category\")\n",
        "plt.title(\"Top 10 Purchases\")"
      ],
      "metadata": {
        "colab": {
          "base_uri": "https://localhost:8080/",
          "height": 381
        },
        "id": "Bb5E7O4ppfJS",
        "outputId": "8b0785c9-df44-4078-a762-40e89609a8d0"
      },
      "execution_count": 149,
      "outputs": [
        {
          "output_type": "execute_result",
          "data": {
            "text/plain": [
              "Text(0.5, 1.0, 'Top 10 Purchases')"
            ]
          },
          "metadata": {},
          "execution_count": 149
        },
        {
          "output_type": "display_data",
          "data": {
            "text/plain": [
              "<Figure size 1080x432 with 2 Axes>"
            ],
            "image/png": "[encoded data removed]"
          },
          "metadata": {
            "needs_background": "light"
          }
        }
      ]
    },
    {
      "cell_type": "markdown",
      "source": [
        "While City C had the most number of overall purchases, those in City A made all of the top ten purchases. This could be because people in City A are much wealthier. It could also be that the most expensive purchases appeal to those in City A"
      ],
      "metadata": {
        "id": "AigsyqM0rakz"
      }
    },
    {
      "cell_type": "code",
      "source": [
        "# Break down duration of time in City\n",
        "plt.figure(figsize = (15,6))\n",
        "\n",
        "plt.subplot(1,2,1)\n",
        "sns.countplot(data = all_unique, x = \"Stay_In_Current_City_Years\")\n",
        "plt.title(\"All Purchases\")\n",
        "\n",
        "plt.subplot(1,2,2)\n",
        "sns.countplot(data = top_ten, x = \"Stay_In_Current_City_Years\")\n",
        "plt.title(\"Top 10 Purchases\")"
      ],
      "metadata": {
        "colab": {
          "base_uri": "https://localhost:8080/",
          "height": 381
        },
        "id": "pxnmo5BYrWnE",
        "outputId": "91dc88dd-7c05-4c1f-ed26-ad9b2f516090"
      },
      "execution_count": 150,
      "outputs": [
        {
          "output_type": "execute_result",
          "data": {
            "text/plain": [
              "Text(0.5, 1.0, 'Top 10 Purchases')"
            ]
          },
          "metadata": {},
          "execution_count": 150
        },
        {
          "output_type": "display_data",
          "data": {
            "text/plain": [
              "<Figure size 1080x432 with 2 Axes>"
            ],
            "image/png": "[encoded data removed]"
          },
          "metadata": {
            "needs_background": "light"
          }
        }
      ]
    },
    {
      "cell_type": "markdown",
      "source": [
        "There appears to be no different between overall number of purchases and highest purchases. Those who have stayed in their City for 1 year make the most purchases"
      ],
      "metadata": {
        "id": "yxCkw_ZRsZJ9"
      }
    },
    {
      "cell_type": "markdown",
      "source": [
        "## Data Processing"
      ],
      "metadata": {
        "id": "1cihUh1_sUKN"
      }
    },
    {
      "cell_type": "code",
      "source": [
        "from sklearn.preprocessing import LabelEncoder\n",
        "encoder = LabelEncoder()\n",
        "\n",
        "# Drop Product_ID and User_ID\n",
        "train = train_data.drop([\"User_ID\",\"Product_ID\"] , axis = 1)\n",
        "\n",
        "# Gather all of the categorical columns to encode\n",
        "categorical_columns = train.select_dtypes(include=object).columns.tolist()\n",
        "\n",
        "# Apply the LabelEncoder to all of the categorical columns\n",
        "train[categorical_columns] = train[categorical_columns].apply(encoder.fit_transform)"
      ],
      "metadata": {
        "id": "Kr9zv2qxHKq7"
      },
      "execution_count": 151,
      "outputs": []
    },
    {
      "cell_type": "code",
      "source": [
        "plt.figure(figsize = (20, 10))\n",
        "sns.heatmap(train.corr(),linewidths=0.1,vmax=1.0, \n",
        "            square=True, cmap=\"RdYlGn\", linecolor='white', annot=True)"
      ],
      "metadata": {
        "colab": {
          "base_uri": "https://localhost:8080/",
          "height": 727
        },
        "id": "Zh22fDGaH5z-",
        "outputId": "626542b0-5f31-45ac-97bd-0ffbb4d4bf6e"
      },
      "execution_count": 152,
      "outputs": [
        {
          "output_type": "execute_result",
          "data": {
            "text/plain": [
              "<Axes: >"
            ]
          },
          "metadata": {},
          "execution_count": 152
        },
        {
          "output_type": "display_data",
          "data": {
            "text/plain": [
              "<Figure size 1440x720 with 2 Axes>"
            ],
            "image/png": "[encoded data removed]"
          },
          "metadata": {
            "needs_background": "light"
          }
        }
      ]
    },
    {
      "cell_type": "code",
      "source": [
        "# Standardizing the features and creating features and target for the model in the next step\n",
        "from sklearn.preprocessing import StandardScaler\n",
        "scaler = StandardScaler()\n",
        "\n",
        "# Get the features and target\n",
        "features = train.drop(\"Purchase\", axis = 1)\n",
        "target = train[\"Purchase\"]\n",
        "\n",
        "# Scale the features\n",
        "X = scaler.fit_transform(features)"
      ],
      "metadata": {
        "id": "yxcH4n6rPVbl"
      },
      "execution_count": null,
      "outputs": []
    },
    {
      "cell_type": "markdown",
      "source": [
        "## Deep Learning Method"
      ],
      "metadata": {
        "id": "FvVBhddgsmQu"
      }
    },
    {
      "cell_type": "markdown",
      "source": [
        "### Divide the Data into Batches"
      ],
      "metadata": {
        "id": "t0vVM0mKjEGT"
      }
    },
    {
      "cell_type": "code",
      "source": [
        "# Due to constraints on the RAM, divind the data into batches can help conserve memory\n",
        "import torch\n",
        "from torch import nn\n",
        "\n",
        "# Convert numpy array into torch tensors\n",
        "X = torch.from_numpy(features.to_numpy()).type(torch.float)\n",
        "y = torch.from_numpy(target.to_numpy()).type(torch.float)\n",
        "\n",
        "# Split the features and target into train and validation sets\n",
        "from sklearn.model_selection import train_test_split\n",
        "X_train, X_val, y_train, y_val = train_test_split(X, y, test_size = 0.20, shuffle = True, random_state = 42)\n",
        "\n",
        "from torch.utils.data import DataLoader, TensorDataset\n",
        "import os\n",
        "\n",
        "# Turn the data into TensorDataset\n",
        "train_dataset = TensorDataset(X_train, y_train)\n",
        "val_dataset = TensorDataset(X_val, y_val)\n",
        "\n",
        "# Divide the data into batches\n",
        "BATCH_SIZE = 1000\n",
        "\n",
        "train_dataloader = DataLoader(dataset = train_dataset,\n",
        "                              batch_size = BATCH_SIZE,\n",
        "                              num_workers=os.cpu_count(),\n",
        "                              shuffle = True)\n",
        "\n",
        "val_dataloader = DataLoader(dataset = val_dataset,\n",
        "                            batch_size = BATCH_SIZE,\n",
        "                            num_workers = os.cpu_count())"
      ],
      "metadata": {
        "id": "kjMJx9jKjI7k"
      },
      "execution_count": null,
      "outputs": []
    },
    {
      "cell_type": "markdown",
      "source": [
        "### Creating a Model and Setting up Loss/Optimizer"
      ],
      "metadata": {
        "id": "SVzyA-ozKIi8"
      }
    },
    {
      "cell_type": "code",
      "source": [
        "# Setup device agnostc code\n",
        "device = \"cuda\" if torch.cuda.is_available() else \"cpu\""
      ],
      "metadata": {
        "id": "2-eTs367SPMP"
      },
      "execution_count": null,
      "outputs": []
    },
    {
      "cell_type": "code",
      "source": [
        "# Create the model\n",
        "class BlackFridayModelV0(nn.Module):\n",
        "  def __init__(self, in_features : int, hidden_units : int, out_features : int):\n",
        "    super().__init__()\n",
        "    self.linear_layer = nn.Sequential(\n",
        "        nn.Linear(in_features = in_features, out_features = hidden_units),\n",
        "        nn.ReLU(),\n",
        "        nn.Linear(in_features = hidden_units, out_features = hidden_units),\n",
        "        nn.ReLU(),\n",
        "        nn.Linear(in_features = hidden_units, out_features = out_features)\n",
        "    )\n",
        "\n",
        "  def forward(self, x : torch.Tensor) -> torch.Tensor:\n",
        "    return self.linear_layer(x)"
      ],
      "metadata": {
        "id": "mIHjH-SvQh4V"
      },
      "execution_count": null,
      "outputs": []
    },
    {
      "cell_type": "code",
      "source": [
        "in_features = X.shape[1]\n",
        "out_features = 1\n",
        "\n",
        "# Initializing the Model\n",
        "model_0 = BlackFridayModelV0(in_features, 10, out_features)"
      ],
      "metadata": {
        "id": "j_YOOtDVTxSm"
      },
      "execution_count": null,
      "outputs": []
    },
    {
      "cell_type": "code",
      "source": [
        "# Loss Function\n",
        "loss_fn = nn.MSELoss().to(device)\n",
        "\n",
        "# Optimizer\n",
        "optimizer = torch.optim.Adam(params = model_0.parameters(), lr = 0.01)"
      ],
      "metadata": {
        "id": "InrjErzHT1cf"
      },
      "execution_count": null,
      "outputs": []
    },
    {
      "cell_type": "markdown",
      "source": [
        "### Setting up Training and Validation Functions"
      ],
      "metadata": {
        "id": "fcu7xiP_lqgD"
      }
    },
    {
      "cell_type": "code",
      "source": [
        "def train_step(model : nn.Module,\n",
        "               train_dataloader : torch.utils.data.DataLoader,\n",
        "               loss_fn : nn.Module,\n",
        "               optimizer : torch.optim,\n",
        "               device : torch.device = device):\n",
        "  \n",
        "  model.train()\n",
        "  train_loss = 0\n",
        "  for batch, (X, y) in enumerate(train_dataloader):\n",
        "\n",
        "    # Set the data to the correct device \n",
        "    X, y = X.to(device), y.to(device)\n",
        "\n",
        "    # Forward Pass\n",
        "    y_pred = model(X)\n",
        "\n",
        "    # Calculate the loss\n",
        "    loss = loss_fn(y_pred.squeeze(), y)\n",
        "    train_loss += loss\n",
        "\n",
        "    # Optimizer zero grad\n",
        "    optimizer.zero_grad()\n",
        "\n",
        "    # Backpropagation\n",
        "    loss.backward()\n",
        "\n",
        "    # Optimizer step\n",
        "    optimizer.step()\n",
        "\n",
        "  train_loss /= len(train_dataloader)\n",
        "\n",
        "  return train_loss"
      ],
      "metadata": {
        "id": "vyxwzMsRUqg6"
      },
      "execution_count": null,
      "outputs": []
    },
    {
      "cell_type": "code",
      "source": [
        "def validation_step(model : nn.Module,\n",
        "               val_dataloader : torch.utils.data.DataLoader,\n",
        "               loss_fn : nn.Module,\n",
        "               device : torch.device = device):\n",
        "  \n",
        "  model.eval()\n",
        "  val_loss = 0\n",
        "  with torch.inference_mode():\n",
        "    for (X, y) in val_dataloader:\n",
        "\n",
        "      # Set the data to the correct device\n",
        "      X, y = X.to(device), y.to(device)\n",
        "\n",
        "      # Forward Propagation\n",
        "      val_pred = model(X)\n",
        "\n",
        "      # Calculate the loss\n",
        "      loss = loss_fn(val_pred.squeeze(), y)\n",
        "      val_loss += loss\n",
        "\n",
        "  return val_loss"
      ],
      "metadata": {
        "id": "hXUU60KYat7Q"
      },
      "execution_count": null,
      "outputs": []
    },
    {
      "cell_type": "markdown",
      "source": [
        "### Training the Model"
      ],
      "metadata": {
        "id": "U2KGdi3Tlvx0"
      }
    },
    {
      "cell_type": "code",
      "source": [
        "from tqdm.auto import tqdm\n",
        "from timeit import default_timer as timer\n",
        "\n",
        "start_time = timer()\n",
        "\n",
        "def train_loop(model : nn.Module,\n",
        "               train_dataloader : torch.utils.data.DataLoader,\n",
        "               val_dataloader : torch.utils.data.DataLoader,\n",
        "               loss_fn : nn.Module,\n",
        "               optimizer: torch.optim,\n",
        "               num_epochs : int = 20,\n",
        "               device : torch.device = device):\n",
        "  \n",
        "  # Set the model to the correct device\n",
        "  model.to(device)\n",
        "  model_results = {\n",
        "      \"train_loss\" : [],\n",
        "      \"validation_loss\" : [],\n",
        "      \"training_time\" : 0 \n",
        "  }\n",
        "\n",
        "  for epoch in tqdm(range(num_epochs)):\n",
        "    train_loss = train_step(model = model,\n",
        "                            train_dataloader = train_dataloader,\n",
        "                            loss_fn = loss_fn,\n",
        "                            optimizer = optimizer,\n",
        "                            device = device)\n",
        "    validation_loss = validation_step(model = model,\n",
        "                            val_dataloader = val_dataloader,\n",
        "                            loss_fn = loss_fn,\n",
        "                            device = device)\n",
        "    \n",
        "    if epoch % 4 == 0:\n",
        "      print(f\"Train Loss: {train_loss} | Validation Loss: {validation_loss}\")\n",
        "    \n",
        "    model_results[\"train_loss\"].append(train_loss)\n",
        "    model_results[\"validation_loss\"].append(validation_loss)\n",
        "  \n",
        "  end_time = timer()\n",
        "  total_train_time = end_time - start_time\n",
        "  model_results[\"training_time\"] = total_train_time\n",
        "  print(f\"Total training time was {total_train_time} seconds\")\n",
        "\n",
        "  return model_results"
      ],
      "metadata": {
        "id": "50gmyBUkbvLO"
      },
      "execution_count": null,
      "outputs": []
    },
    {
      "cell_type": "code",
      "source": [
        "NUM_EPOCHS = 100\n",
        "model_0_results = train_loop(model = model_0,\n",
        "                             train_dataloader = train_dataloader,\n",
        "                             val_dataloader = val_dataloader,\n",
        "                             loss_fn = loss_fn,\n",
        "                             optimizer = optimizer,\n",
        "                             num_epochs = NUM_EPOCHS,\n",
        "                             device = device)"
      ],
      "metadata": {
        "id": "qSqYnCqngECh"
      },
      "execution_count": null,
      "outputs": []
    },
    {
      "cell_type": "code",
      "source": [
        "def plot_results(model_results):\n",
        "  num_epochs = range(len(model_results[\"train_loss\"]))\n",
        "  plt.plot(num_epochs, torch.tensor(model_results[\"train_loss\"]).cpu(), label = \"Training Loss\")\n",
        "  plt.plot(num_epochs, torch.tensor(model_results[\"validation_loss\"]).cpu(), label = \"Validation Loss\")\n",
        "  plt.title(\"Loss Curve\")\n",
        "  plt.xlabel(\"Epoch\")\n",
        "  plt.ylabel(\"Loss\")\n",
        "  plt.legend()"
      ],
      "metadata": {
        "id": "chWEsZF7hTI-"
      },
      "execution_count": null,
      "outputs": []
    },
    {
      "cell_type": "code",
      "source": [
        "plot_results(model_0_results)"
      ],
      "metadata": {
        "id": "4hWp28kiq3MY"
      },
      "execution_count": null,
      "outputs": []
    },
    {
      "cell_type": "markdown",
      "source": [
        "## Classical ML Method"
      ],
      "metadata": {
        "id": "tPNjsqKHq4vP"
      }
    },
    {
      "cell_type": "code",
      "source": [
        "train_data.info()"
      ],
      "metadata": {
        "colab": {
          "base_uri": "https://localhost:8080/"
        },
        "id": "ArkUdXs8vAoE",
        "outputId": "99264fb1-921f-4eff-b825-ffe9babd372f"
      },
      "execution_count": 154,
      "outputs": [
        {
          "output_type": "stream",
          "name": "stdout",
          "text": [
            "<class 'pandas.core.frame.DataFrame'>\n",
            "RangeIndex: 550068 entries, 0 to 550067\n",
            "Data columns (total 11 columns):\n",
            " #   Column                      Non-Null Count   Dtype  \n",
            "---  ------                      --------------   -----  \n",
            " 0   User_ID                     550068 non-null  int64  \n",
            " 1   Product_ID                  550068 non-null  object \n",
            " 2   Gender                      550068 non-null  object \n",
            " 3   Age                         550068 non-null  object \n",
            " 4   Occupation                  550068 non-null  int64  \n",
            " 5   City_Category               550068 non-null  object \n",
            " 6   Stay_In_Current_City_Years  550068 non-null  object \n",
            " 7   Marital_Status              550068 non-null  int64  \n",
            " 8   Product_Category_1          550068 non-null  int64  \n",
            " 9   Product_Category_2          550068 non-null  float64\n",
            " 10  Purchase                    550068 non-null  int64  \n",
            "dtypes: float64(1), int64(5), object(5)\n",
            "memory usage: 46.2+ MB\n"
          ]
        }
      ]
    },
    {
      "cell_type": "code",
      "source": [
        "from sklearn.tree import DecisionTreeRegressor\n",
        "\n",
        "model = DecisionTreeRegressor()\n",
        "\n",
        "X = train_data[[\"Age\", \"Product_Category_2\"]]"
      ],
      "metadata": {
        "id": "yUh_R1npsrFO"
      },
      "execution_count": null,
      "outputs": []
    }
  ]
}