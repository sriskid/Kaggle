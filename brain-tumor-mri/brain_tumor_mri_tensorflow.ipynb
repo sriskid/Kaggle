{
  "nbformat": 4,
  "nbformat_minor": 0,
  "metadata": {
    "colab": {
      "provenance": []
    },
    "kernelspec": {
      "name": "python3",
      "display_name": "Python 3"
    },
    "language_info": {
      "name": "python"
    },
    "accelerator": "GPU",
    "gpuClass": "standard"
  },
  "cells": [
    {
      "cell_type": "code",
      "execution_count": null,
      "metadata": {
        "colab": {
          "base_uri": "https://localhost:8080/"
        },
        "id": "1QXn8AATGneg",
        "outputId": "4defb813-5fe5-41bc-b757-8b66b19c38af"
      },
      "outputs": [
        {
          "output_type": "stream",
          "name": "stdout",
          "text": [
            "Drive already mounted at /content/drive; to attempt to forcibly remount, call drive.mount(\"/content/drive\", force_remount=True).\n"
          ]
        }
      ],
      "source": [
        "import tensorflow as tf\n",
        "\n",
        "from pathlib import Path\n",
        "import os\n",
        "import cv2 \n",
        "import numpy as np\n",
        "import matplotlib.pyplot as plt\n",
        "import seaborn as sns\n",
        "from sklearn.model_selection import train_test_split\n",
        "\n",
        "from google.colab import drive\n",
        "drive.mount(\"/content/drive\")"
      ]
    },
    {
      "cell_type": "code",
      "source": [
        "# Checking for CUDA gpus\n",
        "print(tf.__version__)\n",
        "print(tf.test.gpu_device_name())\n",
        "print(\"Num GPUs Available: \", len(tf.config.experimental.list_physical_devices('GPU')))"
      ],
      "metadata": {
        "colab": {
          "base_uri": "https://localhost:8080/"
        },
        "id": "NMOOQtYuSNCH",
        "outputId": "ac787973-1908-476e-bcb2-3d213df074b4"
      },
      "execution_count": null,
      "outputs": [
        {
          "output_type": "stream",
          "name": "stdout",
          "text": [
            "2.11.0\n",
            "/device:GPU:0\n",
            "Num GPUs Available:  1\n"
          ]
        }
      ]
    },
    {
      "cell_type": "code",
      "source": [
        "# Image Path\n",
        "data_path = Path(\"/content/drive/MyDrive/\")\n",
        "image_path = data_path / \"brain-tumor-mri\"\n",
        "for dirpath, dirnames, filenames in os.walk(image_path):\n",
        "  print(f\"There are {len(dirnames)} directories and {len(filenames)} image in {dirpath}.\")"
      ],
      "metadata": {
        "colab": {
          "base_uri": "https://localhost:8080/"
        },
        "id": "Vwv__G5TGpYg",
        "outputId": "e6675505-0057-42c8-da55-f7ed3aca82ad"
      },
      "execution_count": null,
      "outputs": [
        {
          "output_type": "stream",
          "name": "stdout",
          "text": [
            "There are 3 directories and 0 image in /content/drive/MyDrive/brain-tumor-mri.\n",
            "There are 4 directories and 0 image in /content/drive/MyDrive/brain-tumor-mri/Training.\n",
            "There are 0 directories and 827 image in /content/drive/MyDrive/brain-tumor-mri/Training/pituitary_tumor.\n",
            "There are 0 directories and 822 image in /content/drive/MyDrive/brain-tumor-mri/Training/meningioma_tumor.\n",
            "There are 0 directories and 826 image in /content/drive/MyDrive/brain-tumor-mri/Training/glioma_tumor.\n",
            "There are 0 directories and 395 image in /content/drive/MyDrive/brain-tumor-mri/Training/no_tumor.\n",
            "There are 0 directories and 0 image in /content/drive/MyDrive/brain-tumor-mri/.ipynb_checkpoints.\n",
            "There are 4 directories and 0 image in /content/drive/MyDrive/brain-tumor-mri/Testing.\n",
            "There are 0 directories and 74 image in /content/drive/MyDrive/brain-tumor-mri/Testing/pituitary_tumor.\n",
            "There are 0 directories and 115 image in /content/drive/MyDrive/brain-tumor-mri/Testing/meningioma_tumor.\n",
            "There are 0 directories and 105 image in /content/drive/MyDrive/brain-tumor-mri/Testing/no_tumor.\n",
            "There are 0 directories and 100 image in /content/drive/MyDrive/brain-tumor-mri/Testing/glioma_tumor.\n"
          ]
        }
      ]
    },
    {
      "cell_type": "code",
      "source": [
        "# Setup train and test paths\n",
        "train_dir = image_path / \"Training\"\n",
        "test_dir = image_path / \"Testing\" "
      ],
      "metadata": {
        "id": "9I2c5HiDHEE7"
      },
      "execution_count": null,
      "outputs": []
    },
    {
      "cell_type": "code",
      "source": [
        "# Collecting the images and labels\n",
        "X_train = []\n",
        "Y_train = []\n",
        "image_size = 150\n",
        "labels = ['glioma_tumor','meningioma_tumor','no_tumor','pituitary_tumor']\n",
        "for i in labels:\n",
        "    folderPath = os.path.join(train_dir,i)\n",
        "    for j in os.listdir(folderPath):\n",
        "        img = cv2.imread(os.path.join(folderPath,j))\n",
        "        img = cv2.resize(img,(image_size,image_size))\n",
        "        X_train.append(img)\n",
        "        Y_train.append(i)\n",
        "        \n",
        "for i in labels:\n",
        "    folderPath = os.path.join(test_dir,i)\n",
        "    for j in os.listdir(folderPath):\n",
        "        img = cv2.imread(os.path.join(folderPath,j))\n",
        "        img = cv2.resize(img,(image_size,image_size))\n",
        "        X_train.append(img)\n",
        "        Y_train.append(i)\n",
        "\n",
        "X_train = np.array(X_train)\n",
        "Y_train = np.array(Y_train)"
      ],
      "metadata": {
        "id": "hThjd-uuI5jy"
      },
      "execution_count": null,
      "outputs": []
    },
    {
      "cell_type": "code",
      "source": [
        "# Splitting the training data into train and test\n",
        "X_train, X_test, y_train, y_test = train_test_split(X_train, Y_train, test_size = 0.1, shuffle = True, random_state = 42)"
      ],
      "metadata": {
        "id": "KmqDoaC0LANh"
      },
      "execution_count": null,
      "outputs": []
    },
    {
      "cell_type": "code",
      "source": [
        "# Encoding the labels\n",
        "y_train_num = []\n",
        "for i in y_train:\n",
        "    y_train_num.append(labels.index(i))\n",
        "y_train=y_train_num\n",
        "y_train = tf.keras.utils.to_categorical(y_train)\n",
        "\n",
        "y_test_num = []\n",
        "for i in y_test:\n",
        "    y_test_num.append(labels.index(i))\n",
        "y_test=y_test_num\n",
        "y_test = tf.keras.utils.to_categorical(y_test)"
      ],
      "metadata": {
        "id": "3lPrOyRpLnpa"
      },
      "execution_count": null,
      "outputs": []
    },
    {
      "cell_type": "code",
      "source": [
        "# Creating the model\n",
        "model = tf.keras.Sequential([\n",
        "    tf.keras.layers.Conv2D(32, kernel_size = 3, activation = \"relu\", input_shape = (150,150,3)),\n",
        "    tf.keras.layers.Conv2D(64, kernel_size = 3, activation = \"relu\"),\n",
        "    tf.keras.layers.MaxPooling2D(pool_size = 2),\n",
        "    tf.keras.layers.Dropout(0.3),\n",
        "    tf.keras.layers.Conv2D(64, kernel_size = 3, activation = \"relu\"),\n",
        "    tf.keras.layers.Conv2D(64, kernel_size = 3, activation = \"relu\"),\n",
        "    tf.keras.layers.Dropout(0.3),\n",
        "    tf.keras.layers.MaxPooling2D(pool_size = 2),\n",
        "    tf.keras.layers.Dropout(0.3),\n",
        "    tf.keras.layers.Conv2D(128, kernel_size = 3, activation = \"relu\"),\n",
        "    tf.keras.layers.Conv2D(128, kernel_size = 3, activation = \"relu\"),\n",
        "    tf.keras.layers.Conv2D(128, kernel_size = 3, activation = \"relu\"),\n",
        "    tf.keras.layers.MaxPooling2D(pool_size = 2),\n",
        "    tf.keras.layers.Dropout(0.3),\n",
        "    tf.keras.layers.Conv2D(128, kernel_size = 3, activation = \"relu\"),\n",
        "    tf.keras.layers.Conv2D(256, kernel_size = 3, activation = \"relu\"),\n",
        "    tf.keras.layers.MaxPooling2D(pool_size = 2),\n",
        "    tf.keras.layers.Dropout(0.3),\n",
        "    tf.keras.layers.Flatten(),\n",
        "    tf.keras.layers.Dense(512, activation = \"relu\"),\n",
        "    tf.keras.layers.Dense(512, activation = \"relu\"),\n",
        "    tf.keras.layers.Dropout(0.3),\n",
        "    tf.keras.layers.Dense(4, activation = \"softmax\")\n",
        "])"
      ],
      "metadata": {
        "id": "keLkEI4zMliE"
      },
      "execution_count": null,
      "outputs": []
    },
    {
      "cell_type": "code",
      "source": [
        "# Looking at the shape parameters throughout the model\n",
        "model.summary()"
      ],
      "metadata": {
        "colab": {
          "base_uri": "https://localhost:8080/"
        },
        "id": "mh-ziVleOzXX",
        "outputId": "fe52a033-2340-4008-f459-dadef500d707"
      },
      "execution_count": null,
      "outputs": [
        {
          "output_type": "stream",
          "name": "stdout",
          "text": [
            "Model: \"sequential\"\n",
            "_________________________________________________________________\n",
            " Layer (type)                Output Shape              Param #   \n",
            "=================================================================\n",
            " conv2d (Conv2D)             (None, 148, 148, 32)      896       \n",
            "                                                                 \n",
            " conv2d_1 (Conv2D)           (None, 146, 146, 64)      18496     \n",
            "                                                                 \n",
            " max_pooling2d (MaxPooling2D  (None, 73, 73, 64)       0         \n",
            " )                                                               \n",
            "                                                                 \n",
            " dropout (Dropout)           (None, 73, 73, 64)        0         \n",
            "                                                                 \n",
            " conv2d_2 (Conv2D)           (None, 71, 71, 64)        36928     \n",
            "                                                                 \n",
            " conv2d_3 (Conv2D)           (None, 69, 69, 64)        36928     \n",
            "                                                                 \n",
            " dropout_1 (Dropout)         (None, 69, 69, 64)        0         \n",
            "                                                                 \n",
            " max_pooling2d_1 (MaxPooling  (None, 34, 34, 64)       0         \n",
            " 2D)                                                             \n",
            "                                                                 \n",
            " dropout_2 (Dropout)         (None, 34, 34, 64)        0         \n",
            "                                                                 \n",
            " conv2d_4 (Conv2D)           (None, 32, 32, 128)       73856     \n",
            "                                                                 \n",
            " conv2d_5 (Conv2D)           (None, 30, 30, 128)       147584    \n",
            "                                                                 \n",
            " conv2d_6 (Conv2D)           (None, 28, 28, 128)       147584    \n",
            "                                                                 \n",
            " max_pooling2d_2 (MaxPooling  (None, 14, 14, 128)      0         \n",
            " 2D)                                                             \n",
            "                                                                 \n",
            " dropout_3 (Dropout)         (None, 14, 14, 128)       0         \n",
            "                                                                 \n",
            " conv2d_7 (Conv2D)           (None, 12, 12, 128)       147584    \n",
            "                                                                 \n",
            " conv2d_8 (Conv2D)           (None, 10, 10, 256)       295168    \n",
            "                                                                 \n",
            " max_pooling2d_3 (MaxPooling  (None, 5, 5, 256)        0         \n",
            " 2D)                                                             \n",
            "                                                                 \n",
            " dropout_4 (Dropout)         (None, 5, 5, 256)         0         \n",
            "                                                                 \n",
            " flatten (Flatten)           (None, 6400)              0         \n",
            "                                                                 \n",
            " dense (Dense)               (None, 512)               3277312   \n",
            "                                                                 \n",
            " dense_1 (Dense)             (None, 512)               262656    \n",
            "                                                                 \n",
            " dropout_5 (Dropout)         (None, 512)               0         \n",
            "                                                                 \n",
            " dense_2 (Dense)             (None, 4)                 2052      \n",
            "                                                                 \n",
            "=================================================================\n",
            "Total params: 4,447,044\n",
            "Trainable params: 4,447,044\n",
            "Non-trainable params: 0\n",
            "_________________________________________________________________\n"
          ]
        }
      ]
    },
    {
      "cell_type": "code",
      "source": [
        "# Compiling the model with a loss function and optimizer\n",
        "model.compile(loss='categorical_crossentropy',optimizer='Adam',metrics=['accuracy'])"
      ],
      "metadata": {
        "id": "QkxBBiFQPCvx"
      },
      "execution_count": null,
      "outputs": []
    },
    {
      "cell_type": "code",
      "source": [
        "# Train the model\n",
        "tf.config.get_visible_devices()\n",
        "history = model.fit(X_train, y_train, epochs=20, validation_split=0.1)"
      ],
      "metadata": {
        "colab": {
          "base_uri": "https://localhost:8080/"
        },
        "id": "jL2P26ULPNeb",
        "outputId": "98af06c7-da02-4b6b-bead-02a921cfc843"
      },
      "execution_count": null,
      "outputs": [
        {
          "output_type": "stream",
          "name": "stdout",
          "text": [
            "Epoch 1/20\n",
            "83/83 [==============================] - 26s 137ms/step - loss: 1.9799 - accuracy: 0.2841 - val_loss: 1.3744 - val_accuracy: 0.3027\n",
            "Epoch 2/20\n",
            "83/83 [==============================] - 8s 101ms/step - loss: 1.2652 - accuracy: 0.3825 - val_loss: 1.1609 - val_accuracy: 0.4796\n",
            "Epoch 3/20\n",
            "83/83 [==============================] - 8s 100ms/step - loss: 1.0133 - accuracy: 0.5626 - val_loss: 1.0204 - val_accuracy: 0.5238\n",
            "Epoch 4/20\n",
            "83/83 [==============================] - 8s 98ms/step - loss: 0.8675 - accuracy: 0.6205 - val_loss: 0.9315 - val_accuracy: 0.5748\n",
            "Epoch 5/20\n",
            "83/83 [==============================] - 8s 98ms/step - loss: 0.7729 - accuracy: 0.6697 - val_loss: 0.8865 - val_accuracy: 0.6122\n",
            "Epoch 6/20\n",
            "83/83 [==============================] - 8s 98ms/step - loss: 0.7129 - accuracy: 0.6939 - val_loss: 0.8019 - val_accuracy: 0.6429\n",
            "Epoch 7/20\n",
            "83/83 [==============================] - 8s 98ms/step - loss: 0.6016 - accuracy: 0.7446 - val_loss: 0.7217 - val_accuracy: 0.6837\n",
            "Epoch 8/20\n",
            "83/83 [==============================] - 8s 102ms/step - loss: 0.5380 - accuracy: 0.7753 - val_loss: 0.7218 - val_accuracy: 0.6939\n",
            "Epoch 9/20\n",
            "83/83 [==============================] - 8s 99ms/step - loss: 0.4506 - accuracy: 0.8237 - val_loss: 0.5042 - val_accuracy: 0.7755\n",
            "Epoch 10/20\n",
            "83/83 [==============================] - 8s 98ms/step - loss: 0.3962 - accuracy: 0.8430 - val_loss: 0.8382 - val_accuracy: 0.6905\n",
            "Epoch 11/20\n",
            "83/83 [==============================] - 8s 99ms/step - loss: 0.3473 - accuracy: 0.8638 - val_loss: 0.4989 - val_accuracy: 0.7789\n",
            "Epoch 12/20\n",
            "83/83 [==============================] - 8s 99ms/step - loss: 0.3583 - accuracy: 0.8547 - val_loss: 0.6123 - val_accuracy: 0.7381\n",
            "Epoch 13/20\n",
            "83/83 [==============================] - 8s 100ms/step - loss: 0.3114 - accuracy: 0.8721 - val_loss: 1.1810 - val_accuracy: 0.6701\n",
            "Epoch 14/20\n",
            "83/83 [==============================] - 8s 98ms/step - loss: 0.2873 - accuracy: 0.8899 - val_loss: 0.4569 - val_accuracy: 0.8163\n",
            "Epoch 15/20\n",
            "83/83 [==============================] - 8s 99ms/step - loss: 0.1954 - accuracy: 0.9262 - val_loss: 0.4097 - val_accuracy: 0.8639\n",
            "Epoch 16/20\n",
            "83/83 [==============================] - 8s 99ms/step - loss: 0.2040 - accuracy: 0.9190 - val_loss: 0.5519 - val_accuracy: 0.8061\n",
            "Epoch 17/20\n",
            "83/83 [==============================] - 8s 99ms/step - loss: 0.2423 - accuracy: 0.9107 - val_loss: 0.4146 - val_accuracy: 0.8605\n",
            "Epoch 18/20\n",
            "83/83 [==============================] - 8s 99ms/step - loss: 0.1706 - accuracy: 0.9444 - val_loss: 0.4749 - val_accuracy: 0.8367\n",
            "Epoch 19/20\n",
            "83/83 [==============================] - 8s 98ms/step - loss: 0.1503 - accuracy: 0.9459 - val_loss: 0.5453 - val_accuracy: 0.8231\n",
            "Epoch 20/20\n",
            "83/83 [==============================] - 8s 99ms/step - loss: 0.1134 - accuracy: 0.9550 - val_loss: 0.3006 - val_accuracy: 0.8878\n"
          ]
        }
      ]
    },
    {
      "cell_type": "code",
      "source": [
        "# Creating a plot for the train and validation accuracy\n",
        "acc = history.history['accuracy']\n",
        "val_acc = history.history['val_accuracy']\n",
        "epochs = range(len(acc))\n",
        "fig = plt.figure(figsize=(14,7))\n",
        "plt.plot(epochs,acc,'r',label=\"Training Accuracy\")\n",
        "plt.plot(epochs,val_acc,'b',label=\"Validation Accuracy\")\n",
        "plt.legend(loc='upper left')"
      ],
      "metadata": {
        "colab": {
          "base_uri": "https://localhost:8080/",
          "height": 445
        },
        "id": "weavCPMBPRgA",
        "outputId": "9b8aee9f-afff-4122-92ab-b6f0db8d00c8"
      },
      "execution_count": null,
      "outputs": [
        {
          "output_type": "execute_result",
          "data": {
            "text/plain": [
              "<matplotlib.legend.Legend at 0x7f516bc670a0>"
            ]
          },
          "metadata": {},
          "execution_count": 18
        },
        {
          "output_type": "display_data",
          "data": {
            "text/plain": [
              "<Figure size 1008x504 with 1 Axes>"
            ],
            "image/png": "[encoded data removed]"
          },
          "metadata": {
            "needs_background": "light"
          }
        }
      ]
    },
    {
      "cell_type": "code",
      "source": [
        "# Creating a plot for the training and validation loss\n",
        "loss = history.history['loss']\n",
        "val_loss = history.history['val_loss']\n",
        "epochs = range(len(loss))\n",
        "fig = plt.figure(figsize=(14,7))\n",
        "plt.plot(epochs,loss,'r',label=\"Training loss\")\n",
        "plt.plot(epochs,val_loss,'b',label=\"Validation loss\")\n",
        "plt.legend(loc='upper left')"
      ],
      "metadata": {
        "colab": {
          "base_uri": "https://localhost:8080/",
          "height": 445
        },
        "id": "BYr--zmjUd_-",
        "outputId": "1f3e8ea6-dfb5-45a4-8514-68c276c89de9"
      },
      "execution_count": null,
      "outputs": [
        {
          "output_type": "execute_result",
          "data": {
            "text/plain": [
              "<matplotlib.legend.Legend at 0x7f51f0183940>"
            ]
          },
          "metadata": {},
          "execution_count": 19
        },
        {
          "output_type": "display_data",
          "data": {
            "text/plain": [
              "<Figure size 1008x504 with 1 Axes>"
            ],
            "image/png": "[encoded data removed]"
          },
          "metadata": {
            "needs_background": "light"
          }
        }
      ]
    },
    {
      "cell_type": "code",
      "source": [
        "# Evaluate the model on the test data\n",
        "model.evaluate(X_test, y_test)"
      ],
      "metadata": {
        "colab": {
          "base_uri": "https://localhost:8080/"
        },
        "id": "Llkr2Re7UlH2",
        "outputId": "d264c683-d7fe-48e2-a3ab-db01c3c39558"
      },
      "execution_count": null,
      "outputs": [
        {
          "output_type": "stream",
          "name": "stdout",
          "text": [
            "11/11 [==============================] - 1s 60ms/step - loss: 0.2443 - accuracy: 0.9327\n"
          ]
        },
        {
          "output_type": "execute_result",
          "data": {
            "text/plain": [
              "[0.24425461888313293, 0.932721734046936]"
            ]
          },
          "metadata": {},
          "execution_count": 21
        }
      ]
    },
    {
      "cell_type": "code",
      "source": [],
      "metadata": {
        "id": "zbW6m1PzUwqz"
      },
      "execution_count": null,
      "outputs": []
    }
  ]
}