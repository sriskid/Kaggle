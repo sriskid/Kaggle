{
  "nbformat": 4,
  "nbformat_minor": 0,
  "metadata": {
    "colab": {
      "provenance": []
    },
    "kernelspec": {
      "name": "python3",
      "display_name": "Python 3"
    },
    "language_info": {
      "name": "python"
    },
    "gpuClass": "standard"
  },
  "cells": [
    {
      "cell_type": "code",
      "execution_count": 3,
      "metadata": {
        "id": "M6a8dZy5arCU"
      },
      "outputs": [],
      "source": [
        "# Importing libraries\n",
        "import torch\n",
        "from torch import nn\n",
        "import pandas as pd\n",
        "import numpy as np\n",
        "import seaborn as sns\n",
        "import matplotlib.pyplot as plt\n",
        "import math\n",
        "from sklearn.preprocessing import LabelEncoder, StandardScaler\n",
        "from sklearn.impute import SimpleImputer\n",
        "from sklearn.model_selection import train_test_split"
      ]
    },
    {
      "cell_type": "code",
      "source": [
        "# Install torchmetrics for accuracy\n",
        "!pip install torchmetrics\n",
        "from torchmetrics.classification import BinaryAccuracy\n",
        "accuracy = BinaryAccuracy()"
      ],
      "metadata": {
        "colab": {
          "base_uri": "https://localhost:8080/"
        },
        "id": "MKMVi3ghZ_-I",
        "outputId": "6520c593-6134-4abd-a5dc-67ef62c455b3"
      },
      "execution_count": 4,
      "outputs": [
        {
          "output_type": "stream",
          "name": "stdout",
          "text": [
            "Looking in indexes: https://pypi.org/simple, https://us-python.pkg.dev/colab-wheels/public/simple/\n",
            "Collecting torchmetrics\n",
            "  Downloading torchmetrics-0.11.1-py3-none-any.whl (517 kB)\n",
            "\u001b[2K     \u001b[90m━━━━━━━━━━━━━━━━━━━━━━━━━━━━━━━━━━━━━━\u001b[0m \u001b[32m517.2/517.2 KB\u001b[0m \u001b[31m10.0 MB/s\u001b[0m eta \u001b[36m0:00:00\u001b[0m\n",
            "\u001b[?25hRequirement already satisfied: packaging in /usr/local/lib/python3.8/dist-packages (from torchmetrics) (23.0)\n",
            "Requirement already satisfied: numpy>=1.17.2 in /usr/local/lib/python3.8/dist-packages (from torchmetrics) (1.22.4)\n",
            "Requirement already satisfied: torch>=1.8.1 in /usr/local/lib/python3.8/dist-packages (from torchmetrics) (1.13.1+cu116)\n",
            "Requirement already satisfied: typing-extensions in /usr/local/lib/python3.8/dist-packages (from torchmetrics) (4.5.0)\n",
            "Installing collected packages: torchmetrics\n",
            "Successfully installed torchmetrics-0.11.1\n"
          ]
        }
      ]
    },
    {
      "cell_type": "code",
      "source": [
        "# Setting up data agnostic code\n",
        "device = \"cuda\" if torch.cuda.is_available() else \"cpu\""
      ],
      "metadata": {
        "id": "kbl4kdaYa5m8"
      },
      "execution_count": 5,
      "outputs": []
    },
    {
      "cell_type": "code",
      "source": [
        "# Read in the training data\n",
        "data = pd.read_csv(\"train.csv\")\n",
        "test = pd.read_csv(\"test.csv\")"
      ],
      "metadata": {
        "id": "Mwkpo8vLbD3w"
      },
      "execution_count": 82,
      "outputs": []
    },
    {
      "cell_type": "code",
      "source": [
        "# Keep the PassengerID\n",
        "test_passenger = test[\"PassengerId\"]"
      ],
      "metadata": {
        "id": "YfQfMNfjggQz"
      },
      "execution_count": 83,
      "outputs": []
    },
    {
      "cell_type": "code",
      "source": [
        "# Checking for NaN values\n",
        "data.isnull().sum()"
      ],
      "metadata": {
        "colab": {
          "base_uri": "https://localhost:8080/"
        },
        "id": "zW1GnzhNBdaX",
        "outputId": "80870f34-ee05-44ac-fae6-b97150ea81c4"
      },
      "execution_count": 84,
      "outputs": [
        {
          "output_type": "execute_result",
          "data": {
            "text/plain": [
              "PassengerId       0\n",
              "HomePlanet      201\n",
              "CryoSleep       217\n",
              "Cabin           199\n",
              "Destination     182\n",
              "Age             179\n",
              "VIP             203\n",
              "RoomService     181\n",
              "FoodCourt       183\n",
              "ShoppingMall    208\n",
              "Spa             183\n",
              "VRDeck          188\n",
              "Name            200\n",
              "Transported       0\n",
              "dtype: int64"
            ]
          },
          "metadata": {},
          "execution_count": 84
        }
      ]
    },
    {
      "cell_type": "code",
      "source": [
        "data.info()"
      ],
      "metadata": {
        "colab": {
          "base_uri": "https://localhost:8080/"
        },
        "id": "mRW7um5KCek_",
        "outputId": "d6f29d32-277d-4b50-d899-fc7b7de7b32c"
      },
      "execution_count": 10,
      "outputs": [
        {
          "output_type": "stream",
          "name": "stdout",
          "text": [
            "<class 'pandas.core.frame.DataFrame'>\n",
            "RangeIndex: 8693 entries, 0 to 8692\n",
            "Data columns (total 14 columns):\n",
            " #   Column        Non-Null Count  Dtype  \n",
            "---  ------        --------------  -----  \n",
            " 0   PassengerId   8693 non-null   object \n",
            " 1   HomePlanet    8492 non-null   object \n",
            " 2   CryoSleep     8476 non-null   object \n",
            " 3   Cabin         8494 non-null   object \n",
            " 4   Destination   8511 non-null   object \n",
            " 5   Age           8514 non-null   float64\n",
            " 6   VIP           8490 non-null   object \n",
            " 7   RoomService   8512 non-null   float64\n",
            " 8   FoodCourt     8510 non-null   float64\n",
            " 9   ShoppingMall  8485 non-null   float64\n",
            " 10  Spa           8510 non-null   float64\n",
            " 11  VRDeck        8505 non-null   float64\n",
            " 12  Name          8493 non-null   object \n",
            " 13  Transported   8693 non-null   bool   \n",
            "dtypes: bool(1), float64(6), object(7)\n",
            "memory usage: 891.5+ KB\n"
          ]
        }
      ]
    },
    {
      "cell_type": "markdown",
      "source": [
        "## Converting Categorical Data/Minor Pre-processing"
      ],
      "metadata": {
        "id": "B61Y0r6Kd6DM"
      }
    },
    {
      "cell_type": "code",
      "source": [
        "# Turn the transported into categorical for visualization\n",
        "mapping = {True : \"yes\",False : \"no\"}\n",
        "data['Transported'] = data['Transported'].map(mapping)"
      ],
      "metadata": {
        "id": "qFkiFD5AWgQ9"
      },
      "execution_count": 85,
      "outputs": []
    },
    {
      "cell_type": "code",
      "source": [
        "# Getting the average age based on Home Planet\n",
        "means = data.groupby(\"HomePlanet\")[\"Age\"].mean()\n",
        "means"
      ],
      "metadata": {
        "colab": {
          "base_uri": "https://localhost:8080/"
        },
        "id": "fi8-sruyBMF4",
        "outputId": "bac7aab1-eee8-465b-f3d5-f2b0f3ede8bc"
      },
      "execution_count": 86,
      "outputs": [
        {
          "output_type": "execute_result",
          "data": {
            "text/plain": [
              "HomePlanet\n",
              "Earth     26.068232\n",
              "Europa    34.419664\n",
              "Mars      29.297203\n",
              "Name: Age, dtype: float64"
            ]
          },
          "metadata": {},
          "execution_count": 86
        }
      ]
    },
    {
      "cell_type": "code",
      "source": [
        "# Plotting Age conditioned on Home Planet\n",
        "sns.displot(data=data, x=\"Age\", col=\"HomePlanet\")"
      ],
      "metadata": {
        "colab": {
          "base_uri": "https://localhost:8080/",
          "height": 301
        },
        "id": "4Hs8MXzgBPWQ",
        "outputId": "e769ac00-0476-4c73-b051-0f86e9772ce9"
      },
      "execution_count": 47,
      "outputs": [
        {
          "output_type": "execute_result",
          "data": {
            "text/plain": [
              "<seaborn.axisgrid.FacetGrid at 0x7f0c50b92ee0>"
            ]
          },
          "metadata": {},
          "execution_count": 47
        },
        {
          "output_type": "display_data",
          "data": {
            "text/plain": [
              "<Figure size 1080x360 with 3 Axes>"
            ],
            "image/png": "[encoded data removed]"
          },
          "metadata": {
            "needs_background": "light"
          }
        }
      ]
    },
    {
      "cell_type": "code",
      "source": [
        "# Impute the Home Planet column\n",
        "planet_imput = SimpleImputer(strategy = \"most_frequent\")\n",
        "data[\"HomePlanet\"] = planet_imput.fit_transform(data[[\"HomePlanet\"]])"
      ],
      "metadata": {
        "id": "WklV91qZbPz-"
      },
      "execution_count": 87,
      "outputs": []
    },
    {
      "cell_type": "code",
      "source": [
        "def age_specific_impute(data, means):\n",
        "  for i, row in data.iterrows():\n",
        "   if row[\"Age\"] != row[\"Age\"]:\n",
        "     data.at[i,\"Age\"] = means[row[\"HomePlanet\"]]\n",
        "       # row[\"Age\"] = row[\"Age\"].fillna(means[row[\"HomePlanet\"]])\n",
        "  return data"
      ],
      "metadata": {
        "id": "4m9mNwVQCdz9"
      },
      "execution_count": 88,
      "outputs": []
    },
    {
      "cell_type": "code",
      "source": [
        "data = age_specific_impute(data, means)"
      ],
      "metadata": {
        "id": "CSrZDtA2cEzn"
      },
      "execution_count": 89,
      "outputs": []
    },
    {
      "cell_type": "code",
      "source": [
        "def initial_data_processing(data: pd.DataFrame):\n",
        "  \"\"\"Initial Pre-processesing of the spaceship titanic data\n",
        "  \n",
        "  Args:\n",
        "    data: pd.DataFrame -- The raw spaceship titanic data\n",
        "    \n",
        "  Returns:\n",
        "    data: pd.DataFrame -- The processed spaceship titanic data\"\"\"\n",
        "\n",
        "  # Drop Cabin and Passenger ID (Note: this is temporary)\n",
        "  # data.drop([\"Cabin\"], axis = 1, inplace = True)\n",
        "  data.drop([\"Name\"], axis = 1, inplace = True) # Drop name column\n",
        "  data.drop([\"PassengerId\"], axis = 1, inplace = True)\n",
        "\n",
        "  # Impute missing values of Age using the mean\n",
        "  imp_mean = SimpleImputer(strategy = \"mean\")\n",
        "  imp_frequent = SimpleImputer(strategy = \"most_frequent\")\n",
        "  categorical_columns = data.select_dtypes(include = \"object\").columns\n",
        "  numerical_columns = data.select_dtypes(include = \"float64\").columns\n",
        "  data[numerical_columns] = imp_mean.fit_transform(data[numerical_columns])\n",
        "  data[categorical_columns] = imp_frequent.fit_transform(data[categorical_columns])\n",
        "\n",
        "\n",
        "  # Mapping Categorical Data (HomePlanet, Destination, CryoSleep, VIP)\n",
        "  data[\"HomePlanet\"] = pd.Categorical(data[\"HomePlanet\"])\n",
        "  data[\"Destination\"] = pd.Categorical(data[\"Destination\"])\n",
        "  data['CryoSleep'] = data['CryoSleep'].map(mapping)\n",
        "  data[\"CryoSleep\"] = pd.Categorical(data[\"CryoSleep\"])\n",
        "  data[\"VIP\"] = pd.Categorical(data[\"VIP\"])\n",
        "  \n",
        "\n",
        "  \n",
        "\n",
        "  # Combine all Amenities Spent into One Column\n",
        "  # amenities = ['RoomService', 'FoodCourt', 'ShoppingMall', 'Spa', 'VRDeck']\n",
        "  # data[\"AmenitiesCost\"] = data[amenities].sum(axis = 1)\n",
        "\n",
        "  # Move the new column and drop the old ones\n",
        "  # data.drop(amenities, axis = 1, inplace = True)\n",
        "  # amenities_col = data.pop(\"AmenitiesCost\")\n",
        "  # data.insert(len(data.columns)-1, \"AmenitiesCost\", amenities_col)\n",
        "\n",
        "  # LabelEncode the categorical data\n",
        "  encoder = LabelEncoder()\n",
        "  for category in categorical_columns:\n",
        "    data[category] = encoder.fit_transform(data[category])\n",
        "\n",
        "  # Normalize the Age Column\n",
        "  # scaler = StandardScaler()\n",
        "  # data[\"Age\"] = scaler.fit_transform(data[numerical_columns])\n",
        "\n",
        "  \n",
        "\n",
        "  return data"
      ],
      "metadata": {
        "id": "JWE94cnJrH5N"
      },
      "execution_count": 90,
      "outputs": []
    },
    {
      "cell_type": "code",
      "source": [
        "data = initial_data_processing(data)"
      ],
      "metadata": {
        "id": "pbCDpSg7u2q4"
      },
      "execution_count": 91,
      "outputs": []
    },
    {
      "cell_type": "code",
      "source": [
        "data.isnull().sum()"
      ],
      "metadata": {
        "id": "mppemOtSw_bg",
        "colab": {
          "base_uri": "https://localhost:8080/"
        },
        "outputId": "042bf153-e75c-4397-8756-6be4c080ab22"
      },
      "execution_count": 79,
      "outputs": [
        {
          "output_type": "execute_result",
          "data": {
            "text/plain": [
              "HomePlanet      0\n",
              "CryoSleep       0\n",
              "Cabin           0\n",
              "Destination     0\n",
              "Age             0\n",
              "VIP             0\n",
              "RoomService     0\n",
              "FoodCourt       0\n",
              "ShoppingMall    0\n",
              "Spa             0\n",
              "VRDeck          0\n",
              "Transported     0\n",
              "dtype: int64"
            ]
          },
          "metadata": {},
          "execution_count": 79
        }
      ]
    },
    {
      "cell_type": "markdown",
      "source": [
        "### Data Visualization"
      ],
      "metadata": {
        "id": "rr7oDk0boRFM"
      }
    },
    {
      "cell_type": "code",
      "source": [
        "categorical_data = [\"HomePlanet\", \"CryoSleep\", \"Destination\", \"VIP\"]"
      ],
      "metadata": {
        "id": "COeLmJpSy2ob"
      },
      "execution_count": 92,
      "outputs": []
    },
    {
      "cell_type": "code",
      "source": [
        "# Plotting histogram of all columns\n",
        "fig, axes = plt.subplots(nrows=4, ncols=3, figsize=(20, 20))  \n",
        "for i, column in enumerate(data.columns):\n",
        "    sns.histplot(data=data, x=column, ax=axes[i // 3, i % 3])"
      ],
      "metadata": {
        "id": "HRMYmL7ueXRn",
        "colab": {
          "base_uri": "https://localhost:8080/",
          "height": 799
        },
        "outputId": "3d527eef-e3a5-48fe-b5e6-06d48981a67f"
      },
      "execution_count": 93,
      "outputs": [
        {
          "output_type": "display_data",
          "data": {
            "text/plain": [
              "<Figure size 1440x1440 with 12 Axes>"
            ],
            "image/png": "[encoded data removed]"
          },
          "metadata": {
            "needs_background": "light"
          }
        }
      ]
    },
    {
      "cell_type": "code",
      "source": [
        "# Plotting joint/conditional distributions\n",
        "fig, axes = plt.subplots(nrows=4, ncols=1, figsize=(20, 20))  \n",
        "for i, column in enumerate(categorical_data):\n",
        "  sns.displot(data=data, x=\"Transported\", col=column)"
      ],
      "metadata": {
        "id": "91yPSIZefYdA",
        "colab": {
          "base_uri": "https://localhost:8080/",
          "height": 1000
        },
        "outputId": "9d47009b-e7be-41b3-8431-f61fc74b5110"
      },
      "execution_count": 94,
      "outputs": [
        {
          "output_type": "display_data",
          "data": {
            "text/plain": [
              "<Figure size 1440x1440 with 4 Axes>"
            ],
            "image/png": "[encoded data removed]"
          },
          "metadata": {
            "needs_background": "light"
          }
        },
        {
          "output_type": "display_data",
          "data": {
            "text/plain": [
              "<Figure size 1080x360 with 3 Axes>"
            ],
            "image/png": "[encoded data removed]"
          },
          "metadata": {
            "needs_background": "light"
          }
        },
        {
          "output_type": "display_data",
          "data": {
            "text/plain": [
              "<Figure size 720x360 with 2 Axes>"
            ],
            "image/png": "[encoded data removed]"
          },
          "metadata": {
            "needs_background": "light"
          }
        },
        {
          "output_type": "display_data",
          "data": {
            "text/plain": [
              "<Figure size 1080x360 with 3 Axes>"
            ],
            "image/png": "[encoded data removed]"
          },
          "metadata": {
            "needs_background": "light"
          }
        },
        {
          "output_type": "display_data",
          "data": {
            "text/plain": [
              "<Figure size 720x360 with 2 Axes>"
            ],
            "image/png": "[encoded data removed]"
          },
          "metadata": {
            "needs_background": "light"
          }
        }
      ]
    },
    {
      "cell_type": "code",
      "source": [
        "# Give transported or not what ages are we looking at\n",
        "sns.displot(data, x= \"Age\", col=\"Transported\")"
      ],
      "metadata": {
        "id": "Dz08IDfOwBgf",
        "colab": {
          "base_uri": "https://localhost:8080/",
          "height": 386
        },
        "outputId": "4a352337-b1f7-445f-fa78-269dce617935"
      },
      "execution_count": 95,
      "outputs": [
        {
          "output_type": "execute_result",
          "data": {
            "text/plain": [
              "<seaborn.axisgrid.FacetGrid at 0x7f0c4729d040>"
            ]
          },
          "metadata": {},
          "execution_count": 95
        },
        {
          "output_type": "display_data",
          "data": {
            "text/plain": [
              "<Figure size 720x360 with 2 Axes>"
            ],
            "image/png": "[encoded data removed]"
          },
          "metadata": {
            "needs_background": "light"
          }
        }
      ]
    },
    {
      "cell_type": "markdown",
      "source": [
        "### Training a Model"
      ],
      "metadata": {
        "id": "ZRRUbr7YS8mD"
      }
    },
    {
      "cell_type": "code",
      "source": [
        "data"
      ],
      "metadata": {
        "colab": {
          "base_uri": "https://localhost:8080/",
          "height": 487
        },
        "id": "qWxpuWVHWyZS",
        "outputId": "30f56f72-8d15-4977-8676-37de76c3a386"
      },
      "execution_count": null,
      "outputs": [
        {
          "output_type": "execute_result",
          "data": {
            "text/plain": [
              "      HomePlanet  CryoSleep  Cabin  Destination       Age  VIP  RoomService  \\\n",
              "0              1          0    149            2  0.709437    0          0.0   \n",
              "1              0          0   2184            2 -0.336717    0        109.0   \n",
              "2              1          0      1            2  2.034566    1         43.0   \n",
              "3              1          0      1            2  0.290975    0          0.0   \n",
              "4              0          0   2186            2 -0.894666    0        303.0   \n",
              "...          ...        ...    ...          ...       ...  ...          ...   \n",
              "8688           1          0    146            0  0.848924    1          0.0   \n",
              "8689           0          1   5280            1 -0.755179    0          0.0   \n",
              "8690           0          0   5285            2 -0.197230    0          0.0   \n",
              "8691           1          0   2131            0  0.221232    0          0.0   \n",
              "8692           1          0   2131            2  1.058155    0        126.0   \n",
              "\n",
              "      FoodCourt  ShoppingMall     Spa  VRDeck  Transported  \n",
              "0           0.0           0.0     0.0     0.0            0  \n",
              "1           9.0          25.0   549.0    44.0            1  \n",
              "2        3576.0           0.0  6715.0    49.0            0  \n",
              "3        1283.0         371.0  3329.0   193.0            0  \n",
              "4          70.0         151.0   565.0     2.0            1  \n",
              "...         ...           ...     ...     ...          ...  \n",
              "8688     6819.0           0.0  1643.0    74.0            0  \n",
              "8689        0.0           0.0     0.0     0.0            0  \n",
              "8690        0.0        1872.0     1.0     0.0            1  \n",
              "8691     1049.0           0.0   353.0  3235.0            0  \n",
              "8692     4688.0           0.0     0.0    12.0            1  \n",
              "\n",
              "[8693 rows x 12 columns]"
            ],
            "text/html": [
              "\n",
              "  <div id=\"df-58c639a0-5d4e-4a64-8df6-fa699e7dd3c6\">\n",
              "    <div class=\"colab-df-container\">\n",
              "      <div>\n",
              "<style scoped>\n",
              "    .dataframe tbody tr th:only-of-type {\n",
              "        vertical-align: middle;\n",
              "    }\n",
              "\n",
              "    .dataframe tbody tr th {\n",
              "        vertical-align: top;\n",
              "    }\n",
              "\n",
              "    .dataframe thead th {\n",
              "        text-align: right;\n",
              "    }\n",
              "</style>\n",
              "<table border=\"1\" class=\"dataframe\">\n",
              "  <thead>\n",
              "    <tr style=\"text-align: right;\">\n",
              "      <th></th>\n",
              "      <th>HomePlanet</th>\n",
              "      <th>CryoSleep</th>\n",
              "      <th>Cabin</th>\n",
              "      <th>Destination</th>\n",
              "      <th>Age</th>\n",
              "      <th>VIP</th>\n",
              "      <th>RoomService</th>\n",
              "      <th>FoodCourt</th>\n",
              "      <th>ShoppingMall</th>\n",
              "      <th>Spa</th>\n",
              "      <th>VRDeck</th>\n",
              "      <th>Transported</th>\n",
              "    </tr>\n",
              "  </thead>\n",
              "  <tbody>\n",
              "    <tr>\n",
              "      <th>0</th>\n",
              "      <td>1</td>\n",
              "      <td>0</td>\n",
              "      <td>149</td>\n",
              "      <td>2</td>\n",
              "      <td>0.709437</td>\n",
              "      <td>0</td>\n",
              "      <td>0.0</td>\n",
              "      <td>0.0</td>\n",
              "      <td>0.0</td>\n",
              "      <td>0.0</td>\n",
              "      <td>0.0</td>\n",
              "      <td>0</td>\n",
              "    </tr>\n",
              "    <tr>\n",
              "      <th>1</th>\n",
              "      <td>0</td>\n",
              "      <td>0</td>\n",
              "      <td>2184</td>\n",
              "      <td>2</td>\n",
              "      <td>-0.336717</td>\n",
              "      <td>0</td>\n",
              "      <td>109.0</td>\n",
              "      <td>9.0</td>\n",
              "      <td>25.0</td>\n",
              "      <td>549.0</td>\n",
              "      <td>44.0</td>\n",
              "      <td>1</td>\n",
              "    </tr>\n",
              "    <tr>\n",
              "      <th>2</th>\n",
              "      <td>1</td>\n",
              "      <td>0</td>\n",
              "      <td>1</td>\n",
              "      <td>2</td>\n",
              "      <td>2.034566</td>\n",
              "      <td>1</td>\n",
              "      <td>43.0</td>\n",
              "      <td>3576.0</td>\n",
              "      <td>0.0</td>\n",
              "      <td>6715.0</td>\n",
              "      <td>49.0</td>\n",
              "      <td>0</td>\n",
              "    </tr>\n",
              "    <tr>\n",
              "      <th>3</th>\n",
              "      <td>1</td>\n",
              "      <td>0</td>\n",
              "      <td>1</td>\n",
              "      <td>2</td>\n",
              "      <td>0.290975</td>\n",
              "      <td>0</td>\n",
              "      <td>0.0</td>\n",
              "      <td>1283.0</td>\n",
              "      <td>371.0</td>\n",
              "      <td>3329.0</td>\n",
              "      <td>193.0</td>\n",
              "      <td>0</td>\n",
              "    </tr>\n",
              "    <tr>\n",
              "      <th>4</th>\n",
              "      <td>0</td>\n",
              "      <td>0</td>\n",
              "      <td>2186</td>\n",
              "      <td>2</td>\n",
              "      <td>-0.894666</td>\n",
              "      <td>0</td>\n",
              "      <td>303.0</td>\n",
              "      <td>70.0</td>\n",
              "      <td>151.0</td>\n",
              "      <td>565.0</td>\n",
              "      <td>2.0</td>\n",
              "      <td>1</td>\n",
              "    </tr>\n",
              "    <tr>\n",
              "      <th>...</th>\n",
              "      <td>...</td>\n",
              "      <td>...</td>\n",
              "      <td>...</td>\n",
              "      <td>...</td>\n",
              "      <td>...</td>\n",
              "      <td>...</td>\n",
              "      <td>...</td>\n",
              "      <td>...</td>\n",
              "      <td>...</td>\n",
              "      <td>...</td>\n",
              "      <td>...</td>\n",
              "      <td>...</td>\n",
              "    </tr>\n",
              "    <tr>\n",
              "      <th>8688</th>\n",
              "      <td>1</td>\n",
              "      <td>0</td>\n",
              "      <td>146</td>\n",
              "      <td>0</td>\n",
              "      <td>0.848924</td>\n",
              "      <td>1</td>\n",
              "      <td>0.0</td>\n",
              "      <td>6819.0</td>\n",
              "      <td>0.0</td>\n",
              "      <td>1643.0</td>\n",
              "      <td>74.0</td>\n",
              "      <td>0</td>\n",
              "    </tr>\n",
              "    <tr>\n",
              "      <th>8689</th>\n",
              "      <td>0</td>\n",
              "      <td>1</td>\n",
              "      <td>5280</td>\n",
              "      <td>1</td>\n",
              "      <td>-0.755179</td>\n",
              "      <td>0</td>\n",
              "      <td>0.0</td>\n",
              "      <td>0.0</td>\n",
              "      <td>0.0</td>\n",
              "      <td>0.0</td>\n",
              "      <td>0.0</td>\n",
              "      <td>0</td>\n",
              "    </tr>\n",
              "    <tr>\n",
              "      <th>8690</th>\n",
              "      <td>0</td>\n",
              "      <td>0</td>\n",
              "      <td>5285</td>\n",
              "      <td>2</td>\n",
              "      <td>-0.197230</td>\n",
              "      <td>0</td>\n",
              "      <td>0.0</td>\n",
              "      <td>0.0</td>\n",
              "      <td>1872.0</td>\n",
              "      <td>1.0</td>\n",
              "      <td>0.0</td>\n",
              "      <td>1</td>\n",
              "    </tr>\n",
              "    <tr>\n",
              "      <th>8691</th>\n",
              "      <td>1</td>\n",
              "      <td>0</td>\n",
              "      <td>2131</td>\n",
              "      <td>0</td>\n",
              "      <td>0.221232</td>\n",
              "      <td>0</td>\n",
              "      <td>0.0</td>\n",
              "      <td>1049.0</td>\n",
              "      <td>0.0</td>\n",
              "      <td>353.0</td>\n",
              "      <td>3235.0</td>\n",
              "      <td>0</td>\n",
              "    </tr>\n",
              "    <tr>\n",
              "      <th>8692</th>\n",
              "      <td>1</td>\n",
              "      <td>0</td>\n",
              "      <td>2131</td>\n",
              "      <td>2</td>\n",
              "      <td>1.058155</td>\n",
              "      <td>0</td>\n",
              "      <td>126.0</td>\n",
              "      <td>4688.0</td>\n",
              "      <td>0.0</td>\n",
              "      <td>0.0</td>\n",
              "      <td>12.0</td>\n",
              "      <td>1</td>\n",
              "    </tr>\n",
              "  </tbody>\n",
              "</table>\n",
              "<p>8693 rows × 12 columns</p>\n",
              "</div>\n",
              "      <button class=\"colab-df-convert\" onclick=\"convertToInteractive('df-58c639a0-5d4e-4a64-8df6-fa699e7dd3c6')\"\n",
              "              title=\"Convert this dataframe to an interactive table.\"\n",
              "              style=\"display:none;\">\n",
              "        \n",
              "  <svg xmlns=\"http://www.w3.org/2000/svg\" height=\"24px\"viewBox=\"0 0 24 24\"\n",
              "       width=\"24px\">\n",
              "    <path d=\"M0 0h24v24H0V0z\" fill=\"none\"/>\n",
              "    <path d=\"M18.56 5.44l.94 2.06.94-2.06 2.06-.94-2.06-.94-.94-2.06-.94 2.06-2.06.94zm-11 1L8.5 8.5l.94-2.06 2.06-.94-2.06-.94L8.5 2.5l-.94 2.06-2.06.94zm10 10l.94 2.06.94-2.06 2.06-.94-2.06-.94-.94-2.06-.94 2.06-2.06.94z\"/><path d=\"M17.41 7.96l-1.37-1.37c-.4-.4-.92-.59-1.43-.59-.52 0-1.04.2-1.43.59L10.3 9.45l-7.72 7.72c-.78.78-.78 2.05 0 2.83L4 21.41c.39.39.9.59 1.41.59.51 0 1.02-.2 1.41-.59l7.78-7.78 2.81-2.81c.8-.78.8-2.07 0-2.86zM5.41 20L4 18.59l7.72-7.72 1.47 1.35L5.41 20z\"/>\n",
              "  </svg>\n",
              "      </button>\n",
              "      \n",
              "  <style>\n",
              "    .colab-df-container {\n",
              "      display:flex;\n",
              "      flex-wrap:wrap;\n",
              "      gap: 12px;\n",
              "    }\n",
              "\n",
              "    .colab-df-convert {\n",
              "      background-color: #E8F0FE;\n",
              "      border: none;\n",
              "      border-radius: 50%;\n",
              "      cursor: pointer;\n",
              "      display: none;\n",
              "      fill: #1967D2;\n",
              "      height: 32px;\n",
              "      padding: 0 0 0 0;\n",
              "      width: 32px;\n",
              "    }\n",
              "\n",
              "    .colab-df-convert:hover {\n",
              "      background-color: #E2EBFA;\n",
              "      box-shadow: 0px 1px 2px rgba(60, 64, 67, 0.3), 0px 1px 3px 1px rgba(60, 64, 67, 0.15);\n",
              "      fill: #174EA6;\n",
              "    }\n",
              "\n",
              "    [theme=dark] .colab-df-convert {\n",
              "      background-color: #3B4455;\n",
              "      fill: #D2E3FC;\n",
              "    }\n",
              "\n",
              "    [theme=dark] .colab-df-convert:hover {\n",
              "      background-color: #434B5C;\n",
              "      box-shadow: 0px 1px 3px 1px rgba(0, 0, 0, 0.15);\n",
              "      filter: drop-shadow(0px 1px 2px rgba(0, 0, 0, 0.3));\n",
              "      fill: #FFFFFF;\n",
              "    }\n",
              "  </style>\n",
              "\n",
              "      <script>\n",
              "        const buttonEl =\n",
              "          document.querySelector('#df-58c639a0-5d4e-4a64-8df6-fa699e7dd3c6 button.colab-df-convert');\n",
              "        buttonEl.style.display =\n",
              "          google.colab.kernel.accessAllowed ? 'block' : 'none';\n",
              "\n",
              "        async function convertToInteractive(key) {\n",
              "          const element = document.querySelector('#df-58c639a0-5d4e-4a64-8df6-fa699e7dd3c6');\n",
              "          const dataTable =\n",
              "            await google.colab.kernel.invokeFunction('convertToInteractive',\n",
              "                                                     [key], {});\n",
              "          if (!dataTable) return;\n",
              "\n",
              "          const docLinkHtml = 'Like what you see? Visit the ' +\n",
              "            '<a target=\"_blank\" href=https://colab.research.google.com/notebooks/data_table.ipynb>data table notebook</a>'\n",
              "            + ' to learn more about interactive tables.';\n",
              "          element.innerHTML = '';\n",
              "          dataTable['output_type'] = 'display_data';\n",
              "          await google.colab.output.renderOutput(dataTable, element);\n",
              "          const docLink = document.createElement('div');\n",
              "          docLink.innerHTML = docLinkHtml;\n",
              "          element.appendChild(docLink);\n",
              "        }\n",
              "      </script>\n",
              "    </div>\n",
              "  </div>\n",
              "  "
            ]
          },
          "metadata": {},
          "execution_count": 521
        }
      ]
    },
    {
      "cell_type": "code",
      "source": [],
      "metadata": {
        "id": "hnG6jJY3fdlQ"
      },
      "execution_count": null,
      "outputs": []
    },
    {
      "cell_type": "code",
      "source": [
        "# Separate feature and target columns\n",
        "X = data[data.columns[:-1]].to_numpy()\n",
        "y = data[data.columns[-1]].to_numpy()"
      ],
      "metadata": {
        "id": "C7H7iJNnW4Fq"
      },
      "execution_count": 96,
      "outputs": []
    },
    {
      "cell_type": "code",
      "source": [
        "# Convert data to tensor\n",
        "X = torch.from_numpy(X).type(torch.float)\n",
        "y = torch.from_numpy(y).type(torch.float)"
      ],
      "metadata": {
        "id": "ubwlDmE-YtAB"
      },
      "execution_count": 97,
      "outputs": []
    },
    {
      "cell_type": "code",
      "source": [
        "# Split the training data into train and validation\n",
        "X_train, X_test, y_train, y_test = train_test_split(X, y, test_size=0.20, random_state = 42)\n",
        "X_val, X_test, y_val, y_test = train_test_split(X_test, y_test, test_size=0.50, random_state = 42)"
      ],
      "metadata": {
        "id": "ezi_RaehUQmd"
      },
      "execution_count": 98,
      "outputs": []
    },
    {
      "cell_type": "code",
      "source": [
        "# Create the model\n",
        "class TransportModel(nn.Module):\n",
        "  def __init__(self, input_features, hidden_units, output_features):\n",
        "    super().__init__()\n",
        "    self.layer = nn.Sequential(\n",
        "        nn.Linear(input_features, hidden_units),\n",
        "        nn.ReLU(),\n",
        "        nn.Linear(hidden_units, hidden_units),\n",
        "        nn.ReLU(),\n",
        "        nn.Linear(hidden_units, hidden_units),\n",
        "        nn.ReLU(),\n",
        "        nn.Linear(hidden_units, hidden_units),\n",
        "        nn.ReLU(),\n",
        "        nn.Linear(hidden_units, hidden_units),\n",
        "        nn.ReLU(),\n",
        "        nn.Linear(hidden_units, output_features)\n",
        "\n",
        "    )\n",
        "  def forward(self, x: torch.tensor):\n",
        "    return self.layer(x)"
      ],
      "metadata": {
        "id": "J_z--z5kXiL1"
      },
      "execution_count": 99,
      "outputs": []
    },
    {
      "cell_type": "code",
      "source": [
        "X.shape"
      ],
      "metadata": {
        "colab": {
          "base_uri": "https://localhost:8080/"
        },
        "id": "lnOr0jqgfXTw",
        "outputId": "271ae12b-12ee-4017-cc93-66c6a90de8c9"
      },
      "execution_count": null,
      "outputs": [
        {
          "output_type": "execute_result",
          "data": {
            "text/plain": [
              "torch.Size([8693, 11])"
            ]
          },
          "metadata": {},
          "execution_count": 526
        }
      ]
    },
    {
      "cell_type": "code",
      "source": [
        "# Initializing the model\n",
        "input_features = len(X[0,:])\n",
        "hidden_units = 32\n",
        "output_features = 1\n",
        "model = TransportModel(input_features, hidden_units, output_features)"
      ],
      "metadata": {
        "id": "Am8TcKp3XlVQ"
      },
      "execution_count": 100,
      "outputs": []
    },
    {
      "cell_type": "code",
      "source": [
        "# Set up the loss function and optimizer\n",
        "\n",
        "# Loss Function\n",
        "loss_fn = nn.BCEWithLogitsLoss()\n",
        "\n",
        "# Optimizer\n",
        "optimizer = torch.optim.Adam(model.parameters(), lr = 0.0001)"
      ],
      "metadata": {
        "id": "g5JVQkFgZaq3"
      },
      "execution_count": 101,
      "outputs": []
    },
    {
      "cell_type": "code",
      "source": [
        "# Train the model\n",
        "torch.manual_seed(42)\n",
        "torch.cuda.manual_seed(42)\n",
        "\n",
        "# Set up the parameters\n",
        "epochs = 2000\n",
        "epoch_number = []\n",
        "loss_values = []\n",
        "val_loss_values = []\n",
        "\n",
        "for epoch in range(epochs):\n",
        "  model.train()\n",
        "\n",
        "  # Forward step\n",
        "  y_logits = model(X_train).squeeze()\n",
        "  y_pred = torch.round(torch.sigmoid(y_logits))\n",
        "\n",
        "  # Calculate loss and accuracy\n",
        "  loss = loss_fn(y_logits, y_train)\n",
        "  acc = accuracy(y_pred, y_train)\n",
        "\n",
        "  # Optimizer zero grad\n",
        "  optimizer.zero_grad()\n",
        "\n",
        "  # Backpropagation\n",
        "  loss.backward()\n",
        "\n",
        "  # Optimizer step\n",
        "  optimizer.step()\n",
        "\n",
        "  # Evaluate model\n",
        "  model.eval()\n",
        "  with torch.inference_mode():\n",
        "    y_val_logits = model(X_val).squeeze()\n",
        "    y_val_pred = torch.round(torch.sigmoid(y_val_logits))\n",
        "    val_loss = loss_fn(y_val_logits, y_val)\n",
        "    val_acc = accuracy(y_val_pred, y_val)\n",
        "\n",
        "  if epoch % 100 == 0:\n",
        "    epoch_number.append(epoch)\n",
        "    loss_values.append(loss)\n",
        "    val_loss_values.append(val_loss)\n",
        "    print(f\"Epoch: {epoch} | Loss: {loss:.5f}, Acc: {acc:.2f} | Val Loss: {val_loss:.5f}, Val Acc: {val_acc:.2}\")"
      ],
      "metadata": {
        "colab": {
          "base_uri": "https://localhost:8080/"
        },
        "id": "jg18wvr5Z3iV",
        "outputId": "9d735789-d926-4914-cc18-39b58447b3a0"
      },
      "execution_count": 102,
      "outputs": [
        {
          "output_type": "stream",
          "name": "stdout",
          "text": [
            "Epoch: 0 | Loss: 1.59032, Acc: 0.52 | Val Loss: 1.46620, Val Acc: 0.52\n",
            "Epoch: 100 | Loss: 0.54122, Acc: 0.71 | Val Loss: 0.55093, Val Acc: 0.7\n",
            "Epoch: 200 | Loss: 0.52284, Acc: 0.75 | Val Loss: 0.53678, Val Acc: 0.74\n",
            "Epoch: 300 | Loss: 0.51539, Acc: 0.77 | Val Loss: 0.53298, Val Acc: 0.77\n",
            "Epoch: 400 | Loss: 0.50883, Acc: 0.79 | Val Loss: 0.52922, Val Acc: 0.78\n",
            "Epoch: 500 | Loss: 0.50231, Acc: 0.79 | Val Loss: 0.52546, Val Acc: 0.78\n",
            "Epoch: 600 | Loss: 0.48718, Acc: 0.79 | Val Loss: 0.51446, Val Acc: 0.77\n",
            "Epoch: 700 | Loss: 0.47605, Acc: 0.79 | Val Loss: 0.50860, Val Acc: 0.78\n",
            "Epoch: 800 | Loss: 0.46666, Acc: 0.79 | Val Loss: 0.50307, Val Acc: 0.78\n",
            "Epoch: 900 | Loss: 0.45947, Acc: 0.80 | Val Loss: 0.49850, Val Acc: 0.78\n",
            "Epoch: 1000 | Loss: 0.45437, Acc: 0.80 | Val Loss: 0.49610, Val Acc: 0.78\n",
            "Epoch: 1100 | Loss: 0.45020, Acc: 0.80 | Val Loss: 0.49351, Val Acc: 0.78\n",
            "Epoch: 1200 | Loss: 0.44649, Acc: 0.80 | Val Loss: 0.49212, Val Acc: 0.78\n",
            "Epoch: 1300 | Loss: 0.44319, Acc: 0.80 | Val Loss: 0.49174, Val Acc: 0.78\n",
            "Epoch: 1400 | Loss: 0.44024, Acc: 0.80 | Val Loss: 0.49146, Val Acc: 0.78\n",
            "Epoch: 1500 | Loss: 0.43738, Acc: 0.80 | Val Loss: 0.49134, Val Acc: 0.78\n",
            "Epoch: 1600 | Loss: 0.43476, Acc: 0.80 | Val Loss: 0.49208, Val Acc: 0.78\n",
            "Epoch: 1700 | Loss: 0.43223, Acc: 0.80 | Val Loss: 0.49387, Val Acc: 0.78\n",
            "Epoch: 1800 | Loss: 0.42969, Acc: 0.80 | Val Loss: 0.49604, Val Acc: 0.78\n",
            "Epoch: 1900 | Loss: 0.42739, Acc: 0.81 | Val Loss: 0.49798, Val Acc: 0.79\n"
          ]
        }
      ]
    },
    {
      "cell_type": "markdown",
      "source": [
        "### Visualize the results"
      ],
      "metadata": {
        "id": "RoKLA80AZ82h"
      }
    },
    {
      "cell_type": "code",
      "source": [
        "# Plot the training and test accuracies\n",
        "plt.plot(epoch_number, torch.tensor(loss_values).numpy(), label = \"Training Loss\")\n",
        "plt.plot(epoch_number, val_loss_values, label = \"Val Loss\")\n",
        "plt.legend()"
      ],
      "metadata": {
        "colab": {
          "base_uri": "https://localhost:8080/",
          "height": 282
        },
        "id": "7nSD66wAhjkD",
        "outputId": "0580cdac-372e-4bbd-fc22-4ec8f1465127"
      },
      "execution_count": 103,
      "outputs": [
        {
          "output_type": "execute_result",
          "data": {
            "text/plain": [
              "<matplotlib.legend.Legend at 0x7f0c4da1a430>"
            ]
          },
          "metadata": {},
          "execution_count": 103
        },
        {
          "output_type": "display_data",
          "data": {
            "text/plain": [
              "<Figure size 432x288 with 1 Axes>"
            ],
            "image/png": "[encoded data removed]"
          },
          "metadata": {
            "needs_background": "light"
          }
        }
      ]
    },
    {
      "cell_type": "code",
      "source": [
        "# Look at the test data\n",
        "model.eval()\n",
        "with torch.inference_mode():\n",
        "  y_logits = model(X_test).squeeze()\n",
        "  y_pred = torch.round(torch.sigmoid(y_logits))\n",
        "test_loss = loss_fn(y_logits, y_test)\n",
        "test_acc = accuracy(y_pred, y_test)\n",
        "print(f\"Test Loss: {test_loss:.5f} Test Acc: {test_acc:.2f}\")"
      ],
      "metadata": {
        "id": "4iA6wxtXh_Ij",
        "colab": {
          "base_uri": "https://localhost:8080/"
        },
        "outputId": "75bc9c8f-6310-4bfc-aae5-6e7ab82d256d"
      },
      "execution_count": 104,
      "outputs": [
        {
          "output_type": "stream",
          "name": "stdout",
          "text": [
            "Test Loss: 0.51331 Test Acc: 0.76\n"
          ]
        }
      ]
    },
    {
      "cell_type": "code",
      "source": [
        "# Process the test data\n",
        "test_df = initial_data_processing(test)\n",
        "test = torch.from_numpy(test_df.to_numpy()).type(torch.float)"
      ],
      "metadata": {
        "id": "F0VHqHSaRZzc"
      },
      "execution_count": 105,
      "outputs": []
    },
    {
      "cell_type": "code",
      "source": [
        "test_df"
      ],
      "metadata": {
        "colab": {
          "base_uri": "https://localhost:8080/",
          "height": 574
        },
        "id": "5HcFO8ihfNus",
        "outputId": "92b0cd11-5535-4da5-d999-a96a7d74d046"
      },
      "execution_count": null,
      "outputs": [
        {
          "output_type": "execute_result",
          "data": {
            "text/plain": [
              "      HomePlanet  CryoSleep  Cabin  Destination           Age  VIP  \\\n",
              "0              0          1   2784            2 -1.182216e-01    0   \n",
              "1              0          0   1867            2 -6.886014e-01    0   \n",
              "2              1          1    257            0  1.669682e-01    0   \n",
              "3              1          0    259            2  6.660505e-01    0   \n",
              "4              0          0   1940            2 -6.173039e-01    0   \n",
              "...          ...        ...    ...          ...           ...  ...   \n",
              "4272           0          1   2679            2  3.808606e-01    0   \n",
              "4273           0          0   2691            2  9.512404e-01    0   \n",
              "4274           2          1    602            0 -2.532995e-16    0   \n",
              "4275           1          0    603            2 -2.532995e-16    0   \n",
              "4276           0          1   2680            1  1.022538e+00    0   \n",
              "\n",
              "      RoomService  FoodCourt  ShoppingMall     Spa  VRDeck  \n",
              "0             0.0        0.0           0.0     0.0     0.0  \n",
              "1             0.0        9.0           0.0  2823.0     0.0  \n",
              "2             0.0        0.0           0.0     0.0     0.0  \n",
              "3             0.0     6652.0           0.0   181.0   585.0  \n",
              "4            10.0        0.0         635.0     0.0     0.0  \n",
              "...           ...        ...           ...     ...     ...  \n",
              "4272          0.0        0.0           0.0     0.0     0.0  \n",
              "4273          0.0      847.0          17.0    10.0   144.0  \n",
              "4274          0.0        0.0           0.0     0.0     0.0  \n",
              "4275          0.0     2680.0           0.0     0.0   523.0  \n",
              "4276          0.0        0.0           0.0     0.0     0.0  \n",
              "\n",
              "[4277 rows x 11 columns]"
            ],
            "text/html": [
              "\n",
              "  <div id=\"df-a20f4af5-2c2e-4169-a975-8726d2e8c56c\">\n",
              "    <div class=\"colab-df-container\">\n",
              "      <div>\n",
              "<style scoped>\n",
              "    .dataframe tbody tr th:only-of-type {\n",
              "        vertical-align: middle;\n",
              "    }\n",
              "\n",
              "    .dataframe tbody tr th {\n",
              "        vertical-align: top;\n",
              "    }\n",
              "\n",
              "    .dataframe thead th {\n",
              "        text-align: right;\n",
              "    }\n",
              "</style>\n",
              "<table border=\"1\" class=\"dataframe\">\n",
              "  <thead>\n",
              "    <tr style=\"text-align: right;\">\n",
              "      <th></th>\n",
              "      <th>HomePlanet</th>\n",
              "      <th>CryoSleep</th>\n",
              "      <th>Cabin</th>\n",
              "      <th>Destination</th>\n",
              "      <th>Age</th>\n",
              "      <th>VIP</th>\n",
              "      <th>RoomService</th>\n",
              "      <th>FoodCourt</th>\n",
              "      <th>ShoppingMall</th>\n",
              "      <th>Spa</th>\n",
              "      <th>VRDeck</th>\n",
              "    </tr>\n",
              "  </thead>\n",
              "  <tbody>\n",
              "    <tr>\n",
              "      <th>0</th>\n",
              "      <td>0</td>\n",
              "      <td>1</td>\n",
              "      <td>2784</td>\n",
              "      <td>2</td>\n",
              "      <td>-1.182216e-01</td>\n",
              "      <td>0</td>\n",
              "      <td>0.0</td>\n",
              "      <td>0.0</td>\n",
              "      <td>0.0</td>\n",
              "      <td>0.0</td>\n",
              "      <td>0.0</td>\n",
              "    </tr>\n",
              "    <tr>\n",
              "      <th>1</th>\n",
              "      <td>0</td>\n",
              "      <td>0</td>\n",
              "      <td>1867</td>\n",
              "      <td>2</td>\n",
              "      <td>-6.886014e-01</td>\n",
              "      <td>0</td>\n",
              "      <td>0.0</td>\n",
              "      <td>9.0</td>\n",
              "      <td>0.0</td>\n",
              "      <td>2823.0</td>\n",
              "      <td>0.0</td>\n",
              "    </tr>\n",
              "    <tr>\n",
              "      <th>2</th>\n",
              "      <td>1</td>\n",
              "      <td>1</td>\n",
              "      <td>257</td>\n",
              "      <td>0</td>\n",
              "      <td>1.669682e-01</td>\n",
              "      <td>0</td>\n",
              "      <td>0.0</td>\n",
              "      <td>0.0</td>\n",
              "      <td>0.0</td>\n",
              "      <td>0.0</td>\n",
              "      <td>0.0</td>\n",
              "    </tr>\n",
              "    <tr>\n",
              "      <th>3</th>\n",
              "      <td>1</td>\n",
              "      <td>0</td>\n",
              "      <td>259</td>\n",
              "      <td>2</td>\n",
              "      <td>6.660505e-01</td>\n",
              "      <td>0</td>\n",
              "      <td>0.0</td>\n",
              "      <td>6652.0</td>\n",
              "      <td>0.0</td>\n",
              "      <td>181.0</td>\n",
              "      <td>585.0</td>\n",
              "    </tr>\n",
              "    <tr>\n",
              "      <th>4</th>\n",
              "      <td>0</td>\n",
              "      <td>0</td>\n",
              "      <td>1940</td>\n",
              "      <td>2</td>\n",
              "      <td>-6.173039e-01</td>\n",
              "      <td>0</td>\n",
              "      <td>10.0</td>\n",
              "      <td>0.0</td>\n",
              "      <td>635.0</td>\n",
              "      <td>0.0</td>\n",
              "      <td>0.0</td>\n",
              "    </tr>\n",
              "    <tr>\n",
              "      <th>...</th>\n",
              "      <td>...</td>\n",
              "      <td>...</td>\n",
              "      <td>...</td>\n",
              "      <td>...</td>\n",
              "      <td>...</td>\n",
              "      <td>...</td>\n",
              "      <td>...</td>\n",
              "      <td>...</td>\n",
              "      <td>...</td>\n",
              "      <td>...</td>\n",
              "      <td>...</td>\n",
              "    </tr>\n",
              "    <tr>\n",
              "      <th>4272</th>\n",
              "      <td>0</td>\n",
              "      <td>1</td>\n",
              "      <td>2679</td>\n",
              "      <td>2</td>\n",
              "      <td>3.808606e-01</td>\n",
              "      <td>0</td>\n",
              "      <td>0.0</td>\n",
              "      <td>0.0</td>\n",
              "      <td>0.0</td>\n",
              "      <td>0.0</td>\n",
              "      <td>0.0</td>\n",
              "    </tr>\n",
              "    <tr>\n",
              "      <th>4273</th>\n",
              "      <td>0</td>\n",
              "      <td>0</td>\n",
              "      <td>2691</td>\n",
              "      <td>2</td>\n",
              "      <td>9.512404e-01</td>\n",
              "      <td>0</td>\n",
              "      <td>0.0</td>\n",
              "      <td>847.0</td>\n",
              "      <td>17.0</td>\n",
              "      <td>10.0</td>\n",
              "      <td>144.0</td>\n",
              "    </tr>\n",
              "    <tr>\n",
              "      <th>4274</th>\n",
              "      <td>2</td>\n",
              "      <td>1</td>\n",
              "      <td>602</td>\n",
              "      <td>0</td>\n",
              "      <td>-2.532995e-16</td>\n",
              "      <td>0</td>\n",
              "      <td>0.0</td>\n",
              "      <td>0.0</td>\n",
              "      <td>0.0</td>\n",
              "      <td>0.0</td>\n",
              "      <td>0.0</td>\n",
              "    </tr>\n",
              "    <tr>\n",
              "      <th>4275</th>\n",
              "      <td>1</td>\n",
              "      <td>0</td>\n",
              "      <td>603</td>\n",
              "      <td>2</td>\n",
              "      <td>-2.532995e-16</td>\n",
              "      <td>0</td>\n",
              "      <td>0.0</td>\n",
              "      <td>2680.0</td>\n",
              "      <td>0.0</td>\n",
              "      <td>0.0</td>\n",
              "      <td>523.0</td>\n",
              "    </tr>\n",
              "    <tr>\n",
              "      <th>4276</th>\n",
              "      <td>0</td>\n",
              "      <td>1</td>\n",
              "      <td>2680</td>\n",
              "      <td>1</td>\n",
              "      <td>1.022538e+00</td>\n",
              "      <td>0</td>\n",
              "      <td>0.0</td>\n",
              "      <td>0.0</td>\n",
              "      <td>0.0</td>\n",
              "      <td>0.0</td>\n",
              "      <td>0.0</td>\n",
              "    </tr>\n",
              "  </tbody>\n",
              "</table>\n",
              "<p>4277 rows × 11 columns</p>\n",
              "</div>\n",
              "      <button class=\"colab-df-convert\" onclick=\"convertToInteractive('df-a20f4af5-2c2e-4169-a975-8726d2e8c56c')\"\n",
              "              title=\"Convert this dataframe to an interactive table.\"\n",
              "              style=\"display:none;\">\n",
              "        \n",
              "  <svg xmlns=\"http://www.w3.org/2000/svg\" height=\"24px\"viewBox=\"0 0 24 24\"\n",
              "       width=\"24px\">\n",
              "    <path d=\"M0 0h24v24H0V0z\" fill=\"none\"/>\n",
              "    <path d=\"M18.56 5.44l.94 2.06.94-2.06 2.06-.94-2.06-.94-.94-2.06-.94 2.06-2.06.94zm-11 1L8.5 8.5l.94-2.06 2.06-.94-2.06-.94L8.5 2.5l-.94 2.06-2.06.94zm10 10l.94 2.06.94-2.06 2.06-.94-2.06-.94-.94-2.06-.94 2.06-2.06.94z\"/><path d=\"M17.41 7.96l-1.37-1.37c-.4-.4-.92-.59-1.43-.59-.52 0-1.04.2-1.43.59L10.3 9.45l-7.72 7.72c-.78.78-.78 2.05 0 2.83L4 21.41c.39.39.9.59 1.41.59.51 0 1.02-.2 1.41-.59l7.78-7.78 2.81-2.81c.8-.78.8-2.07 0-2.86zM5.41 20L4 18.59l7.72-7.72 1.47 1.35L5.41 20z\"/>\n",
              "  </svg>\n",
              "      </button>\n",
              "      \n",
              "  <style>\n",
              "    .colab-df-container {\n",
              "      display:flex;\n",
              "      flex-wrap:wrap;\n",
              "      gap: 12px;\n",
              "    }\n",
              "\n",
              "    .colab-df-convert {\n",
              "      background-color: #E8F0FE;\n",
              "      border: none;\n",
              "      border-radius: 50%;\n",
              "      cursor: pointer;\n",
              "      display: none;\n",
              "      fill: #1967D2;\n",
              "      height: 32px;\n",
              "      padding: 0 0 0 0;\n",
              "      width: 32px;\n",
              "    }\n",
              "\n",
              "    .colab-df-convert:hover {\n",
              "      background-color: #E2EBFA;\n",
              "      box-shadow: 0px 1px 2px rgba(60, 64, 67, 0.3), 0px 1px 3px 1px rgba(60, 64, 67, 0.15);\n",
              "      fill: #174EA6;\n",
              "    }\n",
              "\n",
              "    [theme=dark] .colab-df-convert {\n",
              "      background-color: #3B4455;\n",
              "      fill: #D2E3FC;\n",
              "    }\n",
              "\n",
              "    [theme=dark] .colab-df-convert:hover {\n",
              "      background-color: #434B5C;\n",
              "      box-shadow: 0px 1px 3px 1px rgba(0, 0, 0, 0.15);\n",
              "      filter: drop-shadow(0px 1px 2px rgba(0, 0, 0, 0.3));\n",
              "      fill: #FFFFFF;\n",
              "    }\n",
              "  </style>\n",
              "\n",
              "      <script>\n",
              "        const buttonEl =\n",
              "          document.querySelector('#df-a20f4af5-2c2e-4169-a975-8726d2e8c56c button.colab-df-convert');\n",
              "        buttonEl.style.display =\n",
              "          google.colab.kernel.accessAllowed ? 'block' : 'none';\n",
              "\n",
              "        async function convertToInteractive(key) {\n",
              "          const element = document.querySelector('#df-a20f4af5-2c2e-4169-a975-8726d2e8c56c');\n",
              "          const dataTable =\n",
              "            await google.colab.kernel.invokeFunction('convertToInteractive',\n",
              "                                                     [key], {});\n",
              "          if (!dataTable) return;\n",
              "\n",
              "          const docLinkHtml = 'Like what you see? Visit the ' +\n",
              "            '<a target=\"_blank\" href=https://colab.research.google.com/notebooks/data_table.ipynb>data table notebook</a>'\n",
              "            + ' to learn more about interactive tables.';\n",
              "          element.innerHTML = '';\n",
              "          dataTable['output_type'] = 'display_data';\n",
              "          await google.colab.output.renderOutput(dataTable, element);\n",
              "          const docLink = document.createElement('div');\n",
              "          docLink.innerHTML = docLinkHtml;\n",
              "          element.appendChild(docLink);\n",
              "        }\n",
              "      </script>\n",
              "    </div>\n",
              "  </div>\n",
              "  "
            ]
          },
          "metadata": {},
          "execution_count": 533
        }
      ]
    },
    {
      "cell_type": "code",
      "source": [
        "data.shape"
      ],
      "metadata": {
        "colab": {
          "base_uri": "https://localhost:8080/"
        },
        "id": "fwP-r9PFfPFc",
        "outputId": "899e27db-5f15-4ead-c2ff-c9bf2475929b"
      },
      "execution_count": null,
      "outputs": [
        {
          "output_type": "execute_result",
          "data": {
            "text/plain": [
              "(8693, 12)"
            ]
          },
          "metadata": {},
          "execution_count": 534
        }
      ]
    },
    {
      "cell_type": "code",
      "source": [
        "# Make predictions on the real test data\n",
        "model.eval()\n",
        "with torch.inference_mode():\n",
        "  test_logits = model(test).squeeze()\n",
        "  test_pred = torch.round(torch.sigmoid(test_logits))"
      ],
      "metadata": {
        "id": "EVT8AZo3Zfno"
      },
      "execution_count": 106,
      "outputs": []
    },
    {
      "cell_type": "code",
      "source": [
        "submission_df = pd.DataFrame({\"PassengerId\":test_passenger, \"Transported\":test_pred})\n",
        "transport_mapping = {1.0: True, 0.0:False}\n",
        "submission_df[\"Transported\"] = submission_df[\"Transported\"].map(transport_mapping)\n",
        "submission_df"
      ],
      "metadata": {
        "colab": {
          "base_uri": "https://localhost:8080/",
          "height": 423
        },
        "id": "NEzATAhldS5X",
        "outputId": "539b1989-1e2f-4efd-9438-e11829311faf"
      },
      "execution_count": 107,
      "outputs": [
        {
          "output_type": "execute_result",
          "data": {
            "text/plain": [
              "     PassengerId  Transported\n",
              "0        0013_01         True\n",
              "1        0018_01        False\n",
              "2        0019_01         True\n",
              "3        0021_01         True\n",
              "4        0023_01         True\n",
              "...          ...          ...\n",
              "4272     9266_02         True\n",
              "4273     9269_01        False\n",
              "4274     9271_01         True\n",
              "4275     9273_01         True\n",
              "4276     9277_01         True\n",
              "\n",
              "[4277 rows x 2 columns]"
            ],
            "text/html": [
              "\n",
              "  <div id=\"df-b6a8d091-0170-41c5-8524-cb00d3f7c608\">\n",
              "    <div class=\"colab-df-container\">\n",
              "      <div>\n",
              "<style scoped>\n",
              "    .dataframe tbody tr th:only-of-type {\n",
              "        vertical-align: middle;\n",
              "    }\n",
              "\n",
              "    .dataframe tbody tr th {\n",
              "        vertical-align: top;\n",
              "    }\n",
              "\n",
              "    .dataframe thead th {\n",
              "        text-align: right;\n",
              "    }\n",
              "</style>\n",
              "<table border=\"1\" class=\"dataframe\">\n",
              "  <thead>\n",
              "    <tr style=\"text-align: right;\">\n",
              "      <th></th>\n",
              "      <th>PassengerId</th>\n",
              "      <th>Transported</th>\n",
              "    </tr>\n",
              "  </thead>\n",
              "  <tbody>\n",
              "    <tr>\n",
              "      <th>0</th>\n",
              "      <td>0013_01</td>\n",
              "      <td>True</td>\n",
              "    </tr>\n",
              "    <tr>\n",
              "      <th>1</th>\n",
              "      <td>0018_01</td>\n",
              "      <td>False</td>\n",
              "    </tr>\n",
              "    <tr>\n",
              "      <th>2</th>\n",
              "      <td>0019_01</td>\n",
              "      <td>True</td>\n",
              "    </tr>\n",
              "    <tr>\n",
              "      <th>3</th>\n",
              "      <td>0021_01</td>\n",
              "      <td>True</td>\n",
              "    </tr>\n",
              "    <tr>\n",
              "      <th>4</th>\n",
              "      <td>0023_01</td>\n",
              "      <td>True</td>\n",
              "    </tr>\n",
              "    <tr>\n",
              "      <th>...</th>\n",
              "      <td>...</td>\n",
              "      <td>...</td>\n",
              "    </tr>\n",
              "    <tr>\n",
              "      <th>4272</th>\n",
              "      <td>9266_02</td>\n",
              "      <td>True</td>\n",
              "    </tr>\n",
              "    <tr>\n",
              "      <th>4273</th>\n",
              "      <td>9269_01</td>\n",
              "      <td>False</td>\n",
              "    </tr>\n",
              "    <tr>\n",
              "      <th>4274</th>\n",
              "      <td>9271_01</td>\n",
              "      <td>True</td>\n",
              "    </tr>\n",
              "    <tr>\n",
              "      <th>4275</th>\n",
              "      <td>9273_01</td>\n",
              "      <td>True</td>\n",
              "    </tr>\n",
              "    <tr>\n",
              "      <th>4276</th>\n",
              "      <td>9277_01</td>\n",
              "      <td>True</td>\n",
              "    </tr>\n",
              "  </tbody>\n",
              "</table>\n",
              "<p>4277 rows × 2 columns</p>\n",
              "</div>\n",
              "      <button class=\"colab-df-convert\" onclick=\"convertToInteractive('df-b6a8d091-0170-41c5-8524-cb00d3f7c608')\"\n",
              "              title=\"Convert this dataframe to an interactive table.\"\n",
              "              style=\"display:none;\">\n",
              "        \n",
              "  <svg xmlns=\"http://www.w3.org/2000/svg\" height=\"24px\"viewBox=\"0 0 24 24\"\n",
              "       width=\"24px\">\n",
              "    <path d=\"M0 0h24v24H0V0z\" fill=\"none\"/>\n",
              "    <path d=\"M18.56 5.44l.94 2.06.94-2.06 2.06-.94-2.06-.94-.94-2.06-.94 2.06-2.06.94zm-11 1L8.5 8.5l.94-2.06 2.06-.94-2.06-.94L8.5 2.5l-.94 2.06-2.06.94zm10 10l.94 2.06.94-2.06 2.06-.94-2.06-.94-.94-2.06-.94 2.06-2.06.94z\"/><path d=\"M17.41 7.96l-1.37-1.37c-.4-.4-.92-.59-1.43-.59-.52 0-1.04.2-1.43.59L10.3 9.45l-7.72 7.72c-.78.78-.78 2.05 0 2.83L4 21.41c.39.39.9.59 1.41.59.51 0 1.02-.2 1.41-.59l7.78-7.78 2.81-2.81c.8-.78.8-2.07 0-2.86zM5.41 20L4 18.59l7.72-7.72 1.47 1.35L5.41 20z\"/>\n",
              "  </svg>\n",
              "      </button>\n",
              "      \n",
              "  <style>\n",
              "    .colab-df-container {\n",
              "      display:flex;\n",
              "      flex-wrap:wrap;\n",
              "      gap: 12px;\n",
              "    }\n",
              "\n",
              "    .colab-df-convert {\n",
              "      background-color: #E8F0FE;\n",
              "      border: none;\n",
              "      border-radius: 50%;\n",
              "      cursor: pointer;\n",
              "      display: none;\n",
              "      fill: #1967D2;\n",
              "      height: 32px;\n",
              "      padding: 0 0 0 0;\n",
              "      width: 32px;\n",
              "    }\n",
              "\n",
              "    .colab-df-convert:hover {\n",
              "      background-color: #E2EBFA;\n",
              "      box-shadow: 0px 1px 2px rgba(60, 64, 67, 0.3), 0px 1px 3px 1px rgba(60, 64, 67, 0.15);\n",
              "      fill: #174EA6;\n",
              "    }\n",
              "\n",
              "    [theme=dark] .colab-df-convert {\n",
              "      background-color: #3B4455;\n",
              "      fill: #D2E3FC;\n",
              "    }\n",
              "\n",
              "    [theme=dark] .colab-df-convert:hover {\n",
              "      background-color: #434B5C;\n",
              "      box-shadow: 0px 1px 3px 1px rgba(0, 0, 0, 0.15);\n",
              "      filter: drop-shadow(0px 1px 2px rgba(0, 0, 0, 0.3));\n",
              "      fill: #FFFFFF;\n",
              "    }\n",
              "  </style>\n",
              "\n",
              "      <script>\n",
              "        const buttonEl =\n",
              "          document.querySelector('#df-b6a8d091-0170-41c5-8524-cb00d3f7c608 button.colab-df-convert');\n",
              "        buttonEl.style.display =\n",
              "          google.colab.kernel.accessAllowed ? 'block' : 'none';\n",
              "\n",
              "        async function convertToInteractive(key) {\n",
              "          const element = document.querySelector('#df-b6a8d091-0170-41c5-8524-cb00d3f7c608');\n",
              "          const dataTable =\n",
              "            await google.colab.kernel.invokeFunction('convertToInteractive',\n",
              "                                                     [key], {});\n",
              "          if (!dataTable) return;\n",
              "\n",
              "          const docLinkHtml = 'Like what you see? Visit the ' +\n",
              "            '<a target=\"_blank\" href=https://colab.research.google.com/notebooks/data_table.ipynb>data table notebook</a>'\n",
              "            + ' to learn more about interactive tables.';\n",
              "          element.innerHTML = '';\n",
              "          dataTable['output_type'] = 'display_data';\n",
              "          await google.colab.output.renderOutput(dataTable, element);\n",
              "          const docLink = document.createElement('div');\n",
              "          docLink.innerHTML = docLinkHtml;\n",
              "          element.appendChild(docLink);\n",
              "        }\n",
              "      </script>\n",
              "    </div>\n",
              "  </div>\n",
              "  "
            ]
          },
          "metadata": {},
          "execution_count": 107
        }
      ]
    },
    {
      "cell_type": "code",
      "source": [
        "submission_df.to_csv(\"submission.csv\", columns = [\"PassengerId\", \"Transported\"], index = False)"
      ],
      "metadata": {
        "id": "HMRRS8qgdUIW"
      },
      "execution_count": null,
      "outputs": []
    },
    {
      "cell_type": "code",
      "source": [],
      "metadata": {
        "id": "Z_uD8Csohnc_"
      },
      "execution_count": null,
      "outputs": []
    }
  ]
}